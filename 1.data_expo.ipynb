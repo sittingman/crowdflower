{
 "cells": [
  {
   "cell_type": "code",
   "execution_count": 1,
   "metadata": {
    "ExecuteTime": {
     "end_time": "2020-10-02T03:51:46.635525Z",
     "start_time": "2020-10-02T03:51:43.636985Z"
    },
    "execution": {
     "iopub.execute_input": "2020-10-04T21:54:54.097152Z",
     "iopub.status.busy": "2020-10-04T21:54:54.097152Z",
     "iopub.status.idle": "2020-10-04T21:54:58.385279Z",
     "shell.execute_reply": "2020-10-04T21:54:58.385279Z",
     "shell.execute_reply.started": "2020-10-04T21:54:54.097152Z"
    }
   },
   "outputs": [],
   "source": [
    "import pickle\n",
    "import re\n",
    "import warnings\n",
    "import spacy\n",
    "from spacy.lang.en import English\n",
    "from collections import Counter, OrderedDict\n",
    "import string\n",
    "import swifter\n",
    "import matplotlib.pyplot as plt\n",
    "import nltk\n",
    "from nltk.stem import WordNetLemmatizer\n",
    "import numpy as np\n",
    "import pandas as pd\n",
    "import seaborn as sns\n",
    "from fuzzywuzzy import fuzz, process\n",
    "from nltk.corpus import stopwords\n",
    "from nltk.stem import PorterStemmer\n",
    "from nltk.tokenize import word_tokenize\n",
    "from sklearn.feature_extraction.text import TfidfVectorizer\n",
    "\n",
    "# nltk.download('stopwords')\n",
    "# nltk.download('punkt')\n",
    "# nltk.download('wordnet')\n",
    "stop = stopwords.words('english')\n",
    "warnings.simplefilter(action='ignore', category=FutureWarning)"
   ]
  },
  {
   "cell_type": "code",
   "execution_count": 2,
   "metadata": {
    "ExecuteTime": {
     "end_time": "2020-10-02T03:51:46.747252Z",
     "start_time": "2020-10-02T03:51:46.684395Z"
    },
    "execution": {
     "iopub.execute_input": "2020-10-04T21:54:58.386276Z",
     "iopub.status.busy": "2020-10-04T21:54:58.386276Z",
     "iopub.status.idle": "2020-10-04T21:54:58.463071Z",
     "shell.execute_reply": "2020-10-04T21:54:58.463071Z",
     "shell.execute_reply.started": "2020-10-04T21:54:58.386276Z"
    }
   },
   "outputs": [],
   "source": [
    "df = pd.read_csv('./data/train.csv')"
   ]
  },
  {
   "cell_type": "code",
   "execution_count": 3,
   "metadata": {
    "execution": {
     "iopub.execute_input": "2020-10-04T21:54:58.466064Z",
     "iopub.status.busy": "2020-10-04T21:54:58.466064Z",
     "iopub.status.idle": "2020-10-04T21:54:58.479028Z",
     "shell.execute_reply": "2020-10-04T21:54:58.479028Z",
     "shell.execute_reply.started": "2020-10-04T21:54:58.466064Z"
    },
    "scrolled": true
   },
   "outputs": [
    {
     "data": {
      "text/plain": [
       "(10158, 6)"
      ]
     },
     "execution_count": 3,
     "metadata": {},
     "output_type": "execute_result"
    }
   ],
   "source": [
    "df.shape"
   ]
  },
  {
   "cell_type": "code",
   "execution_count": 4,
   "metadata": {
    "execution": {
     "iopub.execute_input": "2020-10-04T21:54:58.480026Z",
     "iopub.status.busy": "2020-10-04T21:54:58.480026Z",
     "iopub.status.idle": "2020-10-04T21:54:58.508950Z",
     "shell.execute_reply": "2020-10-04T21:54:58.508950Z",
     "shell.execute_reply.started": "2020-10-04T21:54:58.480026Z"
    }
   },
   "outputs": [
    {
     "data": {
      "text/html": [
       "<div>\n",
       "<style scoped>\n",
       "    .dataframe tbody tr th:only-of-type {\n",
       "        vertical-align: middle;\n",
       "    }\n",
       "\n",
       "    .dataframe tbody tr th {\n",
       "        vertical-align: top;\n",
       "    }\n",
       "\n",
       "    .dataframe thead th {\n",
       "        text-align: right;\n",
       "    }\n",
       "</style>\n",
       "<table border=\"1\" class=\"dataframe\">\n",
       "  <thead>\n",
       "    <tr style=\"text-align: right;\">\n",
       "      <th></th>\n",
       "      <th>id</th>\n",
       "      <th>query</th>\n",
       "      <th>product_title</th>\n",
       "      <th>product_description</th>\n",
       "      <th>median_relevance</th>\n",
       "      <th>relevance_variance</th>\n",
       "    </tr>\n",
       "  </thead>\n",
       "  <tbody>\n",
       "    <tr>\n",
       "      <th>0</th>\n",
       "      <td>1</td>\n",
       "      <td>bridal shower decorations</td>\n",
       "      <td>Accent Pillow with Heart Design - Red/Black</td>\n",
       "      <td>Red satin accent pillow embroidered with a hea...</td>\n",
       "      <td>1</td>\n",
       "      <td>0.000</td>\n",
       "    </tr>\n",
       "    <tr>\n",
       "      <th>1</th>\n",
       "      <td>2</td>\n",
       "      <td>led christmas lights</td>\n",
       "      <td>Set of 10 Battery Operated Multi LED Train Chr...</td>\n",
       "      <td>Set of 10 Battery Operated Train Christmas Lig...</td>\n",
       "      <td>4</td>\n",
       "      <td>0.000</td>\n",
       "    </tr>\n",
       "    <tr>\n",
       "      <th>2</th>\n",
       "      <td>4</td>\n",
       "      <td>projector</td>\n",
       "      <td>ViewSonic Pro8200 DLP Multimedia Projector</td>\n",
       "      <td>NaN</td>\n",
       "      <td>4</td>\n",
       "      <td>0.471</td>\n",
       "    </tr>\n",
       "    <tr>\n",
       "      <th>3</th>\n",
       "      <td>5</td>\n",
       "      <td>wine rack</td>\n",
       "      <td>Concept Housewares WR-44526 Solid-Wood Ceiling...</td>\n",
       "      <td>Like a silent and sturdy tree, the Southern En...</td>\n",
       "      <td>4</td>\n",
       "      <td>0.000</td>\n",
       "    </tr>\n",
       "    <tr>\n",
       "      <th>4</th>\n",
       "      <td>7</td>\n",
       "      <td>light bulb</td>\n",
       "      <td>Wintergreen Lighting Christmas LED Light Bulb ...</td>\n",
       "      <td>WTGR1011\\nFeatures\\nNickel base, 60,000 averag...</td>\n",
       "      <td>2</td>\n",
       "      <td>0.471</td>\n",
       "    </tr>\n",
       "  </tbody>\n",
       "</table>\n",
       "</div>"
      ],
      "text/plain": [
       "   id                      query  \\\n",
       "0   1  bridal shower decorations   \n",
       "1   2       led christmas lights   \n",
       "2   4                  projector   \n",
       "3   5                  wine rack   \n",
       "4   7                 light bulb   \n",
       "\n",
       "                                       product_title  \\\n",
       "0        Accent Pillow with Heart Design - Red/Black   \n",
       "1  Set of 10 Battery Operated Multi LED Train Chr...   \n",
       "2         ViewSonic Pro8200 DLP Multimedia Projector   \n",
       "3  Concept Housewares WR-44526 Solid-Wood Ceiling...   \n",
       "4  Wintergreen Lighting Christmas LED Light Bulb ...   \n",
       "\n",
       "                                 product_description  median_relevance  \\\n",
       "0  Red satin accent pillow embroidered with a hea...                 1   \n",
       "1  Set of 10 Battery Operated Train Christmas Lig...                 4   \n",
       "2                                                NaN                 4   \n",
       "3  Like a silent and sturdy tree, the Southern En...                 4   \n",
       "4  WTGR1011\\nFeatures\\nNickel base, 60,000 averag...                 2   \n",
       "\n",
       "   relevance_variance  \n",
       "0               0.000  \n",
       "1               0.000  \n",
       "2               0.471  \n",
       "3               0.000  \n",
       "4               0.471  "
      ]
     },
     "execution_count": 4,
     "metadata": {},
     "output_type": "execute_result"
    }
   ],
   "source": [
    "df.head()"
   ]
  },
  {
   "cell_type": "markdown",
   "metadata": {},
   "source": [
    "# Data Preprocessing Steps\n",
    "- remove stop words, numeric values, and punctuation\n",
    "- lmmetize\n",
    "- tokenize\n",
    "- tfdif\n",
    "- obtain simiarlity scores"
   ]
  },
  {
   "cell_type": "code",
   "execution_count": 5,
   "metadata": {
    "ExecuteTime": {
     "end_time": "2020-10-02T03:51:48.128061Z",
     "start_time": "2020-10-02T03:51:46.796097Z"
    },
    "execution": {
     "iopub.execute_input": "2020-10-04T21:54:58.509947Z",
     "iopub.status.busy": "2020-10-04T21:54:58.509947Z",
     "iopub.status.idle": "2020-10-04T21:54:59.895811Z",
     "shell.execute_reply": "2020-10-04T21:54:59.895136Z",
     "shell.execute_reply.started": "2020-10-04T21:54:58.509947Z"
    }
   },
   "outputs": [],
   "source": [
    "# remove stop words, numbers, and punctuation\n",
    "\n",
    "df['prod_clean'] = df['product_title'].str.lower().apply(\n",
    "    lambda x: ' '.join([word for word in x.split() if word not in (stop)]))\n",
    "df['prod_clean'] = df['prod_clean'].apply(\n",
    "    lambda x: x.strip(string.punctuation))\n",
    "df['prod_clean'] = df['prod_clean'].str.replace('\\d+', '')\n",
    "\n",
    "df['desc_clean'] = df['product_description'].str.lower().fillna('none').apply(\n",
    "    lambda x: ' '.join([word for word in x.split() if word not in (stop)]))\n",
    "df['desc_clean'] = df['desc_clean'].apply(\n",
    "    lambda x: x.strip(string.punctuation))\n",
    "df['desc_clean'] = df['desc_clean'].str.replace('\\d+', '')"
   ]
  },
  {
   "cell_type": "code",
   "execution_count": 6,
   "metadata": {
    "execution": {
     "iopub.execute_input": "2020-10-04T21:54:59.895811Z",
     "iopub.status.busy": "2020-10-04T21:54:59.895811Z",
     "iopub.status.idle": "2020-10-04T21:55:01.243788Z",
     "shell.execute_reply": "2020-10-04T21:55:01.242737Z",
     "shell.execute_reply.started": "2020-10-04T21:54:59.895811Z"
    }
   },
   "outputs": [],
   "source": [
    "lemmat = WordNetLemmatizer()\n",
    "df['prod_lemat'] = df.apply(lambda row: lemmat.lemmatize(row['prod_clean']),\n",
    "                            axis=1)\n",
    "df['desc_lemat'] = df.apply(lambda row: lemmat.lemmatize(row['desc_clean']),\n",
    "                            axis=1)"
   ]
  },
  {
   "cell_type": "code",
   "execution_count": 7,
   "metadata": {
    "execution": {
     "iopub.execute_input": "2020-10-04T21:55:01.244735Z",
     "iopub.status.busy": "2020-10-04T21:55:01.244735Z",
     "iopub.status.idle": "2020-10-04T21:55:05.937155Z",
     "shell.execute_reply": "2020-10-04T21:55:05.936155Z",
     "shell.execute_reply.started": "2020-10-04T21:55:01.244735Z"
    }
   },
   "outputs": [],
   "source": [
    "# tokenize\n",
    "\n",
    "df['prod_token'] = df.apply(lambda row: word_tokenize(row['prod_lemat']),\n",
    "                            axis=1)\n",
    "df['desc_token'] = df.apply(lambda row: word_tokenize(row['desc_lemat']),\n",
    "                            axis=1)"
   ]
  },
  {
   "cell_type": "code",
   "execution_count": 8,
   "metadata": {
    "execution": {
     "iopub.execute_input": "2020-10-04T21:55:05.939149Z",
     "iopub.status.busy": "2020-10-04T21:55:05.938152Z",
     "iopub.status.idle": "2020-10-04T21:55:05.969070Z",
     "shell.execute_reply": "2020-10-04T21:55:05.968074Z",
     "shell.execute_reply.started": "2020-10-04T21:55:05.939149Z"
    }
   },
   "outputs": [],
   "source": [
    "# combine both product title and description into one feature columns\n",
    "\n",
    "df['join_text'] = df['prod_token'] + df['desc_token']"
   ]
  },
  {
   "cell_type": "code",
   "execution_count": 9,
   "metadata": {
    "execution": {
     "iopub.execute_input": "2020-10-04T21:55:05.970067Z",
     "iopub.status.busy": "2020-10-04T21:55:05.970067Z",
     "iopub.status.idle": "2020-10-04T21:55:06.049026Z",
     "shell.execute_reply": "2020-10-04T21:55:06.048029Z",
     "shell.execute_reply.started": "2020-10-04T21:55:05.970067Z"
    }
   },
   "outputs": [],
   "source": [
    "# convert back to text string\n",
    "\n",
    "df['text'] = df['join_text'].apply(lambda x: ' '.join(map(str, x)))"
   ]
  },
  {
   "cell_type": "code",
   "execution_count": 10,
   "metadata": {
    "execution": {
     "iopub.execute_input": "2020-10-04T21:55:06.051026Z",
     "iopub.status.busy": "2020-10-04T21:55:06.050027Z",
     "iopub.status.idle": "2020-10-04T21:55:06.235528Z",
     "shell.execute_reply": "2020-10-04T21:55:06.235528Z",
     "shell.execute_reply.started": "2020-10-04T21:55:06.051026Z"
    }
   },
   "outputs": [],
   "source": [
    "# remvoe duplicated words\n",
    "\n",
    "df['text_fin'] = (df['text'].str.split().apply(\n",
    "    lambda x: OrderedDict.fromkeys(x).keys()).str.join(' '))"
   ]
  },
  {
   "cell_type": "code",
   "execution_count": 11,
   "metadata": {
    "ExecuteTime": {
     "end_time": "2020-10-02T03:51:48.220710Z",
     "start_time": "2020-10-02T03:51:48.206595Z"
    },
    "execution": {
     "iopub.execute_input": "2020-10-04T21:55:06.236566Z",
     "iopub.status.busy": "2020-10-04T21:55:06.236566Z",
     "iopub.status.idle": "2020-10-04T21:55:06.251510Z",
     "shell.execute_reply": "2020-10-04T21:55:06.251510Z",
     "shell.execute_reply.started": "2020-10-04T21:55:06.236566Z"
    }
   },
   "outputs": [],
   "source": [
    "# filter out the needed colunm\n",
    "\n",
    "expo = df[['id', 'query', 'text_fin', 'median_relevance']]"
   ]
  },
  {
   "cell_type": "code",
   "execution_count": 12,
   "metadata": {
    "execution": {
     "iopub.execute_input": "2020-10-04T21:55:06.252481Z",
     "iopub.status.busy": "2020-10-04T21:55:06.252481Z",
     "iopub.status.idle": "2020-10-04T21:55:06.268441Z",
     "shell.execute_reply": "2020-10-04T21:55:06.267443Z",
     "shell.execute_reply.started": "2020-10-04T21:55:06.252481Z"
    }
   },
   "outputs": [
    {
     "data": {
      "text/html": [
       "<div>\n",
       "<style scoped>\n",
       "    .dataframe tbody tr th:only-of-type {\n",
       "        vertical-align: middle;\n",
       "    }\n",
       "\n",
       "    .dataframe tbody tr th {\n",
       "        vertical-align: top;\n",
       "    }\n",
       "\n",
       "    .dataframe thead th {\n",
       "        text-align: right;\n",
       "    }\n",
       "</style>\n",
       "<table border=\"1\" class=\"dataframe\">\n",
       "  <thead>\n",
       "    <tr style=\"text-align: right;\">\n",
       "      <th></th>\n",
       "      <th>id</th>\n",
       "      <th>query</th>\n",
       "      <th>text_fin</th>\n",
       "      <th>median_relevance</th>\n",
       "    </tr>\n",
       "  </thead>\n",
       "  <tbody>\n",
       "    <tr>\n",
       "      <th>0</th>\n",
       "      <td>1</td>\n",
       "      <td>bridal shower decorations</td>\n",
       "      <td>accent pillow heart design - red/black red sat...</td>\n",
       "      <td>1</td>\n",
       "    </tr>\n",
       "    <tr>\n",
       "      <th>1</th>\n",
       "      <td>2</td>\n",
       "      <td>led christmas lights</td>\n",
       "      <td>set battery operated multi led train christmas...</td>\n",
       "      <td>4</td>\n",
       "    </tr>\n",
       "    <tr>\n",
       "      <th>2</th>\n",
       "      <td>4</td>\n",
       "      <td>projector</td>\n",
       "      <td>viewsonic pro dlp multimedia projector none</td>\n",
       "      <td>4</td>\n",
       "    </tr>\n",
       "    <tr>\n",
       "      <th>3</th>\n",
       "      <td>5</td>\n",
       "      <td>wine rack</td>\n",
       "      <td>concept housewares wr- solid-wood ceiling/wall...</td>\n",
       "      <td>4</td>\n",
       "    </tr>\n",
       "    <tr>\n",
       "      <th>4</th>\n",
       "      <td>7</td>\n",
       "      <td>light bulb</td>\n",
       "      <td>wintergreen lighting christmas led light bulb ...</td>\n",
       "      <td>2</td>\n",
       "    </tr>\n",
       "  </tbody>\n",
       "</table>\n",
       "</div>"
      ],
      "text/plain": [
       "   id                      query  \\\n",
       "0   1  bridal shower decorations   \n",
       "1   2       led christmas lights   \n",
       "2   4                  projector   \n",
       "3   5                  wine rack   \n",
       "4   7                 light bulb   \n",
       "\n",
       "                                            text_fin  median_relevance  \n",
       "0  accent pillow heart design - red/black red sat...                 1  \n",
       "1  set battery operated multi led train christmas...                 4  \n",
       "2        viewsonic pro dlp multimedia projector none                 4  \n",
       "3  concept housewares wr- solid-wood ceiling/wall...                 4  \n",
       "4  wintergreen lighting christmas led light bulb ...                 2  "
      ]
     },
     "execution_count": 12,
     "metadata": {},
     "output_type": "execute_result"
    }
   ],
   "source": [
    "expo.head()"
   ]
  },
  {
   "cell_type": "code",
   "execution_count": 13,
   "metadata": {
    "execution": {
     "iopub.execute_input": "2020-10-04T21:55:06.270450Z",
     "iopub.status.busy": "2020-10-04T21:55:06.269438Z",
     "iopub.status.idle": "2020-10-04T21:55:11.235266Z",
     "shell.execute_reply": "2020-10-04T21:55:11.234260Z",
     "shell.execute_reply.started": "2020-10-04T21:55:06.270450Z"
    }
   },
   "outputs": [
    {
     "name": "stderr",
     "output_type": "stream",
     "text": [
      "C:\\Users\\sit_k\\anaconda3\\lib\\site-packages\\spacy\\util.py:275: UserWarning: [W031] Model 'en_core_web_md' (2.2.0) requires spaCy v2.2 and is incompatible with the current spaCy version (2.3.2). This may lead to unexpected results or runtime errors. To resolve this, download a newer compatible model or retrain your custom model with the current spaCy version. For more details and available updates, run: python -m spacy validate\n",
      "  warnings.warn(warn_msg)\n"
     ]
    }
   ],
   "source": [
    "nlp = spacy.load('en_core_web_md')"
   ]
  },
  {
   "cell_type": "code",
   "execution_count": 14,
   "metadata": {
    "execution": {
     "iopub.execute_input": "2020-10-04T21:55:11.236262Z",
     "iopub.status.busy": "2020-10-04T21:55:11.236262Z",
     "iopub.status.idle": "2020-10-04T21:56:06.388698Z",
     "shell.execute_reply": "2020-10-04T21:56:06.388698Z",
     "shell.execute_reply.started": "2020-10-04T21:55:11.236262Z"
    }
   },
   "outputs": [
    {
     "data": {
      "application/vnd.jupyter.widget-view+json": {
       "model_id": "e97d121bdda440e69304d5f3a556a66f",
       "version_major": 2,
       "version_minor": 0
      },
      "text/plain": [
       "HBox(children=(FloatProgress(value=0.0, description='Pandas Apply', max=10158.0, style=ProgressStyle(descripti…"
      ]
     },
     "metadata": {},
     "output_type": "display_data"
    },
    {
     "name": "stdout",
     "output_type": "stream",
     "text": [
      "\n"
     ]
    },
    {
     "name": "stderr",
     "output_type": "stream",
     "text": [
      "<ipython-input-14-fd5394d5b788>:1: SettingWithCopyWarning: \n",
      "A value is trying to be set on a copy of a slice from a DataFrame.\n",
      "Try using .loc[row_indexer,col_indexer] = value instead\n",
      "\n",
      "See the caveats in the documentation: https://pandas.pydata.org/pandas-docs/stable/user_guide/indexing.html#returning-a-view-versus-a-copy\n",
      "  expo['q_nlp'] = expo['query'].swifter.apply(nlp)\n"
     ]
    }
   ],
   "source": [
    "expo['q_nlp'] = expo['query'].swifter.apply(nlp)"
   ]
  },
  {
   "cell_type": "code",
   "execution_count": 15,
   "metadata": {
    "execution": {
     "iopub.execute_input": "2020-10-04T21:56:06.389682Z",
     "iopub.status.busy": "2020-10-04T21:56:06.389682Z",
     "iopub.status.idle": "2020-10-04T21:57:58.240524Z",
     "shell.execute_reply": "2020-10-04T21:57:58.240524Z",
     "shell.execute_reply.started": "2020-10-04T21:56:06.389682Z"
    }
   },
   "outputs": [
    {
     "data": {
      "application/vnd.jupyter.widget-view+json": {
       "model_id": "461956846a8842c6a4b28948151740d1",
       "version_major": 2,
       "version_minor": 0
      },
      "text/plain": [
       "HBox(children=(FloatProgress(value=0.0, description='Pandas Apply', max=10158.0, style=ProgressStyle(descripti…"
      ]
     },
     "metadata": {},
     "output_type": "display_data"
    },
    {
     "name": "stdout",
     "output_type": "stream",
     "text": [
      "\n"
     ]
    },
    {
     "name": "stderr",
     "output_type": "stream",
     "text": [
      "<ipython-input-15-2b20fe8f33ec>:1: SettingWithCopyWarning: \n",
      "A value is trying to be set on a copy of a slice from a DataFrame.\n",
      "Try using .loc[row_indexer,col_indexer] = value instead\n",
      "\n",
      "See the caveats in the documentation: https://pandas.pydata.org/pandas-docs/stable/user_guide/indexing.html#returning-a-view-versus-a-copy\n",
      "  expo['t_nlp'] = expo['text_fin'].swifter.apply(nlp)\n"
     ]
    }
   ],
   "source": [
    "expo['t_nlp'] = expo['text_fin'].swifter.apply(nlp)"
   ]
  },
  {
   "cell_type": "code",
   "execution_count": 16,
   "metadata": {
    "execution": {
     "iopub.execute_input": "2020-10-04T21:57:58.241492Z",
     "iopub.status.busy": "2020-10-04T21:57:58.241492Z",
     "iopub.status.idle": "2020-10-04T21:58:02.811847Z",
     "shell.execute_reply": "2020-10-04T21:58:02.811847Z",
     "shell.execute_reply.started": "2020-10-04T21:57:58.241492Z"
    }
   },
   "outputs": [
    {
     "name": "stderr",
     "output_type": "stream",
     "text": [
      "<ipython-input-16-16b9705bf3ab>:1: UserWarning: [W008] Evaluating Doc.similarity based on empty vectors.\n",
      "  expo['sim'] = [expo['q_nlp'][i].similarity(expo['t_nlp'][i]) for i in range(len(expo))]\n",
      "<ipython-input-16-16b9705bf3ab>:1: SettingWithCopyWarning: \n",
      "A value is trying to be set on a copy of a slice from a DataFrame.\n",
      "Try using .loc[row_indexer,col_indexer] = value instead\n",
      "\n",
      "See the caveats in the documentation: https://pandas.pydata.org/pandas-docs/stable/user_guide/indexing.html#returning-a-view-versus-a-copy\n",
      "  expo['sim'] = [expo['q_nlp'][i].similarity(expo['t_nlp'][i]) for i in range(len(expo))]\n"
     ]
    }
   ],
   "source": [
    "expo['sim'] = [\n",
    "    expo['q_nlp'][i].similarity(expo['t_nlp'][i]) for i in range(len(expo))\n",
    "]"
   ]
  },
  {
   "cell_type": "code",
   "execution_count": 17,
   "metadata": {
    "execution": {
     "iopub.execute_input": "2020-10-04T21:58:02.812870Z",
     "iopub.status.busy": "2020-10-04T21:58:02.812870Z",
     "iopub.status.idle": "2020-10-04T21:58:03.158467Z",
     "shell.execute_reply": "2020-10-04T21:58:03.158467Z",
     "shell.execute_reply.started": "2020-10-04T21:58:02.812870Z"
    }
   },
   "outputs": [
    {
     "name": "stderr",
     "output_type": "stream",
     "text": [
      "<ipython-input-17-3ed92dae19f1>:1: SettingWithCopyWarning: \n",
      "A value is trying to be set on a copy of a slice from a DataFrame.\n",
      "Try using .loc[row_indexer,col_indexer] = value instead\n",
      "\n",
      "See the caveats in the documentation: https://pandas.pydata.org/pandas-docs/stable/user_guide/indexing.html#returning-a-view-versus-a-copy\n",
      "  expo['fuzzy'] = [fuzz.partial_ratio(expo['query'][x], expo['text_fin'][x])\n"
     ]
    }
   ],
   "source": [
    "expo['fuzzy'] = [\n",
    "    fuzz.partial_ratio(expo['query'][x], expo['text_fin'][x])\n",
    "    for x in range(len(expo))\n",
    "]"
   ]
  },
  {
   "cell_type": "code",
   "execution_count": 18,
   "metadata": {
    "execution": {
     "iopub.execute_input": "2020-10-04T21:58:03.159431Z",
     "iopub.status.busy": "2020-10-04T21:58:03.159431Z",
     "iopub.status.idle": "2020-10-04T21:58:03.174391Z",
     "shell.execute_reply": "2020-10-04T21:58:03.174391Z",
     "shell.execute_reply.started": "2020-10-04T21:58:03.159431Z"
    }
   },
   "outputs": [
    {
     "name": "stderr",
     "output_type": "stream",
     "text": [
      "<ipython-input-18-7ccd74acd2bc>:1: SettingWithCopyWarning: \n",
      "A value is trying to be set on a copy of a slice from a DataFrame.\n",
      "Try using .loc[row_indexer,col_indexer] = value instead\n",
      "\n",
      "See the caveats in the documentation: https://pandas.pydata.org/pandas-docs/stable/user_guide/indexing.html#returning-a-view-versus-a-copy\n",
      "  expo['query_len'] = expo['query'].str.count(' ')+1\n"
     ]
    }
   ],
   "source": [
    "expo['query_len'] = expo['query'].str.count(' ') + 1"
   ]
  },
  {
   "cell_type": "markdown",
   "metadata": {},
   "source": [
    "### Exploratory"
   ]
  },
  {
   "cell_type": "code",
   "execution_count": 19,
   "metadata": {
    "execution": {
     "iopub.execute_input": "2020-10-04T21:58:03.175389Z",
     "iopub.status.busy": "2020-10-04T21:58:03.175389Z",
     "iopub.status.idle": "2020-10-04T21:58:03.332587Z",
     "shell.execute_reply": "2020-10-04T21:58:03.331566Z",
     "shell.execute_reply.started": "2020-10-04T21:58:03.175389Z"
    }
   },
   "outputs": [
    {
     "data": {
      "image/png": "[encoded data removed]",
      "text/plain": [
       "<Figure size 432x288 with 1 Axes>"
      ]
     },
     "metadata": {
      "needs_background": "light"
     },
     "output_type": "display_data"
    }
   ],
   "source": [
    "sns.boxplot(x='median_relevance', y='sim', data=expo)\n",
    "plt.title('similarity score distribution')\n",
    "plt.show()"
   ]
  },
  {
   "cell_type": "code",
   "execution_count": 21,
   "metadata": {
    "execution": {
     "iopub.execute_input": "2020-10-04T21:58:23.960390Z",
     "iopub.status.busy": "2020-10-04T21:58:23.960390Z",
     "iopub.status.idle": "2020-10-04T21:58:24.092012Z",
     "shell.execute_reply": "2020-10-04T21:58:24.092012Z",
     "shell.execute_reply.started": "2020-10-04T21:58:23.960390Z"
    }
   },
   "outputs": [
    {
     "data": {
      "image/png": "[encoded data removed]",
      "text/plain": [
       "<Figure size 432x288 with 1 Axes>"
      ]
     },
     "metadata": {
      "needs_background": "light"
     },
     "output_type": "display_data"
    }
   ],
   "source": [
    "sns.boxplot(x='median_relevance', y='fuzzy', data=expo)\n",
    "plt.title('fuzzy score distribution')\n",
    "plt.show()"
   ]
  },
  {
   "cell_type": "markdown",
   "metadata": {},
   "source": [
    "**Observation** : positive correlation between fuzzywuzzy/similarity scores with median_relevance values."
   ]
  },
  {
   "cell_type": "code",
   "execution_count": 23,
   "metadata": {
    "execution": {
     "iopub.execute_input": "2020-10-04T21:59:26.936201Z",
     "iopub.status.busy": "2020-10-04T21:59:26.936201Z",
     "iopub.status.idle": "2020-10-04T21:59:27.093781Z",
     "shell.execute_reply": "2020-10-04T21:59:27.093781Z",
     "shell.execute_reply.started": "2020-10-04T21:59:26.936201Z"
    }
   },
   "outputs": [
    {
     "data": {
      "image/png": "[encoded data removed]",
      "text/plain": [
       "<Figure size 432x288 with 1 Axes>"
      ]
     },
     "metadata": {
      "needs_background": "light"
     },
     "output_type": "display_data"
    }
   ],
   "source": [
    "sns.boxplot(x='query_len', y='median_relevance', data=expo)\n",
    "plt.title('median relevance vary by query length')\n",
    "plt.show()"
   ]
  },
  {
   "cell_type": "code",
   "execution_count": 32,
   "metadata": {
    "execution": {
     "iopub.execute_input": "2020-10-04T23:06:24.472223Z",
     "iopub.status.busy": "2020-10-04T23:06:24.471226Z",
     "iopub.status.idle": "2020-10-04T23:06:24.502179Z",
     "shell.execute_reply": "2020-10-04T23:06:24.502179Z",
     "shell.execute_reply.started": "2020-10-04T23:06:24.472223Z"
    }
   },
   "outputs": [
    {
     "data": {
      "text/html": [
       "<div>\n",
       "<style scoped>\n",
       "    .dataframe tbody tr th:only-of-type {\n",
       "        vertical-align: middle;\n",
       "    }\n",
       "\n",
       "    .dataframe tbody tr th {\n",
       "        vertical-align: top;\n",
       "    }\n",
       "\n",
       "    .dataframe thead th {\n",
       "        text-align: right;\n",
       "    }\n",
       "</style>\n",
       "<table border=\"1\" class=\"dataframe\">\n",
       "  <thead>\n",
       "    <tr style=\"text-align: right;\">\n",
       "      <th></th>\n",
       "      <th>median_relevance</th>\n",
       "    </tr>\n",
       "    <tr>\n",
       "      <th>query_len</th>\n",
       "      <th></th>\n",
       "    </tr>\n",
       "  </thead>\n",
       "  <tbody>\n",
       "    <tr>\n",
       "      <th>1</th>\n",
       "      <td>3.340113</td>\n",
       "    </tr>\n",
       "    <tr>\n",
       "      <th>2</th>\n",
       "      <td>3.414203</td>\n",
       "    </tr>\n",
       "    <tr>\n",
       "      <th>3</th>\n",
       "      <td>3.152536</td>\n",
       "    </tr>\n",
       "    <tr>\n",
       "      <th>4</th>\n",
       "      <td>3.221622</td>\n",
       "    </tr>\n",
       "    <tr>\n",
       "      <th>5</th>\n",
       "      <td>2.855072</td>\n",
       "    </tr>\n",
       "    <tr>\n",
       "      <th>6</th>\n",
       "      <td>2.913580</td>\n",
       "    </tr>\n",
       "  </tbody>\n",
       "</table>\n",
       "</div>"
      ],
      "text/plain": [
       "           median_relevance\n",
       "query_len                  \n",
       "1                  3.340113\n",
       "2                  3.414203\n",
       "3                  3.152536\n",
       "4                  3.221622\n",
       "5                  2.855072\n",
       "6                  2.913580"
      ]
     },
     "execution_count": 32,
     "metadata": {},
     "output_type": "execute_result"
    }
   ],
   "source": [
    "expo.groupby(['query_len']).agg({'median_relevance': 'mean'})"
   ]
  },
  {
   "cell_type": "markdown",
   "metadata": {},
   "source": [
    "**Observations**: Longer search queries have lower median_relevance score on average."
   ]
  },
  {
   "cell_type": "code",
   "execution_count": 24,
   "metadata": {
    "execution": {
     "iopub.execute_input": "2020-10-04T21:59:49.175248Z",
     "iopub.status.busy": "2020-10-04T21:59:49.174250Z",
     "iopub.status.idle": "2020-10-04T21:59:49.187190Z",
     "shell.execute_reply": "2020-10-04T21:59:49.187190Z",
     "shell.execute_reply.started": "2020-10-04T21:59:49.175248Z"
    }
   },
   "outputs": [
    {
     "data": {
      "text/plain": [
       "4    0.607501\n",
       "3    0.170998\n",
       "2    0.145304\n",
       "1    0.076196\n",
       "Name: median_relevance, dtype: float64"
      ]
     },
     "execution_count": 24,
     "metadata": {},
     "output_type": "execute_result"
    }
   ],
   "source": [
    "expo['median_relevance'].value_counts(normalize=True)"
   ]
  },
  {
   "cell_type": "code",
   "execution_count": 25,
   "metadata": {
    "execution": {
     "iopub.execute_input": "2020-10-04T22:00:28.149880Z",
     "iopub.status.busy": "2020-10-04T22:00:28.148882Z",
     "iopub.status.idle": "2020-10-04T22:00:28.180830Z",
     "shell.execute_reply": "2020-10-04T22:00:28.180830Z",
     "shell.execute_reply.started": "2020-10-04T22:00:28.149880Z"
    }
   },
   "outputs": [],
   "source": [
    "med_rel_1 = expo.query('median_relevance == 1')['query'].to_list()\n",
    "med_rel_2 = expo.query('median_relevance == 2')['query'].to_list()\n",
    "med_rel_3 = expo.query('median_relevance == 3')['query'].to_list()\n",
    "med_rel_4 = expo.query('median_relevance == 4')['query'].to_list()"
   ]
  },
  {
   "cell_type": "code",
   "execution_count": 26,
   "metadata": {
    "execution": {
     "iopub.execute_input": "2020-10-04T22:00:51.095118Z",
     "iopub.status.busy": "2020-10-04T22:00:51.095118Z",
     "iopub.status.idle": "2020-10-04T22:00:51.181887Z",
     "shell.execute_reply": "2020-10-04T22:00:51.180888Z",
     "shell.execute_reply.started": "2020-10-04T22:00:51.095118Z"
    }
   },
   "outputs": [],
   "source": [
    "vect_1 = TfidfVectorizer(stop_words=stop, ngram_range=(1, 2))\n",
    "vect_1.fit_transform(med_rel_1)\n",
    "X_1 = vect_1.get_feature_names()\n",
    "\n",
    "vect_2 = TfidfVectorizer(stop_words=stop, ngram_range=(1, 2))\n",
    "vect_2.fit_transform(med_rel_2)\n",
    "X_2 = vect_2.get_feature_names()\n",
    "\n",
    "vect_3 = TfidfVectorizer(stop_words=stop, ngram_range=(1, 2))\n",
    "vect_3.fit_transform(med_rel_3)\n",
    "X_3 = vect_3.get_feature_names()\n",
    "\n",
    "vect_4 = TfidfVectorizer(stop_words=stop, ngram_range=(1, 2))\n",
    "vect_4.fit_transform(med_rel_4)\n",
    "X_4 = vect_4.get_feature_names()"
   ]
  },
  {
   "cell_type": "code",
   "execution_count": 27,
   "metadata": {
    "execution": {
     "iopub.execute_input": "2020-10-04T22:00:57.053242Z",
     "iopub.status.busy": "2020-10-04T22:00:57.053242Z",
     "iopub.status.idle": "2020-10-04T22:00:57.069207Z",
     "shell.execute_reply": "2020-10-04T22:00:57.068202Z",
     "shell.execute_reply.started": "2020-10-04T22:00:57.053242Z"
    }
   },
   "outputs": [],
   "source": [
    "tup_list = list(set(X_1 + X_2 + X_3 + X_4))"
   ]
  },
  {
   "cell_type": "code",
   "execution_count": 29,
   "metadata": {
    "execution": {
     "iopub.execute_input": "2020-10-04T22:01:09.800202Z",
     "iopub.status.busy": "2020-10-04T22:01:09.800202Z",
     "iopub.status.idle": "2020-10-04T22:01:09.810175Z",
     "shell.execute_reply": "2020-10-04T22:01:09.810175Z",
     "shell.execute_reply.started": "2020-10-04T22:01:09.800202Z"
    }
   },
   "outputs": [],
   "source": [
    "with open('data/tup_list.pkl', 'wb') as f:\n",
    "    pickle.dump(tup_list, f)"
   ]
  },
  {
   "cell_type": "code",
   "execution_count": 30,
   "metadata": {
    "execution": {
     "iopub.execute_input": "2020-10-04T22:01:19.090914Z",
     "iopub.status.busy": "2020-10-04T22:01:19.090914Z",
     "iopub.status.idle": "2020-10-04T22:01:21.934813Z",
     "shell.execute_reply": "2020-10-04T22:01:21.933951Z",
     "shell.execute_reply.started": "2020-10-04T22:01:19.090914Z"
    }
   },
   "outputs": [
    {
     "name": "stderr",
     "output_type": "stream",
     "text": [
      "<ipython-input-30-2497ddf46b62>:2: SettingWithCopyWarning: \n",
      "A value is trying to be set on a copy of a slice from a DataFrame.\n",
      "Try using .loc[row_indexer,col_indexer] = value instead\n",
      "\n",
      "See the caveats in the documentation: https://pandas.pydata.org/pandas-docs/stable/user_guide/indexing.html#returning-a-view-versus-a-copy\n",
      "  expo[term] = expo['query'].str.contains(term)\n"
     ]
    }
   ],
   "source": [
    "for term in tup_list:\n",
    "    expo[term] = expo['query'].str.contains(term)"
   ]
  },
  {
   "cell_type": "code",
   "execution_count": 31,
   "metadata": {
    "execution": {
     "iopub.execute_input": "2020-10-04T22:01:23.858129Z",
     "iopub.status.busy": "2020-10-04T22:01:23.858129Z",
     "iopub.status.idle": "2020-10-04T22:01:25.828505Z",
     "shell.execute_reply": "2020-10-04T22:01:25.827715Z",
     "shell.execute_reply.started": "2020-10-04T22:01:23.858129Z"
    }
   },
   "outputs": [],
   "source": [
    "expo.set_index('id').to_csv('./data/df_clean.csv')"
   ]
  }
 ],
 "metadata": {
  "kernelspec": {
   "display_name": "Python 3",
   "language": "python",
   "name": "python3"
  },
  "language_info": {
   "codemirror_mode": {
    "name": "ipython",
    "version": 3
   },
   "file_extension": ".py",
   "mimetype": "text/x-python",
   "name": "python",
   "nbconvert_exporter": "python",
   "pygments_lexer": "ipython3",
   "version": "3.8.5"
  },
  "toc": {
   "base_numbering": 1,
   "nav_menu": {},
   "number_sections": true,
   "sideBar": true,
   "skip_h1_title": false,
   "title_cell": "Table of Contents",
   "title_sidebar": "Contents",
   "toc_cell": false,
   "toc_position": {},
   "toc_section_display": true,
   "toc_window_display": false
  },
  "varInspector": {
   "cols": {
    "lenName": 16,
    "lenType": 16,
    "lenVar": 40
   },
   "kernels_config": {
    "python": {
     "delete_cmd_postfix": "",
     "delete_cmd_prefix": "del ",
     "library": "var_list.py",
     "varRefreshCmd": "print(var_dic_list())"
    },
    "r": {
     "delete_cmd_postfix": ") ",
     "delete_cmd_prefix": "rm(",
     "library": "var_list.r",
     "varRefreshCmd": "cat(var_dic_list()) "
    }
   },
   "position": {
    "height": "377.986px",
    "left": "1275.98px",
    "right": "20px",
    "top": "286.993px",
    "width": "383.75px"
   },
   "types_to_exclude": [
    "module",
    "function",
    "builtin_function_or_method",
    "instance",
    "_Feature"
   ],
   "window_display": true
  }
 },
 "nbformat": 4,
 "nbformat_minor": 4
}
