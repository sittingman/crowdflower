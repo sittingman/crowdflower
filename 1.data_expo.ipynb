{
 "cells": [
  {
   "cell_type": "markdown",
   "metadata": {},
   "source": [
    "## Data Exploratory\n",
    "\n",
    "In this section, we will apply natural languages processes step to clean up the text string, identify data pattern, and extract out relevant features that have high correlation to user ratings."
   ]
  },
  {
   "cell_type": "code",
   "execution_count": 1,
   "metadata": {
    "ExecuteTime": {
     "end_time": "2020-10-02T03:51:46.635525Z",
     "start_time": "2020-10-02T03:51:43.636985Z"
    },
    "execution": {
     "iopub.execute_input": "2020-10-09T02:42:16.040451Z",
     "iopub.status.busy": "2020-10-09T02:42:16.040451Z",
     "iopub.status.idle": "2020-10-09T02:42:18.283670Z",
     "shell.execute_reply": "2020-10-09T02:42:18.282618Z",
     "shell.execute_reply.started": "2020-10-09T02:42:16.040451Z"
    }
   },
   "outputs": [],
   "source": [
    "import pickle\n",
    "import re\n",
    "import string\n",
    "import warnings\n",
    "from collections import Counter, OrderedDict\n",
    "\n",
    "import en_core_web_md\n",
    "import matplotlib.pyplot as plt\n",
    "import nltk\n",
    "import numpy as np\n",
    "import pandas as pd\n",
    "import seaborn as sns\n",
    "import spacy\n",
    "import swifter\n",
    "from fuzzywuzzy import fuzz, process\n",
    "from nltk.corpus import stopwords\n",
    "from nltk.stem import PorterStemmer, WordNetLemmatizer\n",
    "from nltk.tokenize import word_tokenize\n",
    "from sklearn.feature_extraction.text import TfidfVectorizer\n",
    "from spacy.lang.en import English\n",
    "\n",
    "# nltk.download('stopwords')\n",
    "# nltk.download('punkt')\n",
    "# nltk.download('wordnet')\n",
    "stop = stopwords.words('english')\n",
    "warnings.simplefilter(action='ignore', category=FutureWarning)\n",
    "pd.set_option('mode.chained_assignment', None)"
   ]
  },
  {
   "cell_type": "code",
   "execution_count": 2,
   "metadata": {
    "ExecuteTime": {
     "end_time": "2020-10-02T03:51:46.747252Z",
     "start_time": "2020-10-02T03:51:46.684395Z"
    },
    "execution": {
     "iopub.execute_input": "2020-10-09T02:42:18.286647Z",
     "iopub.status.busy": "2020-10-09T02:42:18.286647Z",
     "iopub.status.idle": "2020-10-09T02:42:18.346555Z",
     "shell.execute_reply": "2020-10-09T02:42:18.345551Z",
     "shell.execute_reply.started": "2020-10-09T02:42:18.286647Z"
    }
   },
   "outputs": [],
   "source": [
    "df = pd.read_csv('./data/train.csv')"
   ]
  },
  {
   "cell_type": "code",
   "execution_count": 3,
   "metadata": {
    "execution": {
     "iopub.execute_input": "2020-10-09T02:42:18.350543Z",
     "iopub.status.busy": "2020-10-09T02:42:18.349546Z",
     "iopub.status.idle": "2020-10-09T02:42:18.376474Z",
     "shell.execute_reply": "2020-10-09T02:42:18.376474Z",
     "shell.execute_reply.started": "2020-10-09T02:42:18.350543Z"
    }
   },
   "outputs": [
    {
     "data": {
      "text/html": [
       "<div>\n",
       "<style scoped>\n",
       "    .dataframe tbody tr th:only-of-type {\n",
       "        vertical-align: middle;\n",
       "    }\n",
       "\n",
       "    .dataframe tbody tr th {\n",
       "        vertical-align: top;\n",
       "    }\n",
       "\n",
       "    .dataframe thead th {\n",
       "        text-align: right;\n",
       "    }\n",
       "</style>\n",
       "<table border=\"1\" class=\"dataframe\">\n",
       "  <thead>\n",
       "    <tr style=\"text-align: right;\">\n",
       "      <th></th>\n",
       "      <th>id</th>\n",
       "      <th>query</th>\n",
       "      <th>product_title</th>\n",
       "      <th>product_description</th>\n",
       "      <th>median_relevance</th>\n",
       "      <th>relevance_variance</th>\n",
       "    </tr>\n",
       "  </thead>\n",
       "  <tbody>\n",
       "    <tr>\n",
       "      <th>0</th>\n",
       "      <td>1</td>\n",
       "      <td>bridal shower decorations</td>\n",
       "      <td>Accent Pillow with Heart Design - Red/Black</td>\n",
       "      <td>Red satin accent pillow embroidered with a hea...</td>\n",
       "      <td>1</td>\n",
       "      <td>0.000</td>\n",
       "    </tr>\n",
       "    <tr>\n",
       "      <th>1</th>\n",
       "      <td>2</td>\n",
       "      <td>led christmas lights</td>\n",
       "      <td>Set of 10 Battery Operated Multi LED Train Chr...</td>\n",
       "      <td>Set of 10 Battery Operated Train Christmas Lig...</td>\n",
       "      <td>4</td>\n",
       "      <td>0.000</td>\n",
       "    </tr>\n",
       "    <tr>\n",
       "      <th>2</th>\n",
       "      <td>4</td>\n",
       "      <td>projector</td>\n",
       "      <td>ViewSonic Pro8200 DLP Multimedia Projector</td>\n",
       "      <td>NaN</td>\n",
       "      <td>4</td>\n",
       "      <td>0.471</td>\n",
       "    </tr>\n",
       "    <tr>\n",
       "      <th>3</th>\n",
       "      <td>5</td>\n",
       "      <td>wine rack</td>\n",
       "      <td>Concept Housewares WR-44526 Solid-Wood Ceiling...</td>\n",
       "      <td>Like a silent and sturdy tree, the Southern En...</td>\n",
       "      <td>4</td>\n",
       "      <td>0.000</td>\n",
       "    </tr>\n",
       "    <tr>\n",
       "      <th>4</th>\n",
       "      <td>7</td>\n",
       "      <td>light bulb</td>\n",
       "      <td>Wintergreen Lighting Christmas LED Light Bulb ...</td>\n",
       "      <td>WTGR1011\\nFeatures\\nNickel base, 60,000 averag...</td>\n",
       "      <td>2</td>\n",
       "      <td>0.471</td>\n",
       "    </tr>\n",
       "  </tbody>\n",
       "</table>\n",
       "</div>"
      ],
      "text/plain": [
       "   id                      query  \\\n",
       "0   1  bridal shower decorations   \n",
       "1   2       led christmas lights   \n",
       "2   4                  projector   \n",
       "3   5                  wine rack   \n",
       "4   7                 light bulb   \n",
       "\n",
       "                                       product_title  \\\n",
       "0        Accent Pillow with Heart Design - Red/Black   \n",
       "1  Set of 10 Battery Operated Multi LED Train Chr...   \n",
       "2         ViewSonic Pro8200 DLP Multimedia Projector   \n",
       "3  Concept Housewares WR-44526 Solid-Wood Ceiling...   \n",
       "4  Wintergreen Lighting Christmas LED Light Bulb ...   \n",
       "\n",
       "                                 product_description  median_relevance  \\\n",
       "0  Red satin accent pillow embroidered with a hea...                 1   \n",
       "1  Set of 10 Battery Operated Train Christmas Lig...                 4   \n",
       "2                                                NaN                 4   \n",
       "3  Like a silent and sturdy tree, the Southern En...                 4   \n",
       "4  WTGR1011\\nFeatures\\nNickel base, 60,000 averag...                 2   \n",
       "\n",
       "   relevance_variance  \n",
       "0               0.000  \n",
       "1               0.000  \n",
       "2               0.471  \n",
       "3               0.000  \n",
       "4               0.471  "
      ]
     },
     "execution_count": 3,
     "metadata": {},
     "output_type": "execute_result"
    }
   ],
   "source": [
    "df.head()"
   ]
  },
  {
   "cell_type": "markdown",
   "metadata": {},
   "source": [
    "### Preprocessing Steps\n",
    "- remove stop words, numeric values, and punctuation\n",
    "- lemmatize\n",
    "- tokenize\n",
    "- obtain simiarlity scores\n",
    "- tfdif"
   ]
  },
  {
   "cell_type": "code",
   "execution_count": 4,
   "metadata": {
    "ExecuteTime": {
     "end_time": "2020-10-02T03:51:48.128061Z",
     "start_time": "2020-10-02T03:51:46.796097Z"
    },
    "execution": {
     "iopub.execute_input": "2020-10-09T02:42:18.378468Z",
     "iopub.status.busy": "2020-10-09T02:42:18.378468Z",
     "iopub.status.idle": "2020-10-09T02:42:19.715972Z",
     "shell.execute_reply": "2020-10-09T02:42:19.714870Z",
     "shell.execute_reply.started": "2020-10-09T02:42:18.378468Z"
    }
   },
   "outputs": [],
   "source": [
    "# remove stop words, numbers, and punctuation\n",
    "\n",
    "df['prod_clean'] = df['product_title'].str.lower().apply(\n",
    "    lambda x: ' '.join([word for word in x.split() if word not in (stop)]))\n",
    "df['prod_clean'] = df['prod_clean'].apply(\n",
    "    lambda x: x.strip(string.punctuation))\n",
    "df['prod_clean'] = df['prod_clean'].str.replace('\\d+', '')\n",
    "\n",
    "df['desc_clean'] = df['product_description'].str.lower().fillna('none').apply(\n",
    "    lambda x: ' '.join([word for word in x.split() if word not in (stop)]))\n",
    "df['desc_clean'] = df['desc_clean'].apply(\n",
    "    lambda x: x.strip(string.punctuation))\n",
    "df['desc_clean'] = df['desc_clean'].str.replace('\\d+', '')"
   ]
  },
  {
   "cell_type": "code",
   "execution_count": 5,
   "metadata": {
    "execution": {
     "iopub.execute_input": "2020-10-09T02:42:19.715972Z",
     "iopub.status.busy": "2020-10-09T02:42:19.715972Z",
     "iopub.status.idle": "2020-10-09T02:42:21.190048Z",
     "shell.execute_reply": "2020-10-09T02:42:21.189253Z",
     "shell.execute_reply.started": "2020-10-09T02:42:19.715972Z"
    }
   },
   "outputs": [],
   "source": [
    "# Lmmatize\n",
    "\n",
    "lemmat = WordNetLemmatizer()\n",
    "df['prod_lemat'] = df.apply(lambda row: lemmat.lemmatize(row['prod_clean']),\n",
    "                            axis=1)\n",
    "df['desc_lemat'] = df.apply(lambda row: lemmat.lemmatize(row['desc_clean']),\n",
    "                            axis=1)"
   ]
  },
  {
   "cell_type": "code",
   "execution_count": 6,
   "metadata": {
    "execution": {
     "iopub.execute_input": "2020-10-09T02:42:21.190048Z",
     "iopub.status.busy": "2020-10-09T02:42:21.190048Z",
     "iopub.status.idle": "2020-10-09T02:42:25.999454Z",
     "shell.execute_reply": "2020-10-09T02:42:25.998529Z",
     "shell.execute_reply.started": "2020-10-09T02:42:21.190048Z"
    }
   },
   "outputs": [],
   "source": [
    "# tokenize\n",
    "\n",
    "df['prod_token'] = df.apply(lambda row: word_tokenize(row['prod_lemat']),\n",
    "                            axis=1)\n",
    "df['desc_token'] = df.apply(lambda row: word_tokenize(row['desc_lemat']),\n",
    "                            axis=1)"
   ]
  },
  {
   "cell_type": "code",
   "execution_count": 7,
   "metadata": {
    "execution": {
     "iopub.execute_input": "2020-10-09T02:42:25.999454Z",
     "iopub.status.busy": "2020-10-09T02:42:25.999454Z",
     "iopub.status.idle": "2020-10-09T02:42:26.029923Z",
     "shell.execute_reply": "2020-10-09T02:42:26.029923Z",
     "shell.execute_reply.started": "2020-10-09T02:42:25.999454Z"
    }
   },
   "outputs": [],
   "source": [
    "# combine both product title and description into one feature columns\n",
    "\n",
    "df['join_text'] = df['prod_token'] + df['desc_token']"
   ]
  },
  {
   "cell_type": "code",
   "execution_count": 8,
   "metadata": {
    "execution": {
     "iopub.execute_input": "2020-10-09T02:42:26.031881Z",
     "iopub.status.busy": "2020-10-09T02:42:26.030884Z",
     "iopub.status.idle": "2020-10-09T02:42:26.125064Z",
     "shell.execute_reply": "2020-10-09T02:42:26.124180Z",
     "shell.execute_reply.started": "2020-10-09T02:42:26.031881Z"
    }
   },
   "outputs": [],
   "source": [
    "# convert back to text string\n",
    "\n",
    "df['text'] = df['join_text'].apply(lambda x: ' '.join(map(str, x)))"
   ]
  },
  {
   "cell_type": "code",
   "execution_count": 9,
   "metadata": {
    "execution": {
     "iopub.execute_input": "2020-10-09T02:42:26.127061Z",
     "iopub.status.busy": "2020-10-09T02:42:26.127061Z",
     "iopub.status.idle": "2020-10-09T02:42:26.312930Z",
     "shell.execute_reply": "2020-10-09T02:42:26.312137Z",
     "shell.execute_reply.started": "2020-10-09T02:42:26.127061Z"
    }
   },
   "outputs": [],
   "source": [
    "# remvoe duplicated words\n",
    "\n",
    "df['text_fin'] = (df['text'].str.split().apply(\n",
    "    lambda x: OrderedDict.fromkeys(x).keys()).str.join(' '))"
   ]
  },
  {
   "cell_type": "code",
   "execution_count": 10,
   "metadata": {
    "ExecuteTime": {
     "end_time": "2020-10-02T03:51:48.220710Z",
     "start_time": "2020-10-02T03:51:48.206595Z"
    },
    "execution": {
     "iopub.execute_input": "2020-10-09T02:42:26.313947Z",
     "iopub.status.busy": "2020-10-09T02:42:26.313947Z",
     "iopub.status.idle": "2020-10-09T02:42:26.327923Z",
     "shell.execute_reply": "2020-10-09T02:42:26.327923Z",
     "shell.execute_reply.started": "2020-10-09T02:42:26.313947Z"
    }
   },
   "outputs": [],
   "source": [
    "# filter out the needed colunms into a separate dataframe\n",
    "\n",
    "expo = df[['id', 'query', 'text_fin', 'median_relevance']]"
   ]
  },
  {
   "cell_type": "code",
   "execution_count": 11,
   "metadata": {
    "execution": {
     "iopub.execute_input": "2020-10-09T02:42:26.328889Z",
     "iopub.status.busy": "2020-10-09T02:42:26.328889Z",
     "iopub.status.idle": "2020-10-09T02:42:26.343849Z",
     "shell.execute_reply": "2020-10-09T02:42:26.343849Z",
     "shell.execute_reply.started": "2020-10-09T02:42:26.328889Z"
    }
   },
   "outputs": [
    {
     "data": {
      "text/html": [
       "<div>\n",
       "<style scoped>\n",
       "    .dataframe tbody tr th:only-of-type {\n",
       "        vertical-align: middle;\n",
       "    }\n",
       "\n",
       "    .dataframe tbody tr th {\n",
       "        vertical-align: top;\n",
       "    }\n",
       "\n",
       "    .dataframe thead th {\n",
       "        text-align: right;\n",
       "    }\n",
       "</style>\n",
       "<table border=\"1\" class=\"dataframe\">\n",
       "  <thead>\n",
       "    <tr style=\"text-align: right;\">\n",
       "      <th></th>\n",
       "      <th>id</th>\n",
       "      <th>query</th>\n",
       "      <th>text_fin</th>\n",
       "      <th>median_relevance</th>\n",
       "    </tr>\n",
       "  </thead>\n",
       "  <tbody>\n",
       "    <tr>\n",
       "      <th>0</th>\n",
       "      <td>1</td>\n",
       "      <td>bridal shower decorations</td>\n",
       "      <td>accent pillow heart design - red/black red sat...</td>\n",
       "      <td>1</td>\n",
       "    </tr>\n",
       "    <tr>\n",
       "      <th>1</th>\n",
       "      <td>2</td>\n",
       "      <td>led christmas lights</td>\n",
       "      <td>set battery operated multi led train christmas...</td>\n",
       "      <td>4</td>\n",
       "    </tr>\n",
       "    <tr>\n",
       "      <th>2</th>\n",
       "      <td>4</td>\n",
       "      <td>projector</td>\n",
       "      <td>viewsonic pro dlp multimedia projector none</td>\n",
       "      <td>4</td>\n",
       "    </tr>\n",
       "    <tr>\n",
       "      <th>3</th>\n",
       "      <td>5</td>\n",
       "      <td>wine rack</td>\n",
       "      <td>concept housewares wr- solid-wood ceiling/wall...</td>\n",
       "      <td>4</td>\n",
       "    </tr>\n",
       "    <tr>\n",
       "      <th>4</th>\n",
       "      <td>7</td>\n",
       "      <td>light bulb</td>\n",
       "      <td>wintergreen lighting christmas led light bulb ...</td>\n",
       "      <td>2</td>\n",
       "    </tr>\n",
       "  </tbody>\n",
       "</table>\n",
       "</div>"
      ],
      "text/plain": [
       "   id                      query  \\\n",
       "0   1  bridal shower decorations   \n",
       "1   2       led christmas lights   \n",
       "2   4                  projector   \n",
       "3   5                  wine rack   \n",
       "4   7                 light bulb   \n",
       "\n",
       "                                            text_fin  median_relevance  \n",
       "0  accent pillow heart design - red/black red sat...                 1  \n",
       "1  set battery operated multi led train christmas...                 4  \n",
       "2        viewsonic pro dlp multimedia projector none                 4  \n",
       "3  concept housewares wr- solid-wood ceiling/wall...                 4  \n",
       "4  wintergreen lighting christmas led light bulb ...                 2  "
      ]
     },
     "execution_count": 11,
     "metadata": {},
     "output_type": "execute_result"
    }
   ],
   "source": [
    "expo.head()"
   ]
  },
  {
   "cell_type": "markdown",
   "metadata": {},
   "source": [
    "### Obtain Similarity score\n",
    "\n",
    "We are making an assumptions that if the products returns have high similarity in terms of context and word uses to the search queries, users would like to give a good rating.\n",
    "\n",
    "Two similarity metric which we will extract from the text string are spacy similarity score and partial ratio of fuzzywuzzy."
   ]
  },
  {
   "cell_type": "code",
   "execution_count": 12,
   "metadata": {
    "execution": {
     "iopub.execute_input": "2020-10-09T02:42:26.345845Z",
     "iopub.status.busy": "2020-10-09T02:42:26.344847Z",
     "iopub.status.idle": "2020-10-09T02:42:29.480361Z",
     "shell.execute_reply": "2020-10-09T02:42:29.479354Z",
     "shell.execute_reply.started": "2020-10-09T02:42:26.345845Z"
    }
   },
   "outputs": [],
   "source": [
    "nlp = en_core_web_md.load()"
   ]
  },
  {
   "cell_type": "code",
   "execution_count": 13,
   "metadata": {
    "execution": {
     "iopub.execute_input": "2020-10-09T02:42:29.483389Z",
     "iopub.status.busy": "2020-10-09T02:42:29.482392Z",
     "iopub.status.idle": "2020-10-09T02:43:33.583420Z",
     "shell.execute_reply": "2020-10-09T02:43:33.583420Z",
     "shell.execute_reply.started": "2020-10-09T02:42:29.483389Z"
    }
   },
   "outputs": [
    {
     "data": {
      "application/vnd.jupyter.widget-view+json": {
       "model_id": "cb4d0961f0d0420ba730b2f992a1d93b",
       "version_major": 2,
       "version_minor": 0
      },
      "text/plain": [
       "HBox(children=(FloatProgress(value=0.0, description='Pandas Apply', max=10158.0, style=ProgressStyle(descripti…"
      ]
     },
     "metadata": {},
     "output_type": "display_data"
    },
    {
     "name": "stdout",
     "output_type": "stream",
     "text": [
      "\n"
     ]
    }
   ],
   "source": [
    "expo['q_nlp'] = expo['query'].swifter.apply(nlp)"
   ]
  },
  {
   "cell_type": "code",
   "execution_count": 14,
   "metadata": {
    "execution": {
     "iopub.execute_input": "2020-10-09T02:43:33.584418Z",
     "iopub.status.busy": "2020-10-09T02:43:33.584418Z",
     "iopub.status.idle": "2020-10-09T02:45:39.144469Z",
     "shell.execute_reply": "2020-10-09T02:45:39.144469Z",
     "shell.execute_reply.started": "2020-10-09T02:43:33.584418Z"
    }
   },
   "outputs": [
    {
     "data": {
      "application/vnd.jupyter.widget-view+json": {
       "model_id": "442baa2bdc17495b919f42350287b6cd",
       "version_major": 2,
       "version_minor": 0
      },
      "text/plain": [
       "HBox(children=(FloatProgress(value=0.0, description='Pandas Apply', max=10158.0, style=ProgressStyle(descripti…"
      ]
     },
     "metadata": {},
     "output_type": "display_data"
    },
    {
     "name": "stdout",
     "output_type": "stream",
     "text": [
      "\n"
     ]
    }
   ],
   "source": [
    "expo['t_nlp'] = expo['text_fin'].swifter.apply(nlp)"
   ]
  },
  {
   "cell_type": "code",
   "execution_count": 15,
   "metadata": {
    "execution": {
     "iopub.execute_input": "2020-10-09T02:45:39.146464Z",
     "iopub.status.busy": "2020-10-09T02:45:39.145467Z",
     "iopub.status.idle": "2020-10-09T02:45:42.938667Z",
     "shell.execute_reply": "2020-10-09T02:45:42.937678Z",
     "shell.execute_reply.started": "2020-10-09T02:45:39.146464Z"
    }
   },
   "outputs": [
    {
     "name": "stderr",
     "output_type": "stream",
     "text": [
      "<ipython-input-15-be978b6c9020>:2: UserWarning: [W008] Evaluating Doc.similarity based on empty vectors.\n",
      "  expo['q_nlp'][i].similarity(expo['t_nlp'][i]) for i in range(len(expo))\n"
     ]
    }
   ],
   "source": [
    "expo['sim'] = [\n",
    "    expo['q_nlp'][i].similarity(expo['t_nlp'][i]) for i in range(len(expo))\n",
    "]"
   ]
  },
  {
   "cell_type": "code",
   "execution_count": 16,
   "metadata": {
    "execution": {
     "iopub.execute_input": "2020-10-09T02:45:42.938667Z",
     "iopub.status.busy": "2020-10-09T02:45:42.938667Z",
     "iopub.status.idle": "2020-10-09T02:45:43.606756Z",
     "shell.execute_reply": "2020-10-09T02:45:43.606756Z",
     "shell.execute_reply.started": "2020-10-09T02:45:42.938667Z"
    }
   },
   "outputs": [],
   "source": [
    "expo['fuzzy'] = [\n",
    "    fuzz.partial_ratio(expo['query'][x], expo['text_fin'][x])\n",
    "    for x in range(len(expo))\n",
    "]"
   ]
  },
  {
   "cell_type": "markdown",
   "metadata": {},
   "source": [
    "We are also interested to know if the length of search query would have impact on returning a good product match, so we create he feature below."
   ]
  },
  {
   "cell_type": "code",
   "execution_count": 17,
   "metadata": {
    "execution": {
     "iopub.execute_input": "2020-10-09T02:45:43.607597Z",
     "iopub.status.busy": "2020-10-09T02:45:43.607597Z",
     "iopub.status.idle": "2020-10-09T02:45:43.621561Z",
     "shell.execute_reply": "2020-10-09T02:45:43.621561Z",
     "shell.execute_reply.started": "2020-10-09T02:45:43.607597Z"
    }
   },
   "outputs": [],
   "source": [
    "expo['query_len'] = expo['query'].str.count(' ') + 1"
   ]
  },
  {
   "cell_type": "markdown",
   "metadata": {},
   "source": [
    "### Exploratory"
   ]
  },
  {
   "cell_type": "code",
   "execution_count": 18,
   "metadata": {
    "execution": {
     "iopub.execute_input": "2020-10-09T02:45:43.622558Z",
     "iopub.status.busy": "2020-10-09T02:45:43.622558Z",
     "iopub.status.idle": "2020-10-09T02:45:43.789139Z",
     "shell.execute_reply": "2020-10-09T02:45:43.789139Z",
     "shell.execute_reply.started": "2020-10-09T02:45:43.622558Z"
    }
   },
   "outputs": [
    {
     "data": {
      "image/png": "[encoded data removed]",
      "text/plain": [
       "<Figure size 432x288 with 1 Axes>"
      ]
     },
     "metadata": {
      "needs_background": "light"
     },
     "output_type": "display_data"
    }
   ],
   "source": [
    "sns.boxplot(x='median_relevance', y='sim', data=expo)\n",
    "plt.title('similarity score distribution')\n",
    "plt.show()"
   ]
  },
  {
   "cell_type": "code",
   "execution_count": 19,
   "metadata": {
    "execution": {
     "iopub.execute_input": "2020-10-09T02:45:43.790113Z",
     "iopub.status.busy": "2020-10-09T02:45:43.790113Z",
     "iopub.status.idle": "2020-10-09T02:45:43.924748Z",
     "shell.execute_reply": "2020-10-09T02:45:43.924748Z",
     "shell.execute_reply.started": "2020-10-09T02:45:43.790113Z"
    }
   },
   "outputs": [
    {
     "data": {
      "image/png": "[encoded data removed]",
      "text/plain": [
       "<Figure size 432x288 with 1 Axes>"
      ]
     },
     "metadata": {
      "needs_background": "light"
     },
     "output_type": "display_data"
    }
   ],
   "source": [
    "sns.boxplot(x='median_relevance', y='fuzzy', data=expo)\n",
    "plt.title('fuzzy score distribution')\n",
    "plt.show()"
   ]
  },
  {
   "cell_type": "markdown",
   "metadata": {},
   "source": [
    "**Observation** : positive correlation between fuzzywuzzy/similarity scores with median_relevance values."
   ]
  },
  {
   "cell_type": "code",
   "execution_count": 20,
   "metadata": {
    "execution": {
     "iopub.execute_input": "2020-10-09T02:45:43.925746Z",
     "iopub.status.busy": "2020-10-09T02:45:43.925746Z",
     "iopub.status.idle": "2020-10-09T02:45:44.104275Z",
     "shell.execute_reply": "2020-10-09T02:45:44.103275Z",
     "shell.execute_reply.started": "2020-10-09T02:45:43.925746Z"
    }
   },
   "outputs": [
    {
     "data": {
      "image/png": "[encoded data removed]",
      "text/plain": [
       "<Figure size 432x288 with 1 Axes>"
      ]
     },
     "metadata": {
      "needs_background": "light"
     },
     "output_type": "display_data"
    }
   ],
   "source": [
    "sns.boxplot(x='query_len', y='median_relevance', data=expo)\n",
    "plt.title('median relevance vary by query length')\n",
    "plt.show()"
   ]
  },
  {
   "cell_type": "code",
   "execution_count": 21,
   "metadata": {
    "execution": {
     "iopub.execute_input": "2020-10-09T02:45:44.105267Z",
     "iopub.status.busy": "2020-10-09T02:45:44.105267Z",
     "iopub.status.idle": "2020-10-09T02:45:44.119233Z",
     "shell.execute_reply": "2020-10-09T02:45:44.118233Z",
     "shell.execute_reply.started": "2020-10-09T02:45:44.105267Z"
    }
   },
   "outputs": [
    {
     "data": {
      "text/html": [
       "<div>\n",
       "<style scoped>\n",
       "    .dataframe tbody tr th:only-of-type {\n",
       "        vertical-align: middle;\n",
       "    }\n",
       "\n",
       "    .dataframe tbody tr th {\n",
       "        vertical-align: top;\n",
       "    }\n",
       "\n",
       "    .dataframe thead th {\n",
       "        text-align: right;\n",
       "    }\n",
       "</style>\n",
       "<table border=\"1\" class=\"dataframe\">\n",
       "  <thead>\n",
       "    <tr style=\"text-align: right;\">\n",
       "      <th></th>\n",
       "      <th>median_relevance</th>\n",
       "    </tr>\n",
       "    <tr>\n",
       "      <th>query_len</th>\n",
       "      <th></th>\n",
       "    </tr>\n",
       "  </thead>\n",
       "  <tbody>\n",
       "    <tr>\n",
       "      <th>1</th>\n",
       "      <td>3.340113</td>\n",
       "    </tr>\n",
       "    <tr>\n",
       "      <th>2</th>\n",
       "      <td>3.414203</td>\n",
       "    </tr>\n",
       "    <tr>\n",
       "      <th>3</th>\n",
       "      <td>3.152536</td>\n",
       "    </tr>\n",
       "    <tr>\n",
       "      <th>4</th>\n",
       "      <td>3.221622</td>\n",
       "    </tr>\n",
       "    <tr>\n",
       "      <th>5</th>\n",
       "      <td>2.855072</td>\n",
       "    </tr>\n",
       "    <tr>\n",
       "      <th>6</th>\n",
       "      <td>2.913580</td>\n",
       "    </tr>\n",
       "  </tbody>\n",
       "</table>\n",
       "</div>"
      ],
      "text/plain": [
       "           median_relevance\n",
       "query_len                  \n",
       "1                  3.340113\n",
       "2                  3.414203\n",
       "3                  3.152536\n",
       "4                  3.221622\n",
       "5                  2.855072\n",
       "6                  2.913580"
      ]
     },
     "execution_count": 21,
     "metadata": {},
     "output_type": "execute_result"
    }
   ],
   "source": [
    "expo.groupby(['query_len']).agg({'median_relevance': 'mean'})"
   ]
  },
  {
   "cell_type": "markdown",
   "metadata": {},
   "source": [
    "**Observations**: Longer search queries have lower median_relevance score on average."
   ]
  },
  {
   "cell_type": "code",
   "execution_count": 22,
   "metadata": {
    "execution": {
     "iopub.execute_input": "2020-10-09T02:45:44.122221Z",
     "iopub.status.busy": "2020-10-09T02:45:44.121224Z",
     "iopub.status.idle": "2020-10-09T02:45:44.134189Z",
     "shell.execute_reply": "2020-10-09T02:45:44.133191Z",
     "shell.execute_reply.started": "2020-10-09T02:45:44.121224Z"
    }
   },
   "outputs": [
    {
     "data": {
      "text/plain": [
       "4    0.607501\n",
       "3    0.170998\n",
       "2    0.145304\n",
       "1    0.076196\n",
       "Name: median_relevance, dtype: float64"
      ]
     },
     "execution_count": 22,
     "metadata": {},
     "output_type": "execute_result"
    }
   ],
   "source": [
    "expo['median_relevance'].value_counts(normalize=True)"
   ]
  },
  {
   "cell_type": "markdown",
   "metadata": {},
   "source": [
    "**Observations**: target variable is imbalance, with 60% of the rating being 4. We will need to modify the machine learning algorithm to account for this."
   ]
  },
  {
   "cell_type": "code",
   "execution_count": 23,
   "metadata": {
    "execution": {
     "iopub.execute_input": "2020-10-09T02:45:44.135186Z",
     "iopub.status.busy": "2020-10-09T02:45:44.135186Z",
     "iopub.status.idle": "2020-10-09T02:45:44.164136Z",
     "shell.execute_reply": "2020-10-09T02:45:44.164136Z",
     "shell.execute_reply.started": "2020-10-09T02:45:44.135186Z"
    }
   },
   "outputs": [],
   "source": [
    "# create separate list based on median_relevance. This is to preserve words that have particular strength on predicting rating 1-4\n",
    "\n",
    "med_rel_1 = expo.query('median_relevance == 1')['query'].to_list()\n",
    "med_rel_2 = expo.query('median_relevance == 2')['query'].to_list()\n",
    "med_rel_3 = expo.query('median_relevance == 3')['query'].to_list()\n",
    "med_rel_4 = expo.query('median_relevance == 4')['query'].to_list()"
   ]
  },
  {
   "cell_type": "markdown",
   "metadata": {},
   "source": [
    "### Generate Word features\n",
    "\n",
    "Apply Tfdif to get obtain words that are perceived to be important based on its appearance frequency."
   ]
  },
  {
   "cell_type": "code",
   "execution_count": 24,
   "metadata": {
    "execution": {
     "iopub.execute_input": "2020-10-09T02:45:44.165106Z",
     "iopub.status.busy": "2020-10-09T02:45:44.165106Z",
     "iopub.status.idle": "2020-10-09T02:45:44.280798Z",
     "shell.execute_reply": "2020-10-09T02:45:44.279945Z",
     "shell.execute_reply.started": "2020-10-09T02:45:44.165106Z"
    }
   },
   "outputs": [],
   "source": [
    "vect_1 = TfidfVectorizer(stop_words=stop, ngram_range=(1, 2))\n",
    "vect_1.fit_transform(med_rel_1)\n",
    "X_1 = vect_1.get_feature_names()\n",
    "\n",
    "vect_2 = TfidfVectorizer(stop_words=stop, ngram_range=(1, 2))\n",
    "vect_2.fit_transform(med_rel_2)\n",
    "X_2 = vect_2.get_feature_names()\n",
    "\n",
    "vect_3 = TfidfVectorizer(stop_words=stop, ngram_range=(1, 2))\n",
    "vect_3.fit_transform(med_rel_3)\n",
    "X_3 = vect_3.get_feature_names()\n",
    "\n",
    "vect_4 = TfidfVectorizer(stop_words=stop, ngram_range=(1, 2))\n",
    "vect_4.fit_transform(med_rel_4)\n",
    "X_4 = vect_4.get_feature_names()"
   ]
  },
  {
   "cell_type": "code",
   "execution_count": 25,
   "metadata": {
    "execution": {
     "iopub.execute_input": "2020-10-09T02:45:44.280798Z",
     "iopub.status.busy": "2020-10-09T02:45:44.280798Z",
     "iopub.status.idle": "2020-10-09T02:45:44.285785Z",
     "shell.execute_reply": "2020-10-09T02:45:44.284787Z",
     "shell.execute_reply.started": "2020-10-09T02:45:44.280798Z"
    }
   },
   "outputs": [],
   "source": [
    "# remvoe duplicates on words appear in multiple lists\n",
    "\n",
    "tup_list = list(set(X_1 + X_2 + X_3 + X_4))"
   ]
  },
  {
   "cell_type": "code",
   "execution_count": 26,
   "metadata": {
    "execution": {
     "iopub.execute_input": "2020-10-09T02:45:44.288777Z",
     "iopub.status.busy": "2020-10-09T02:45:44.288777Z",
     "iopub.status.idle": "2020-10-09T02:45:44.301740Z",
     "shell.execute_reply": "2020-10-09T02:45:44.300746Z",
     "shell.execute_reply.started": "2020-10-09T02:45:44.288777Z"
    }
   },
   "outputs": [],
   "source": [
    "# Store the list in a pickle file to used for tranforming test set later.\n",
    "\n",
    "with open('data/tup_list.pkl', 'wb') as f:\n",
    "    pickle.dump(tup_list, f)"
   ]
  },
  {
   "cell_type": "code",
   "execution_count": 27,
   "metadata": {
    "execution": {
     "iopub.execute_input": "2020-10-09T02:45:44.302739Z",
     "iopub.status.busy": "2020-10-09T02:45:44.302739Z",
     "iopub.status.idle": "2020-10-09T02:45:48.692677Z",
     "shell.execute_reply": "2020-10-09T02:45:48.692677Z",
     "shell.execute_reply.started": "2020-10-09T02:45:44.302739Z"
    }
   },
   "outputs": [],
   "source": [
    "# add key words as binary variable to the dataframe.\n",
    "\n",
    "for term in tup_list:\n",
    "    expo[term] = expo['query'].str.contains(term)"
   ]
  },
  {
   "cell_type": "code",
   "execution_count": 28,
   "metadata": {
    "execution": {
     "iopub.execute_input": "2020-10-09T02:45:48.693531Z",
     "iopub.status.busy": "2020-10-09T02:45:48.693531Z",
     "iopub.status.idle": "2020-10-09T02:45:51.051622Z",
     "shell.execute_reply": "2020-10-09T02:45:51.051622Z",
     "shell.execute_reply.started": "2020-10-09T02:45:48.693531Z"
    }
   },
   "outputs": [],
   "source": [
    "expo.set_index('id').to_csv('./data/df_clean.csv')"
   ]
  }
 ],
 "metadata": {
  "kernelspec": {
   "display_name": "Python 3",
   "language": "python",
   "name": "python3"
  },
  "language_info": {
   "codemirror_mode": {
    "name": "ipython",
    "version": 3
   },
   "file_extension": ".py",
   "mimetype": "text/x-python",
   "name": "python",
   "nbconvert_exporter": "python",
   "pygments_lexer": "ipython3",
   "version": "3.8.3"
  },
  "toc": {
   "base_numbering": 1,
   "nav_menu": {},
   "number_sections": true,
   "sideBar": true,
   "skip_h1_title": false,
   "title_cell": "Table of Contents",
   "title_sidebar": "Contents",
   "toc_cell": false,
   "toc_position": {},
   "toc_section_display": true,
   "toc_window_display": false
  },
  "varInspector": {
   "cols": {
    "lenName": 16,
    "lenType": 16,
    "lenVar": 40
   },
   "kernels_config": {
    "python": {
     "delete_cmd_postfix": "",
     "delete_cmd_prefix": "del ",
     "library": "var_list.py",
     "varRefreshCmd": "print(var_dic_list())"
    },
    "r": {
     "delete_cmd_postfix": ") ",
     "delete_cmd_prefix": "rm(",
     "library": "var_list.r",
     "varRefreshCmd": "cat(var_dic_list()) "
    }
   },
   "position": {
    "height": "377.986px",
    "left": "1275.98px",
    "right": "20px",
    "top": "286.993px",
    "width": "383.75px"
   },
   "types_to_exclude": [
    "module",
    "function",
    "builtin_function_or_method",
    "instance",
    "_Feature"
   ],
   "window_display": true
  }
 },
 "nbformat": 4,
 "nbformat_minor": 4
}
