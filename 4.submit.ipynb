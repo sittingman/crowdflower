{
 "cells": [
  {
   "cell_type": "markdown",
   "metadata": {},
   "source": [
    "# Summission to Kaggle\n",
    "\n",
    "This notebook consist of pipeline on generating predictions for Kaggle submissions."
   ]
  },
  {
   "cell_type": "code",
   "execution_count": 1,
   "metadata": {
    "execution": {
     "iopub.execute_input": "2020-10-06T19:03:40.540813Z",
     "iopub.status.busy": "2020-10-06T19:03:40.539821Z",
     "iopub.status.idle": "2020-10-06T19:03:46.639449Z",
     "shell.execute_reply": "2020-10-06T19:03:46.637778Z",
     "shell.execute_reply.started": "2020-10-06T19:03:40.540813Z"
    }
   },
   "outputs": [],
   "source": [
    "import pickle\n",
    "import warnings\n",
    "\n",
    "import matplotlib.pyplot as plt\n",
    "import nltk\n",
    "import numpy as np\n",
    "import pandas as pd\n",
    "import swifter\n",
    "from nltk.corpus import stopwords\n",
    "from sklearn.compose import ColumnTransformer\n",
    "from sklearn.dummy import DummyClassifier\n",
    "from sklearn.ensemble import ExtraTreesClassifier, RandomForestClassifier\n",
    "from sklearn.linear_model import LogisticRegression, LogisticRegressionCV\n",
    "from sklearn.metrics import cohen_kappa_score, make_scorer\n",
    "from sklearn.preprocessing import OneHotEncoder, StandardScaler\n",
    "from sklearn.svm import SVC\n",
    "from xgboost.sklearn import XGBClassifier\n",
    "\n",
    "stop = stopwords.words('english')\n",
    "warnings.simplefilter(action='ignore', category=FutureWarning)"
   ]
  },
  {
   "cell_type": "code",
   "execution_count": 2,
   "metadata": {
    "execution": {
     "iopub.execute_input": "2020-10-06T19:03:46.642464Z",
     "iopub.status.busy": "2020-10-06T19:03:46.641464Z",
     "iopub.status.idle": "2020-10-06T19:03:54.258439Z",
     "shell.execute_reply": "2020-10-06T19:03:54.258439Z",
     "shell.execute_reply.started": "2020-10-06T19:03:46.642464Z"
    }
   },
   "outputs": [],
   "source": [
    "df_clean = pd.read_csv('./data/df_clean.csv')\n",
    "df_test = pd.read_csv('./data/df_test.csv')"
   ]
  },
  {
   "cell_type": "code",
   "execution_count": 3,
   "metadata": {
    "execution": {
     "iopub.execute_input": "2020-10-06T19:03:54.262110Z",
     "iopub.status.busy": "2020-10-06T19:03:54.262110Z",
     "iopub.status.idle": "2020-10-06T19:03:54.321369Z",
     "shell.execute_reply": "2020-10-06T19:03:54.320349Z",
     "shell.execute_reply.started": "2020-10-06T19:03:54.262110Z"
    }
   },
   "outputs": [],
   "source": [
    "X = df_clean.set_index('id').loc[:, 'sim':]\n",
    "X = pd.get_dummies(X, columns=['query_len'], drop_first=True)"
   ]
  },
  {
   "cell_type": "code",
   "execution_count": 4,
   "metadata": {
    "execution": {
     "iopub.execute_input": "2020-10-06T19:03:54.326307Z",
     "iopub.status.busy": "2020-10-06T19:03:54.325346Z",
     "iopub.status.idle": "2020-10-06T19:03:54.415396Z",
     "shell.execute_reply": "2020-10-06T19:03:54.414398Z",
     "shell.execute_reply.started": "2020-10-06T19:03:54.325346Z"
    }
   },
   "outputs": [],
   "source": [
    "X_test = df_test.set_index('id').loc[:, 'sim':]\n",
    "X_test = pd.get_dummies(X_test, columns=['query_len'])"
   ]
  },
  {
   "cell_type": "code",
   "execution_count": 5,
   "metadata": {
    "execution": {
     "iopub.execute_input": "2020-10-06T19:03:54.416425Z",
     "iopub.status.busy": "2020-10-06T19:03:54.416425Z",
     "iopub.status.idle": "2020-10-06T19:03:54.447094Z",
     "shell.execute_reply": "2020-10-06T19:03:54.445137Z",
     "shell.execute_reply.started": "2020-10-06T19:03:54.416425Z"
    }
   },
   "outputs": [],
   "source": [
    "y = df_clean.set_index('id')['median_relevance']"
   ]
  },
  {
   "cell_type": "code",
   "execution_count": 6,
   "metadata": {
    "execution": {
     "iopub.execute_input": "2020-10-06T19:03:54.451045Z",
     "iopub.status.busy": "2020-10-06T19:03:54.450257Z",
     "iopub.status.idle": "2020-10-06T19:03:54.489166Z",
     "shell.execute_reply": "2020-10-06T19:03:54.487887Z",
     "shell.execute_reply.started": "2020-10-06T19:03:54.451045Z"
    }
   },
   "outputs": [],
   "source": [
    "final_train, final_test = X.align(X_test, join='left', axis=1)"
   ]
  },
  {
   "cell_type": "code",
   "execution_count": 7,
   "metadata": {
    "execution": {
     "iopub.execute_input": "2020-10-06T19:03:54.493718Z",
     "iopub.status.busy": "2020-10-06T19:03:54.492721Z",
     "iopub.status.idle": "2020-10-06T19:03:54.518885Z",
     "shell.execute_reply": "2020-10-06T19:03:54.516304Z",
     "shell.execute_reply.started": "2020-10-06T19:03:54.493718Z"
    }
   },
   "outputs": [
    {
     "name": "stdout",
     "output_type": "stream",
     "text": [
      "(10158, 837) (22513, 837)\n"
     ]
    }
   ],
   "source": [
    "print(final_train.shape, final_test.shape)"
   ]
  },
  {
   "cell_type": "markdown",
   "metadata": {},
   "source": [
    "### Dummy Classifier"
   ]
  },
  {
   "cell_type": "code",
   "execution_count": 8,
   "metadata": {
    "execution": {
     "iopub.execute_input": "2020-10-06T19:03:54.520879Z",
     "iopub.status.busy": "2020-10-06T19:03:54.520879Z",
     "iopub.status.idle": "2020-10-06T19:03:54.546597Z",
     "shell.execute_reply": "2020-10-06T19:03:54.544606Z",
     "shell.execute_reply.started": "2020-10-06T19:03:54.520879Z"
    }
   },
   "outputs": [],
   "source": [
    "dummy = DummyClassifier(strategy='most_frequent')\n",
    "dummy.fit(X, y)\n",
    "dum_pred = dummy.predict(X_test)"
   ]
  },
  {
   "cell_type": "code",
   "execution_count": 9,
   "metadata": {
    "execution": {
     "iopub.execute_input": "2020-10-06T19:03:54.551147Z",
     "iopub.status.busy": "2020-10-06T19:03:54.551147Z",
     "iopub.status.idle": "2020-10-06T19:03:54.574962Z",
     "shell.execute_reply": "2020-10-06T19:03:54.573061Z",
     "shell.execute_reply.started": "2020-10-06T19:03:54.551147Z"
    }
   },
   "outputs": [],
   "source": [
    "dum_df = pd.DataFrame(dum_pred, index=X_test.index, columns=['prediction'])"
   ]
  },
  {
   "cell_type": "code",
   "execution_count": 10,
   "metadata": {
    "execution": {
     "iopub.execute_input": "2020-10-06T19:03:54.580910Z",
     "iopub.status.busy": "2020-10-06T19:03:54.579777Z",
     "iopub.status.idle": "2020-10-06T19:03:54.704852Z",
     "shell.execute_reply": "2020-10-06T19:03:54.702853Z",
     "shell.execute_reply.started": "2020-10-06T19:03:54.580910Z"
    }
   },
   "outputs": [],
   "source": [
    "dum_df.to_csv('./data/dummy_sumbit.csv')"
   ]
  },
  {
   "cell_type": "markdown",
   "metadata": {},
   "source": [
    "### Transofmration\n",
    "\n",
    "Normizize 'sim' and 'fuzzy' columns to allow better fitting to "
   ]
  },
  {
   "cell_type": "code",
   "execution_count": 11,
   "metadata": {
    "execution": {
     "iopub.execute_input": "2020-10-06T19:03:54.708254Z",
     "iopub.status.busy": "2020-10-06T19:03:54.706844Z",
     "iopub.status.idle": "2020-10-06T19:03:55.641305Z",
     "shell.execute_reply": "2020-10-06T19:03:55.640159Z",
     "shell.execute_reply.started": "2020-10-06T19:03:54.708254Z"
    }
   },
   "outputs": [],
   "source": [
    "col = ['sim', 'fuzzy']\n",
    "\n",
    "ct = ColumnTransformer([('std_trans', StandardScaler(), col)],\n",
    "                       remainder='passthrough')\n",
    "train_x = ct.fit_transform(final_train)\n",
    "test_x = ct.transform(final_test)"
   ]
  },
  {
   "cell_type": "code",
   "execution_count": 12,
   "metadata": {
    "execution": {
     "iopub.execute_input": "2020-10-06T19:03:55.643558Z",
     "iopub.status.busy": "2020-10-06T19:03:55.643558Z",
     "iopub.status.idle": "2020-10-06T19:04:03.777000Z",
     "shell.execute_reply": "2020-10-06T19:04:03.776005Z",
     "shell.execute_reply.started": "2020-10-06T19:03:55.643558Z"
    }
   },
   "outputs": [],
   "source": [
    "lr = LogisticRegression(solver='newton-cg',\n",
    "                        class_weight='balanced',\n",
    "                        max_iter=2100,\n",
    "                        penalty='l2')\n",
    "lr.fit(train_x, y)\n",
    "pred_lr = lr.predict(test_x)"
   ]
  },
  {
   "cell_type": "code",
   "execution_count": 13,
   "metadata": {
    "execution": {
     "iopub.execute_input": "2020-10-06T19:04:03.777000Z",
     "iopub.status.busy": "2020-10-06T19:04:03.777000Z",
     "iopub.status.idle": "2020-10-06T19:04:03.790525Z",
     "shell.execute_reply": "2020-10-06T19:04:03.790009Z",
     "shell.execute_reply.started": "2020-10-06T19:04:03.777000Z"
    }
   },
   "outputs": [],
   "source": [
    "lr_df = pd.DataFrame(pred_lr, index=X_test.index, columns=['prediction'])"
   ]
  },
  {
   "cell_type": "code",
   "execution_count": 14,
   "metadata": {
    "execution": {
     "iopub.execute_input": "2020-10-06T19:04:03.792806Z",
     "iopub.status.busy": "2020-10-06T19:04:03.791818Z",
     "iopub.status.idle": "2020-10-06T19:04:03.882241Z",
     "shell.execute_reply": "2020-10-06T19:04:03.882241Z",
     "shell.execute_reply.started": "2020-10-06T19:04:03.792806Z"
    }
   },
   "outputs": [],
   "source": [
    "lr_df.to_csv('./data/lr_submit.csv')"
   ]
  },
  {
   "cell_type": "code",
   "execution_count": 15,
   "metadata": {
    "execution": {
     "iopub.execute_input": "2020-10-06T19:04:03.886485Z",
     "iopub.status.busy": "2020-10-06T19:04:03.885486Z",
     "iopub.status.idle": "2020-10-06T19:15:25.017437Z",
     "shell.execute_reply": "2020-10-06T19:15:25.015201Z",
     "shell.execute_reply.started": "2020-10-06T19:04:03.885881Z"
    }
   },
   "outputs": [],
   "source": [
    "svc = SVC(kernel='rbf',\n",
    "          gamma=0.1,\n",
    "          C=10,\n",
    "          degree=2,\n",
    "          decision_function_shape='ovo',\n",
    "          class_weight='balanced').fit(train_x, y)\n",
    "pred_rbf = svc.predict(test_x)"
   ]
  },
  {
   "cell_type": "code",
   "execution_count": 16,
   "metadata": {
    "execution": {
     "iopub.execute_input": "2020-10-06T19:15:25.017530Z",
     "iopub.status.busy": "2020-10-06T19:15:25.017530Z",
     "iopub.status.idle": "2020-10-06T19:15:25.032005Z",
     "shell.execute_reply": "2020-10-06T19:15:25.030475Z",
     "shell.execute_reply.started": "2020-10-06T19:15:25.017530Z"
    }
   },
   "outputs": [],
   "source": [
    "svc_df = pd.DataFrame(pred_rbf, index=X_test.index, columns=['prediction'])"
   ]
  },
  {
   "cell_type": "code",
   "execution_count": 17,
   "metadata": {
    "execution": {
     "iopub.execute_input": "2020-10-06T19:15:25.033532Z",
     "iopub.status.busy": "2020-10-06T19:15:25.033532Z",
     "iopub.status.idle": "2020-10-06T19:15:25.135507Z",
     "shell.execute_reply": "2020-10-06T19:15:25.133512Z",
     "shell.execute_reply.started": "2020-10-06T19:15:25.033532Z"
    }
   },
   "outputs": [],
   "source": [
    "svc_df.to_csv('./data/svc_submit.csv')"
   ]
  },
  {
   "cell_type": "code",
   "execution_count": 18,
   "metadata": {
    "execution": {
     "iopub.execute_input": "2020-10-06T19:15:25.138746Z",
     "iopub.status.busy": "2020-10-06T19:15:25.137745Z",
     "iopub.status.idle": "2020-10-06T19:23:02.618693Z",
     "shell.execute_reply": "2020-10-06T19:23:02.617651Z",
     "shell.execute_reply.started": "2020-10-06T19:15:25.138746Z"
    }
   },
   "outputs": [],
   "source": [
    "et = ExtraTreesClassifier(n_estimators=2600,\n",
    "                          min_samples_split=5,\n",
    "                          bootstrap=True,\n",
    "                          min_samples_leaf=1).fit(train_x, y)\n",
    "pred_et = et.predict(test_x)\n",
    "et_df = pd.DataFrame(pred_et, index=X_test.index, columns=['prediction'])"
   ]
  },
  {
   "cell_type": "code",
   "execution_count": 19,
   "metadata": {
    "execution": {
     "iopub.execute_input": "2020-10-06T19:23:02.621797Z",
     "iopub.status.busy": "2020-10-06T19:23:02.621797Z",
     "iopub.status.idle": "2020-10-06T19:23:02.737271Z",
     "shell.execute_reply": "2020-10-06T19:23:02.737271Z",
     "shell.execute_reply.started": "2020-10-06T19:23:02.621797Z"
    }
   },
   "outputs": [],
   "source": [
    "et_df.to_csv('./data/et_submit.csv')"
   ]
  },
  {
   "cell_type": "code",
   "execution_count": 20,
   "metadata": {
    "execution": {
     "iopub.execute_input": "2020-10-06T19:23:02.741229Z",
     "iopub.status.busy": "2020-10-06T19:23:02.737271Z",
     "iopub.status.idle": "2020-10-06T19:29:06.466578Z",
     "shell.execute_reply": "2020-10-06T19:29:06.466578Z",
     "shell.execute_reply.started": "2020-10-06T19:23:02.741229Z"
    }
   },
   "outputs": [],
   "source": [
    "rf = RandomForestClassifier(\n",
    "    n_estimators=2400, min_samples_split=10)\n",
    "rf.fit(train_x, y)\n",
    "pred_rf = rf.predict(test_x)\n",
    "rf_df = pd.DataFrame(pred_rf, index=X_test.index, columns=['prediction'])"
   ]
  },
  {
   "cell_type": "code",
   "execution_count": 21,
   "metadata": {
    "execution": {
     "iopub.execute_input": "2020-10-06T19:29:06.467623Z",
     "iopub.status.busy": "2020-10-06T19:29:06.467623Z",
     "iopub.status.idle": "2020-10-06T19:29:06.512462Z",
     "shell.execute_reply": "2020-10-06T19:29:06.511641Z",
     "shell.execute_reply.started": "2020-10-06T19:29:06.467623Z"
    }
   },
   "outputs": [],
   "source": [
    "rf_df.to_csv('./data/rf_submit.csv')"
   ]
  },
  {
   "cell_type": "code",
   "execution_count": 31,
   "metadata": {
    "execution": {
     "iopub.execute_input": "2020-10-06T19:45:59.780134Z",
     "iopub.status.busy": "2020-10-06T19:45:59.780134Z",
     "iopub.status.idle": "2020-10-06T19:55:03.065112Z",
     "shell.execute_reply": "2020-10-06T19:55:03.065112Z",
     "shell.execute_reply.started": "2020-10-06T19:45:59.780134Z"
    }
   },
   "outputs": [],
   "source": [
    "xgb = XGBClassifier(learning_rate=0.05,\n",
    "                    n_estimators=1300,\n",
    "                    max_depth=10,\n",
    "                    min_child_weight=1,\n",
    "                    gamma=0,\n",
    "                    subsample=0.8,\n",
    "                    colsample_bytree=0.8,\n",
    "                    objective='multi:softmax',\n",
    "                    num_class=4,\n",
    "                    seed=27)\n",
    "xgb.fit(train_x, y)\n",
    "pred_xgb = xgb.predict(test_x)\n",
    "xgb_df = pd.DataFrame(pred_xgb, index=X_test.index, columns=['prediction'])"
   ]
  },
  {
   "cell_type": "code",
   "execution_count": 32,
   "metadata": {
    "execution": {
     "iopub.execute_input": "2020-10-06T19:55:03.067129Z",
     "iopub.status.busy": "2020-10-06T19:55:03.067129Z",
     "iopub.status.idle": "2020-10-06T19:55:03.147871Z",
     "shell.execute_reply": "2020-10-06T19:55:03.146874Z",
     "shell.execute_reply.started": "2020-10-06T19:55:03.067129Z"
    }
   },
   "outputs": [],
   "source": [
    "xgb_df.to_csv('./data/xgb_submit.csv')"
   ]
  }
 ],
 "metadata": {
  "kernelspec": {
   "display_name": "Python 3",
   "language": "python",
   "name": "python3"
  },
  "language_info": {
   "codemirror_mode": {
    "name": "ipython",
    "version": 3
   },
   "file_extension": ".py",
   "mimetype": "text/x-python",
   "name": "python",
   "nbconvert_exporter": "python",
   "pygments_lexer": "ipython3",
   "version": "3.8.3"
  }
 },
 "nbformat": 4,
 "nbformat_minor": 4
}
