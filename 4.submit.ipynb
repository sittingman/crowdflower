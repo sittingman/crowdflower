{
 "cells": [
  {
   "cell_type": "markdown",
   "metadata": {},
   "source": [
    "# Summission to Kaggle\n",
    "\n",
    "This notebook consist of pipeline on generating predictions for Kaggle submissions."
   ]
  },
  {
   "cell_type": "code",
   "execution_count": 2,
   "metadata": {
    "execution": {
     "iopub.execute_input": "2020-10-04T19:58:04.448390Z",
     "iopub.status.busy": "2020-10-04T19:58:04.447389Z",
     "iopub.status.idle": "2020-10-04T19:58:08.602033Z",
     "shell.execute_reply": "2020-10-04T19:58:08.602033Z",
     "shell.execute_reply.started": "2020-10-04T19:58:04.448390Z"
    }
   },
   "outputs": [],
   "source": [
    "import pickle\n",
    "import warnings\n",
    "import swifter\n",
    "import matplotlib.pyplot as plt\n",
    "import nltk\n",
    "import numpy as np\n",
    "import pandas as pd\n",
    "from fuzzywuzzy import fuzz, process\n",
    "from lightgbm import LGBMClassifier\n",
    "from nltk.corpus import stopwords\n",
    "from sklearn.compose import ColumnTransformer\n",
    "from sklearn.dummy import DummyClassifier\n",
    "from sklearn.ensemble import ExtraTreesClassifier, RandomForestClassifier\n",
    "from sklearn.linear_model import LogisticRegression, LogisticRegressionCV\n",
    "from sklearn.metrics import cohen_kappa_score, make_scorer\n",
    "from sklearn.model_selection import StratifiedKFold, cross_val_score, train_test_split\n",
    "from sklearn.preprocessing import OneHotEncoder, StandardScaler\n",
    "from sklearn.svm import SVC\n",
    "from xgboost.sklearn import XGBClassifier\n",
    "from sentence_transformers import SentenceTransformer\n",
    "\n",
    "from scipy.spatial.distance import cosine\n",
    "bert_model = SentenceTransformer('bert-base-nli-mean-tokens')\n",
    "stop = stopwords.words('english')\n",
    "warnings.simplefilter(action='ignore', category=FutureWarning)"
   ]
  },
  {
   "cell_type": "code",
   "execution_count": 3,
   "metadata": {
    "execution": {
     "iopub.execute_input": "2020-10-04T19:58:08.602995Z",
     "iopub.status.busy": "2020-10-04T19:58:08.602995Z",
     "iopub.status.idle": "2020-10-04T19:58:10.973082Z",
     "shell.execute_reply": "2020-10-04T19:58:10.972082Z",
     "shell.execute_reply.started": "2020-10-04T19:58:08.602995Z"
    }
   },
   "outputs": [],
   "source": [
    "df_clean = pd.read_csv('./data/df_clean.csv')\n",
    "df_test = pd.read_csv('./data/df_test.csv')"
   ]
  },
  {
   "cell_type": "code",
   "execution_count": 72,
   "metadata": {
    "execution": {
     "iopub.execute_input": "2020-10-04T20:19:02.056283Z",
     "iopub.status.busy": "2020-10-04T20:19:02.055283Z",
     "iopub.status.idle": "2020-10-04T20:19:02.089193Z",
     "shell.execute_reply": "2020-10-04T20:19:02.089193Z",
     "shell.execute_reply.started": "2020-10-04T20:19:02.056283Z"
    }
   },
   "outputs": [],
   "source": [
    "X = df_clean.set_index('id').loc[:, 'sim':]\n",
    "X = pd.get_dummies(X, columns=['query_len'], drop_first=True)"
   ]
  },
  {
   "cell_type": "code",
   "execution_count": 73,
   "metadata": {
    "execution": {
     "iopub.execute_input": "2020-10-04T20:19:10.679647Z",
     "iopub.status.busy": "2020-10-04T20:19:10.679647Z",
     "iopub.status.idle": "2020-10-04T20:19:10.726524Z",
     "shell.execute_reply": "2020-10-04T20:19:10.726524Z",
     "shell.execute_reply.started": "2020-10-04T20:19:10.679647Z"
    }
   },
   "outputs": [],
   "source": [
    "X_test = df_test.set_index('id').loc[:,'sim':]\n",
    "X_test = pd.get_dummies(X_test, columns=['query_len'])"
   ]
  },
  {
   "cell_type": "code",
   "execution_count": 75,
   "metadata": {
    "execution": {
     "iopub.execute_input": "2020-10-04T20:19:40.199235Z",
     "iopub.status.busy": "2020-10-04T20:19:40.199235Z",
     "iopub.status.idle": "2020-10-04T20:19:40.208212Z",
     "shell.execute_reply": "2020-10-04T20:19:40.208212Z",
     "shell.execute_reply.started": "2020-10-04T20:19:40.199235Z"
    }
   },
   "outputs": [],
   "source": [
    "y = df_clean.set_index('id')['median_relevance']"
   ]
  },
  {
   "cell_type": "code",
   "execution_count": 76,
   "metadata": {
    "execution": {
     "iopub.execute_input": "2020-10-04T20:19:45.309369Z",
     "iopub.status.busy": "2020-10-04T20:19:45.309369Z",
     "iopub.status.idle": "2020-10-04T20:19:45.333336Z",
     "shell.execute_reply": "2020-10-04T20:19:45.333336Z",
     "shell.execute_reply.started": "2020-10-04T20:19:45.309369Z"
    }
   },
   "outputs": [],
   "source": [
    "final_train, final_test = X.align(X_test, join='left', axis=1)"
   ]
  },
  {
   "cell_type": "code",
   "execution_count": 77,
   "metadata": {
    "execution": {
     "iopub.execute_input": "2020-10-04T20:19:45.509833Z",
     "iopub.status.busy": "2020-10-04T20:19:45.508835Z",
     "iopub.status.idle": "2020-10-04T20:19:45.524792Z",
     "shell.execute_reply": "2020-10-04T20:19:45.523795Z",
     "shell.execute_reply.started": "2020-10-04T20:19:45.509833Z"
    }
   },
   "outputs": [
    {
     "name": "stdout",
     "output_type": "stream",
     "text": [
      "(10158, 728) (22513, 728)\n"
     ]
    }
   ],
   "source": [
    "print(final_train.shape, final_test.shape)"
   ]
  },
  {
   "cell_type": "markdown",
   "metadata": {},
   "source": [
    "### Dummy Classifier"
   ]
  },
  {
   "cell_type": "code",
   "execution_count": 78,
   "metadata": {
    "execution": {
     "iopub.execute_input": "2020-10-04T20:19:47.485144Z",
     "iopub.status.busy": "2020-10-04T20:19:47.485144Z",
     "iopub.status.idle": "2020-10-04T20:19:47.493140Z",
     "shell.execute_reply": "2020-10-04T20:19:47.493140Z",
     "shell.execute_reply.started": "2020-10-04T20:19:47.485144Z"
    }
   },
   "outputs": [],
   "source": [
    "dummy = DummyClassifier(strategy='most_frequent')\n",
    "dummy.fit(X, y)\n",
    "dum_pred = dummy.predict(X_test)"
   ]
  },
  {
   "cell_type": "code",
   "execution_count": 79,
   "metadata": {
    "execution": {
     "iopub.execute_input": "2020-10-04T20:19:47.674654Z",
     "iopub.status.busy": "2020-10-04T20:19:47.674654Z",
     "iopub.status.idle": "2020-10-04T20:19:47.683630Z",
     "shell.execute_reply": "2020-10-04T20:19:47.683630Z",
     "shell.execute_reply.started": "2020-10-04T20:19:47.674654Z"
    }
   },
   "outputs": [],
   "source": [
    "dum_df = pd.DataFrame(dum_pred, index=X_test.index, columns=['prediction'])"
   ]
  },
  {
   "cell_type": "code",
   "execution_count": 80,
   "metadata": {
    "execution": {
     "iopub.execute_input": "2020-10-04T20:19:47.875119Z",
     "iopub.status.busy": "2020-10-04T20:19:47.874122Z",
     "iopub.status.idle": "2020-10-04T20:19:47.917006Z",
     "shell.execute_reply": "2020-10-04T20:19:47.917006Z",
     "shell.execute_reply.started": "2020-10-04T20:19:47.875119Z"
    }
   },
   "outputs": [],
   "source": [
    "dum_df.to_csv('./data/dummy_sumbit.csv')"
   ]
  },
  {
   "cell_type": "markdown",
   "metadata": {},
   "source": [
    "### Transofmration\n",
    "\n",
    "Normizize 'sim' and 'fuzzy' columns to allow better fitting to "
   ]
  },
  {
   "cell_type": "code",
   "execution_count": 83,
   "metadata": {
    "execution": {
     "iopub.execute_input": "2020-10-04T20:19:53.350773Z",
     "iopub.status.busy": "2020-10-04T20:19:53.350773Z",
     "iopub.status.idle": "2020-10-04T20:19:53.904774Z",
     "shell.execute_reply": "2020-10-04T20:19:53.903775Z",
     "shell.execute_reply.started": "2020-10-04T20:19:53.350773Z"
    }
   },
   "outputs": [],
   "source": [
    "col = ['sim', 'fuzzy']\n",
    "\n",
    "ct = ColumnTransformer(\n",
    "    [('std_trans', StandardScaler(), col)], remainder='passthrough')\n",
    "train_x = ct.fit_transform(final_train)\n",
    "test_x = ct.transform(final_test)"
   ]
  },
  {
   "cell_type": "code",
   "execution_count": 84,
   "metadata": {
    "execution": {
     "iopub.execute_input": "2020-10-04T20:19:57.053852Z",
     "iopub.status.busy": "2020-10-04T20:19:57.053852Z",
     "iopub.status.idle": "2020-10-04T20:20:00.434136Z",
     "shell.execute_reply": "2020-10-04T20:20:00.433139Z",
     "shell.execute_reply.started": "2020-10-04T20:19:57.053852Z"
    }
   },
   "outputs": [],
   "source": [
    "lr = LogisticRegression(solver='newton-cg', class_weight='balanced', max_iter=2100, penalty='l2')\n",
    "lr.fit(train_x, y)\n",
    "pred_lr = lr.predict(test_x)"
   ]
  },
  {
   "cell_type": "code",
   "execution_count": 85,
   "metadata": {
    "execution": {
     "iopub.execute_input": "2020-10-04T20:20:04.217593Z",
     "iopub.status.busy": "2020-10-04T20:20:04.217593Z",
     "iopub.status.idle": "2020-10-04T20:20:04.231556Z",
     "shell.execute_reply": "2020-10-04T20:20:04.230558Z",
     "shell.execute_reply.started": "2020-10-04T20:20:04.217593Z"
    }
   },
   "outputs": [],
   "source": [
    "lr_df = pd.DataFrame(pred_lr, index=X_test.index, columns=['prediction'])"
   ]
  },
  {
   "cell_type": "code",
   "execution_count": 86,
   "metadata": {
    "execution": {
     "iopub.execute_input": "2020-10-04T20:20:05.813303Z",
     "iopub.status.busy": "2020-10-04T20:20:05.812305Z",
     "iopub.status.idle": "2020-10-04T20:20:05.848210Z",
     "shell.execute_reply": "2020-10-04T20:20:05.847212Z",
     "shell.execute_reply.started": "2020-10-04T20:20:05.813303Z"
    }
   },
   "outputs": [],
   "source": [
    "lr_df.to_csv('./data/lr_submit.csv')"
   ]
  },
  {
   "cell_type": "code",
   "execution_count": 87,
   "metadata": {
    "execution": {
     "iopub.execute_input": "2020-10-04T20:20:49.229988Z",
     "iopub.status.busy": "2020-10-04T20:20:49.229988Z",
     "iopub.status.idle": "2020-10-04T20:25:58.386441Z",
     "shell.execute_reply": "2020-10-04T20:25:58.385475Z",
     "shell.execute_reply.started": "2020-10-04T20:20:49.229988Z"
    }
   },
   "outputs": [],
   "source": [
    "svc = SVC(kernel='rbf', gamma=0.1, C=10, degree=2,\n",
    "          decision_function_shape='ovo', class_weight='balanced').fit(train_x, y)\n",
    "pred_rbf = svc.predict(test_x)"
   ]
  },
  {
   "cell_type": "code",
   "execution_count": 88,
   "metadata": {
    "execution": {
     "iopub.execute_input": "2020-10-04T20:25:58.387436Z",
     "iopub.status.busy": "2020-10-04T20:25:58.387436Z",
     "iopub.status.idle": "2020-10-04T20:25:58.402398Z",
     "shell.execute_reply": "2020-10-04T20:25:58.401428Z",
     "shell.execute_reply.started": "2020-10-04T20:25:58.387436Z"
    }
   },
   "outputs": [],
   "source": [
    "svc_df = pd.DataFrame(pred_rbf, index=X_test.index, columns=['prediction'])"
   ]
  },
  {
   "cell_type": "code",
   "execution_count": 89,
   "metadata": {
    "execution": {
     "iopub.execute_input": "2020-10-04T20:25:58.404391Z",
     "iopub.status.busy": "2020-10-04T20:25:58.404391Z",
     "iopub.status.idle": "2020-10-04T20:25:58.481186Z",
     "shell.execute_reply": "2020-10-04T20:25:58.480188Z",
     "shell.execute_reply.started": "2020-10-04T20:25:58.404391Z"
    }
   },
   "outputs": [],
   "source": [
    "svc_df.to_csv('./data/svc_submit.csv')"
   ]
  },
  {
   "cell_type": "code",
   "execution_count": 92,
   "metadata": {
    "execution": {
     "iopub.execute_input": "2020-10-04T20:27:43.401348Z",
     "iopub.status.busy": "2020-10-04T20:27:43.401348Z",
     "iopub.status.idle": "2020-10-04T20:29:28.093494Z",
     "shell.execute_reply": "2020-10-04T20:29:28.093494Z",
     "shell.execute_reply.started": "2020-10-04T20:27:43.401348Z"
    }
   },
   "outputs": [],
   "source": [
    "et = ExtraTreesClassifier( n_estimators=2600, min_samples_split=5, bootstrap=True,\n",
    "                          min_samples_leaf=1).fit(train_x, y)\n",
    "pred_et = et.predict(test_x)\n",
    "et_df = pd.DataFrame(pred_et, index=X_test.index, columns=['prediction'])"
   ]
  },
  {
   "cell_type": "code",
   "execution_count": 93,
   "metadata": {
    "execution": {
     "iopub.execute_input": "2020-10-04T20:29:28.095488Z",
     "iopub.status.busy": "2020-10-04T20:29:28.095488Z",
     "iopub.status.idle": "2020-10-04T20:29:28.157324Z",
     "shell.execute_reply": "2020-10-04T20:29:28.156327Z",
     "shell.execute_reply.started": "2020-10-04T20:29:28.095488Z"
    }
   },
   "outputs": [],
   "source": [
    "et_df.to_csv('./data/et_submit.csv')"
   ]
  },
  {
   "cell_type": "code",
   "execution_count": 90,
   "metadata": {
    "execution": {
     "iopub.execute_input": "2020-10-04T20:25:58.483182Z",
     "iopub.status.busy": "2020-10-04T20:25:58.482184Z",
     "iopub.status.idle": "2020-10-04T20:27:43.336523Z",
     "shell.execute_reply": "2020-10-04T20:27:43.335526Z",
     "shell.execute_reply.started": "2020-10-04T20:25:58.483182Z"
    }
   },
   "outputs": [],
   "source": [
    "rf = RandomForestClassifier(n_estimators=1000, min_samples_split=15)\n",
    "rf.fit(train_x, y)\n",
    "pred_rf = rf.predict(test_x)\n",
    "rf_df = pd.DataFrame(pred_rf, index=X_test.index, columns=['prediction'])"
   ]
  },
  {
   "cell_type": "code",
   "execution_count": 91,
   "metadata": {
    "execution": {
     "iopub.execute_input": "2020-10-04T20:27:43.337521Z",
     "iopub.status.busy": "2020-10-04T20:27:43.337521Z",
     "iopub.status.idle": "2020-10-04T20:27:43.399355Z",
     "shell.execute_reply": "2020-10-04T20:27:43.399355Z",
     "shell.execute_reply.started": "2020-10-04T20:27:43.337521Z"
    }
   },
   "outputs": [],
   "source": [
    "rf_df.to_csv('./data/rf_submit.csv')"
   ]
  },
  {
   "cell_type": "code",
   "execution_count": 94,
   "metadata": {
    "execution": {
     "iopub.execute_input": "2020-10-04T20:29:28.158322Z",
     "iopub.status.busy": "2020-10-04T20:29:28.158322Z",
     "iopub.status.idle": "2020-10-04T20:34:14.358228Z",
     "shell.execute_reply": "2020-10-04T20:34:14.357231Z",
     "shell.execute_reply.started": "2020-10-04T20:29:28.158322Z"
    }
   },
   "outputs": [],
   "source": [
    "xgb = XGBClassifier(learning_rate=0.1,\n",
    "                    n_estimators=1000,\n",
    "                    max_depth=5,\n",
    "                    min_child_weight=1,\n",
    "                    gamma=0,\n",
    "                    subsample=0.8,\n",
    "                    colsample_bytree=0.8,\n",
    "                    objective='multi:softmax',\n",
    "                    nthread=4,\n",
    "                    num_class=9,\n",
    "                    seed=27)\n",
    "xgb.fit(train_x, y)\n",
    "pred_xgb = xgb.predict(test_x)\n",
    "xgb_df = pd.DataFrame(pred_xgb, index=X_test.index, columns=['prediction'])"
   ]
  },
  {
   "cell_type": "code",
   "execution_count": 95,
   "metadata": {
    "execution": {
     "iopub.execute_input": "2020-10-04T20:34:14.361220Z",
     "iopub.status.busy": "2020-10-04T20:34:14.361220Z",
     "iopub.status.idle": "2020-10-04T20:34:14.435022Z",
     "shell.execute_reply": "2020-10-04T20:34:14.434025Z",
     "shell.execute_reply.started": "2020-10-04T20:34:14.361220Z"
    }
   },
   "outputs": [],
   "source": [
    "xgb_df.to_csv('./data/xgb_submit.csv')"
   ]
  },
  {
   "cell_type": "code",
   "execution_count": 96,
   "metadata": {
    "execution": {
     "iopub.execute_input": "2020-10-04T20:34:14.436020Z",
     "iopub.status.busy": "2020-10-04T20:34:14.436020Z",
     "iopub.status.idle": "2020-10-04T20:34:30.074264Z",
     "shell.execute_reply": "2020-10-04T20:34:30.073265Z",
     "shell.execute_reply.started": "2020-10-04T20:34:14.436020Z"
    }
   },
   "outputs": [],
   "source": [
    "lgb = LGBMClassifier(learning_rate=.03, objective='multiclass',\n",
    "                     boosting_type='gbdt', n_estimators=1000, class_weight='balanced', colsample_bytree=0.8)\n",
    "lgb.fit(train_x, y)\n",
    "pred_lgb = lgb.predict(test_x)\n",
    "lgb_df = pd.DataFrame(pred_lgb, index=X_test.index, columns=['prediction'])"
   ]
  },
  {
   "cell_type": "code",
   "execution_count": 97,
   "metadata": {
    "execution": {
     "iopub.execute_input": "2020-10-04T20:34:30.076257Z",
     "iopub.status.busy": "2020-10-04T20:34:30.075261Z",
     "iopub.status.idle": "2020-10-04T20:34:30.119169Z",
     "shell.execute_reply": "2020-10-04T20:34:30.119169Z",
     "shell.execute_reply.started": "2020-10-04T20:34:30.076257Z"
    }
   },
   "outputs": [],
   "source": [
    "lgb_df.to_csv('./data/lgb_submit.csv')"
   ]
  },
  {
   "cell_type": "code",
   "execution_count": null,
   "metadata": {},
   "outputs": [],
   "source": []
  }
 ],
 "metadata": {
  "kernelspec": {
   "display_name": "Python 3",
   "language": "python",
   "name": "python3"
  },
  "language_info": {
   "codemirror_mode": {
    "name": "ipython",
    "version": 3
   },
   "file_extension": ".py",
   "mimetype": "text/x-python",
   "name": "python",
   "nbconvert_exporter": "python",
   "pygments_lexer": "ipython3",
   "version": "3.8.5"
  }
 },
 "nbformat": 4,
 "nbformat_minor": 4
}
