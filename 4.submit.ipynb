{
 "cells": [
  {
   "cell_type": "code",
   "execution_count": 1,
   "metadata": {
    "execution": {
     "iopub.status.idle": "2020-09-27T01:49:07.972569Z",
     "shell.execute_reply": "2020-09-27T01:49:07.971659Z",
     "shell.execute_reply.started": "2020-09-27T01:49:05.176547Z"
    }
   },
   "outputs": [
    {
     "name": "stderr",
     "output_type": "stream",
     "text": [
      "Using TensorFlow backend.\n",
      "C:\\Users\\sit_k\\AppData\\Local\\Continuum\\anaconda3\\lib\\site-packages\\tensorflow\\python\\framework\\dtypes.py:516: FutureWarning: Passing (type, 1) or '1type' as a synonym of type is deprecated; in a future version of numpy, it will be understood as (type, (1,)) / '(1,)type'.\n",
      "  _np_qint8 = np.dtype([(\"qint8\", np.int8, 1)])\n",
      "C:\\Users\\sit_k\\AppData\\Local\\Continuum\\anaconda3\\lib\\site-packages\\tensorflow\\python\\framework\\dtypes.py:517: FutureWarning: Passing (type, 1) or '1type' as a synonym of type is deprecated; in a future version of numpy, it will be understood as (type, (1,)) / '(1,)type'.\n",
      "  _np_quint8 = np.dtype([(\"quint8\", np.uint8, 1)])\n",
      "C:\\Users\\sit_k\\AppData\\Local\\Continuum\\anaconda3\\lib\\site-packages\\tensorflow\\python\\framework\\dtypes.py:518: FutureWarning: Passing (type, 1) or '1type' as a synonym of type is deprecated; in a future version of numpy, it will be understood as (type, (1,)) / '(1,)type'.\n",
      "  _np_qint16 = np.dtype([(\"qint16\", np.int16, 1)])\n",
      "C:\\Users\\sit_k\\AppData\\Local\\Continuum\\anaconda3\\lib\\site-packages\\tensorflow\\python\\framework\\dtypes.py:519: FutureWarning: Passing (type, 1) or '1type' as a synonym of type is deprecated; in a future version of numpy, it will be understood as (type, (1,)) / '(1,)type'.\n",
      "  _np_quint16 = np.dtype([(\"quint16\", np.uint16, 1)])\n",
      "C:\\Users\\sit_k\\AppData\\Local\\Continuum\\anaconda3\\lib\\site-packages\\tensorflow\\python\\framework\\dtypes.py:520: FutureWarning: Passing (type, 1) or '1type' as a synonym of type is deprecated; in a future version of numpy, it will be understood as (type, (1,)) / '(1,)type'.\n",
      "  _np_qint32 = np.dtype([(\"qint32\", np.int32, 1)])\n",
      "C:\\Users\\sit_k\\AppData\\Local\\Continuum\\anaconda3\\lib\\site-packages\\tensorflow\\python\\framework\\dtypes.py:525: FutureWarning: Passing (type, 1) or '1type' as a synonym of type is deprecated; in a future version of numpy, it will be understood as (type, (1,)) / '(1,)type'.\n",
      "  np_resource = np.dtype([(\"resource\", np.ubyte, 1)])\n",
      "C:\\Users\\sit_k\\AppData\\Local\\Continuum\\anaconda3\\lib\\site-packages\\tensorboard\\compat\\tensorflow_stub\\dtypes.py:541: FutureWarning: Passing (type, 1) or '1type' as a synonym of type is deprecated; in a future version of numpy, it will be understood as (type, (1,)) / '(1,)type'.\n",
      "  _np_qint8 = np.dtype([(\"qint8\", np.int8, 1)])\n",
      "C:\\Users\\sit_k\\AppData\\Local\\Continuum\\anaconda3\\lib\\site-packages\\tensorboard\\compat\\tensorflow_stub\\dtypes.py:542: FutureWarning: Passing (type, 1) or '1type' as a synonym of type is deprecated; in a future version of numpy, it will be understood as (type, (1,)) / '(1,)type'.\n",
      "  _np_quint8 = np.dtype([(\"quint8\", np.uint8, 1)])\n",
      "C:\\Users\\sit_k\\AppData\\Local\\Continuum\\anaconda3\\lib\\site-packages\\tensorboard\\compat\\tensorflow_stub\\dtypes.py:543: FutureWarning: Passing (type, 1) or '1type' as a synonym of type is deprecated; in a future version of numpy, it will be understood as (type, (1,)) / '(1,)type'.\n",
      "  _np_qint16 = np.dtype([(\"qint16\", np.int16, 1)])\n",
      "C:\\Users\\sit_k\\AppData\\Local\\Continuum\\anaconda3\\lib\\site-packages\\tensorboard\\compat\\tensorflow_stub\\dtypes.py:544: FutureWarning: Passing (type, 1) or '1type' as a synonym of type is deprecated; in a future version of numpy, it will be understood as (type, (1,)) / '(1,)type'.\n",
      "  _np_quint16 = np.dtype([(\"quint16\", np.uint16, 1)])\n",
      "C:\\Users\\sit_k\\AppData\\Local\\Continuum\\anaconda3\\lib\\site-packages\\tensorboard\\compat\\tensorflow_stub\\dtypes.py:545: FutureWarning: Passing (type, 1) or '1type' as a synonym of type is deprecated; in a future version of numpy, it will be understood as (type, (1,)) / '(1,)type'.\n",
      "  _np_qint32 = np.dtype([(\"qint32\", np.int32, 1)])\n",
      "C:\\Users\\sit_k\\AppData\\Local\\Continuum\\anaconda3\\lib\\site-packages\\tensorboard\\compat\\tensorflow_stub\\dtypes.py:550: FutureWarning: Passing (type, 1) or '1type' as a synonym of type is deprecated; in a future version of numpy, it will be understood as (type, (1,)) / '(1,)type'.\n",
      "  np_resource = np.dtype([(\"resource\", np.ubyte, 1)])\n"
     ]
    }
   ],
   "source": [
    "import warnings\n",
    "\n",
    "import keras\n",
    "import matplotlib.pyplot as plt\n",
    "import pickle\n",
    "import nltk\n",
    "import numpy as np\n",
    "import pandas as pd\n",
    "import tensorflow as tf\n",
    "from fuzzywuzzy import fuzz, process\n",
    "from keras.layers import Dense\n",
    "from keras.models import Sequential, load_model\n",
    "from keras.utils import np_utils\n",
    "from keras.wrappers.scikit_learn import KerasClassifier\n",
    "from nltk.corpus import stopwords\n",
    "from sklearn.dummy import DummyClassifier\n",
    "from sklearn.linear_model import LogisticRegression, LogisticRegressionCV\n",
    "from sklearn.metrics import cohen_kappa_score, make_scorer\n",
    "from sklearn.model_selection import StratifiedKFold, cross_val_score, train_test_split\n",
    "from sklearn.preprocessing import StandardScaler\n",
    "from sklearn.svm import SVC\n",
    "from sklearn.ensemble import ExtraTreesClassifier\n",
    "from xgboost.sklearn import XGBClassifier\n",
    "\n",
    "stop = stopwords.words('english')\n",
    "warnings.simplefilter(action='ignore', category=FutureWarning)"
   ]
  },
  {
   "cell_type": "code",
   "execution_count": 2,
   "metadata": {
    "execution": {
     "iopub.execute_input": "2020-09-27T01:49:07.974594Z",
     "iopub.status.busy": "2020-09-27T01:49:07.974594Z",
     "iopub.status.idle": "2020-09-27T01:49:08.192977Z",
     "shell.execute_reply": "2020-09-27T01:49:08.192179Z",
     "shell.execute_reply.started": "2020-09-27T01:49:07.974594Z"
    }
   },
   "outputs": [],
   "source": [
    "df_clean = pd.read_csv('./data/df_clean.csv', index_col=0)\n",
    "df_test = pd.read_csv('./data/test.csv')"
   ]
  },
  {
   "cell_type": "code",
   "execution_count": 3,
   "metadata": {
    "execution": {
     "iopub.execute_input": "2020-09-27T01:49:08.196178Z",
     "iopub.status.busy": "2020-09-27T01:49:08.196178Z",
     "iopub.status.idle": "2020-09-27T01:49:08.223648Z",
     "shell.execute_reply": "2020-09-27T01:49:08.223648Z",
     "shell.execute_reply.started": "2020-09-27T01:49:08.196178Z"
    }
   },
   "outputs": [
    {
     "data": {
      "text/html": [
       "<div>\n",
       "<style scoped>\n",
       "    .dataframe tbody tr th:only-of-type {\n",
       "        vertical-align: middle;\n",
       "    }\n",
       "\n",
       "    .dataframe tbody tr th {\n",
       "        vertical-align: top;\n",
       "    }\n",
       "\n",
       "    .dataframe thead th {\n",
       "        text-align: right;\n",
       "    }\n",
       "</style>\n",
       "<table border=\"1\" class=\"dataframe\">\n",
       "  <thead>\n",
       "    <tr style=\"text-align: right;\">\n",
       "      <th></th>\n",
       "      <th>query</th>\n",
       "      <th>product_title</th>\n",
       "      <th>product_description</th>\n",
       "      <th>median_relevance</th>\n",
       "      <th>relevance_variance</th>\n",
       "      <th>target</th>\n",
       "      <th>prod_clean</th>\n",
       "      <th>desc_clean</th>\n",
       "      <th>prod_fuzzy</th>\n",
       "      <th>desc_fuzzy</th>\n",
       "      <th>...</th>\n",
       "      <th>francisco</th>\n",
       "      <th>prom</th>\n",
       "      <th>clothes</th>\n",
       "      <th>case</th>\n",
       "      <th>bay</th>\n",
       "      <th>note</th>\n",
       "      <th>comforter</th>\n",
       "      <th>tick</th>\n",
       "      <th>control</th>\n",
       "      <th>toe</th>\n",
       "    </tr>\n",
       "    <tr>\n",
       "      <th>id</th>\n",
       "      <th></th>\n",
       "      <th></th>\n",
       "      <th></th>\n",
       "      <th></th>\n",
       "      <th></th>\n",
       "      <th></th>\n",
       "      <th></th>\n",
       "      <th></th>\n",
       "      <th></th>\n",
       "      <th></th>\n",
       "      <th></th>\n",
       "      <th></th>\n",
       "      <th></th>\n",
       "      <th></th>\n",
       "      <th></th>\n",
       "      <th></th>\n",
       "      <th></th>\n",
       "      <th></th>\n",
       "      <th></th>\n",
       "      <th></th>\n",
       "      <th></th>\n",
       "    </tr>\n",
       "  </thead>\n",
       "  <tbody>\n",
       "    <tr>\n",
       "      <th>1</th>\n",
       "      <td>bridal shower decorations</td>\n",
       "      <td>Accent Pillow with Heart Design - Red/Black</td>\n",
       "      <td>Red satin accent pillow embroidered with a hea...</td>\n",
       "      <td>1</td>\n",
       "      <td>0.000</td>\n",
       "      <td>1</td>\n",
       "      <td>accent pillow heart design - red/black</td>\n",
       "      <td>red satin accent pillow embroidered heart blac...</td>\n",
       "      <td>44</td>\n",
       "      <td>44</td>\n",
       "      <td>...</td>\n",
       "      <td>False</td>\n",
       "      <td>False</td>\n",
       "      <td>False</td>\n",
       "      <td>False</td>\n",
       "      <td>False</td>\n",
       "      <td>False</td>\n",
       "      <td>False</td>\n",
       "      <td>False</td>\n",
       "      <td>False</td>\n",
       "      <td>False</td>\n",
       "    </tr>\n",
       "    <tr>\n",
       "      <th>2</th>\n",
       "      <td>led christmas lights</td>\n",
       "      <td>Set of 10 Battery Operated Multi LED Train Chr...</td>\n",
       "      <td>Set of 10 Battery Operated Train Christmas Lig...</td>\n",
       "      <td>4</td>\n",
       "      <td>0.000</td>\n",
       "      <td>4</td>\n",
       "      <td>set  battery operated multi led train christma...</td>\n",
       "      <td>set  battery operated train christmas lights i...</td>\n",
       "      <td>85</td>\n",
       "      <td>50</td>\n",
       "      <td>...</td>\n",
       "      <td>False</td>\n",
       "      <td>False</td>\n",
       "      <td>False</td>\n",
       "      <td>False</td>\n",
       "      <td>False</td>\n",
       "      <td>False</td>\n",
       "      <td>False</td>\n",
       "      <td>False</td>\n",
       "      <td>False</td>\n",
       "      <td>False</td>\n",
       "    </tr>\n",
       "    <tr>\n",
       "      <th>4</th>\n",
       "      <td>projector</td>\n",
       "      <td>ViewSonic Pro8200 DLP Multimedia Projector</td>\n",
       "      <td>NaN</td>\n",
       "      <td>4</td>\n",
       "      <td>0.471</td>\n",
       "      <td>4</td>\n",
       "      <td>viewsonic pro dlp multimedia projector</td>\n",
       "      <td>none</td>\n",
       "      <td>100</td>\n",
       "      <td>50</td>\n",
       "      <td>...</td>\n",
       "      <td>False</td>\n",
       "      <td>False</td>\n",
       "      <td>False</td>\n",
       "      <td>False</td>\n",
       "      <td>False</td>\n",
       "      <td>False</td>\n",
       "      <td>False</td>\n",
       "      <td>False</td>\n",
       "      <td>False</td>\n",
       "      <td>False</td>\n",
       "    </tr>\n",
       "    <tr>\n",
       "      <th>5</th>\n",
       "      <td>wine rack</td>\n",
       "      <td>Concept Housewares WR-44526 Solid-Wood Ceiling...</td>\n",
       "      <td>Like a silent and sturdy tree, the Southern En...</td>\n",
       "      <td>4</td>\n",
       "      <td>0.000</td>\n",
       "      <td>4</td>\n",
       "      <td>concept housewares wr- solid-wood ceiling/wall...</td>\n",
       "      <td>like silent sturdy tree, southern enterprises ...</td>\n",
       "      <td>100</td>\n",
       "      <td>56</td>\n",
       "      <td>...</td>\n",
       "      <td>False</td>\n",
       "      <td>False</td>\n",
       "      <td>False</td>\n",
       "      <td>False</td>\n",
       "      <td>False</td>\n",
       "      <td>False</td>\n",
       "      <td>False</td>\n",
       "      <td>False</td>\n",
       "      <td>False</td>\n",
       "      <td>False</td>\n",
       "    </tr>\n",
       "    <tr>\n",
       "      <th>7</th>\n",
       "      <td>light bulb</td>\n",
       "      <td>Wintergreen Lighting Christmas LED Light Bulb ...</td>\n",
       "      <td>WTGR1011\\nFeatures\\nNickel base, 60,000 averag...</td>\n",
       "      <td>2</td>\n",
       "      <td>0.471</td>\n",
       "      <td>2</td>\n",
       "      <td>wintergreen lighting christmas led light bulb ...</td>\n",
       "      <td>wtgr features nickel base, , average hours, ac...</td>\n",
       "      <td>100</td>\n",
       "      <td>100</td>\n",
       "      <td>...</td>\n",
       "      <td>False</td>\n",
       "      <td>False</td>\n",
       "      <td>False</td>\n",
       "      <td>False</td>\n",
       "      <td>False</td>\n",
       "      <td>False</td>\n",
       "      <td>False</td>\n",
       "      <td>False</td>\n",
       "      <td>False</td>\n",
       "      <td>False</td>\n",
       "    </tr>\n",
       "  </tbody>\n",
       "</table>\n",
       "<p>5 rows × 42 columns</p>\n",
       "</div>"
      ],
      "text/plain": [
       "                        query  \\\n",
       "id                              \n",
       "1   bridal shower decorations   \n",
       "2        led christmas lights   \n",
       "4                   projector   \n",
       "5                   wine rack   \n",
       "7                  light bulb   \n",
       "\n",
       "                                        product_title  \\\n",
       "id                                                      \n",
       "1         Accent Pillow with Heart Design - Red/Black   \n",
       "2   Set of 10 Battery Operated Multi LED Train Chr...   \n",
       "4          ViewSonic Pro8200 DLP Multimedia Projector   \n",
       "5   Concept Housewares WR-44526 Solid-Wood Ceiling...   \n",
       "7   Wintergreen Lighting Christmas LED Light Bulb ...   \n",
       "\n",
       "                                  product_description  median_relevance  \\\n",
       "id                                                                        \n",
       "1   Red satin accent pillow embroidered with a hea...                 1   \n",
       "2   Set of 10 Battery Operated Train Christmas Lig...                 4   \n",
       "4                                                 NaN                 4   \n",
       "5   Like a silent and sturdy tree, the Southern En...                 4   \n",
       "7   WTGR1011\\nFeatures\\nNickel base, 60,000 averag...                 2   \n",
       "\n",
       "    relevance_variance  target  \\\n",
       "id                               \n",
       "1                0.000       1   \n",
       "2                0.000       4   \n",
       "4                0.471       4   \n",
       "5                0.000       4   \n",
       "7                0.471       2   \n",
       "\n",
       "                                           prod_clean  \\\n",
       "id                                                      \n",
       "1              accent pillow heart design - red/black   \n",
       "2   set  battery operated multi led train christma...   \n",
       "4              viewsonic pro dlp multimedia projector   \n",
       "5   concept housewares wr- solid-wood ceiling/wall...   \n",
       "7   wintergreen lighting christmas led light bulb ...   \n",
       "\n",
       "                                           desc_clean  prod_fuzzy  desc_fuzzy  \\\n",
       "id                                                                              \n",
       "1   red satin accent pillow embroidered heart blac...          44          44   \n",
       "2   set  battery operated train christmas lights i...          85          50   \n",
       "4                                                none         100          50   \n",
       "5   like silent sturdy tree, southern enterprises ...         100          56   \n",
       "7   wtgr features nickel base, , average hours, ac...         100         100   \n",
       "\n",
       "    ...  francisco   prom  clothes   case    bay   note  comforter   tick  \\\n",
       "id  ...                                                                     \n",
       "1   ...      False  False    False  False  False  False      False  False   \n",
       "2   ...      False  False    False  False  False  False      False  False   \n",
       "4   ...      False  False    False  False  False  False      False  False   \n",
       "5   ...      False  False    False  False  False  False      False  False   \n",
       "7   ...      False  False    False  False  False  False      False  False   \n",
       "\n",
       "    control    toe  \n",
       "id                  \n",
       "1     False  False  \n",
       "2     False  False  \n",
       "4     False  False  \n",
       "5     False  False  \n",
       "7     False  False  \n",
       "\n",
       "[5 rows x 42 columns]"
      ]
     },
     "execution_count": 3,
     "metadata": {},
     "output_type": "execute_result"
    }
   ],
   "source": [
    "df_clean.head()"
   ]
  },
  {
   "cell_type": "code",
   "execution_count": 4,
   "metadata": {
    "execution": {
     "iopub.execute_input": "2020-09-27T01:49:08.224611Z",
     "iopub.status.busy": "2020-09-27T01:49:08.224611Z",
     "iopub.status.idle": "2020-09-27T01:49:08.239601Z",
     "shell.execute_reply": "2020-09-27T01:49:08.239601Z",
     "shell.execute_reply.started": "2020-09-27T01:49:08.224611Z"
    }
   },
   "outputs": [],
   "source": [
    "X = df_clean.loc[:, 'prod_fuzzy':]\n",
    "y = df_clean['target']"
   ]
  },
  {
   "cell_type": "code",
   "execution_count": 5,
   "metadata": {
    "execution": {
     "iopub.execute_input": "2020-09-27T01:49:08.240601Z",
     "iopub.status.busy": "2020-09-27T01:49:08.240601Z",
     "iopub.status.idle": "2020-09-27T01:49:08.255559Z",
     "shell.execute_reply": "2020-09-27T01:49:08.255559Z",
     "shell.execute_reply.started": "2020-09-27T01:49:08.240601Z"
    }
   },
   "outputs": [],
   "source": [
    "tup_list = pickle.load( open('data/tup_list.pkl', \"rb\" ) )"
   ]
  },
  {
   "cell_type": "code",
   "execution_count": 6,
   "metadata": {
    "execution": {
     "iopub.execute_input": "2020-09-27T01:49:08.257524Z",
     "iopub.status.busy": "2020-09-27T01:49:08.256527Z",
     "iopub.status.idle": "2020-09-27T01:49:11.413994Z",
     "shell.execute_reply": "2020-09-27T01:49:11.413190Z",
     "shell.execute_reply.started": "2020-09-27T01:49:08.257524Z"
    }
   },
   "outputs": [],
   "source": [
    "df_test['prod_clean'] = df_test['product_title'].str.lower().apply(lambda x: ' '.join(\n",
    "    [word for word in x.split() if word not in (stop)]))\n",
    "df_test['prod_clean'] = df_test['prod_clean'].str.replace('\\d+','')\n",
    "df_test['desc_clean'] = df_test['product_description'].str.lower().fillna('none').apply(\n",
    "    lambda x: ' '.join([word for word in x.split() if word not in (stop)]))\n",
    "df_test['desc_clean'] = df_test['desc_clean'].str.replace('\\d+', '')"
   ]
  },
  {
   "cell_type": "code",
   "execution_count": 7,
   "metadata": {
    "execution": {
     "iopub.execute_input": "2020-09-27T01:49:11.413994Z",
     "iopub.status.busy": "2020-09-27T01:49:11.413994Z",
     "iopub.status.idle": "2020-09-27T01:49:16.983584Z",
     "shell.execute_reply": "2020-09-27T01:49:16.982786Z",
     "shell.execute_reply.started": "2020-09-27T01:49:11.413994Z"
    }
   },
   "outputs": [],
   "source": [
    "df_test['prod_fuzzy'] = [fuzz.partial_ratio(\n",
    "    df_test['query'][x], df_test['prod_clean'][x]) for x in range(df_test.shape[0])]\n",
    "df_test['desc_fuzzy'] = [fuzz.partial_ratio(\n",
    "    df_test['query'][x], df_test['desc_clean'][x]) for x in range(df_test.shape[0])]\n",
    "df_test['prod_desc'] = [fuzz.partial_ratio(df_test['prod_clean'][x], df_test['desc_clean'][x])\n",
    "                   for x in range(df_test.shape[0])]"
   ]
  },
  {
   "cell_type": "code",
   "execution_count": 8,
   "metadata": {
    "execution": {
     "iopub.execute_input": "2020-09-27T01:49:16.985605Z",
     "iopub.status.busy": "2020-09-27T01:49:16.985605Z",
     "iopub.status.idle": "2020-09-27T01:49:17.014536Z",
     "shell.execute_reply": "2020-09-27T01:49:17.014536Z",
     "shell.execute_reply.started": "2020-09-27T01:49:16.985605Z"
    }
   },
   "outputs": [],
   "source": [
    "df_test['query_len'] = df_test['query'].str.count(' ')+1"
   ]
  },
  {
   "cell_type": "code",
   "execution_count": 9,
   "metadata": {
    "execution": {
     "iopub.execute_input": "2020-09-27T01:49:17.016523Z",
     "iopub.status.busy": "2020-09-27T01:49:17.015549Z",
     "iopub.status.idle": "2020-09-27T01:49:17.312705Z",
     "shell.execute_reply": "2020-09-27T01:49:17.312705Z",
     "shell.execute_reply.started": "2020-09-27T01:49:17.016523Z"
    }
   },
   "outputs": [],
   "source": [
    "for term in tup_list:\n",
    "    df_test[term] = df_test['query'].str.contains(term)"
   ]
  },
  {
   "cell_type": "code",
   "execution_count": 10,
   "metadata": {
    "execution": {
     "iopub.execute_input": "2020-09-27T01:49:17.313658Z",
     "iopub.status.busy": "2020-09-27T01:49:17.313658Z",
     "iopub.status.idle": "2020-09-27T01:49:17.344577Z",
     "shell.execute_reply": "2020-09-27T01:49:17.343764Z",
     "shell.execute_reply.started": "2020-09-27T01:49:17.313658Z"
    }
   },
   "outputs": [
    {
     "data": {
      "text/html": [
       "<div>\n",
       "<style scoped>\n",
       "    .dataframe tbody tr th:only-of-type {\n",
       "        vertical-align: middle;\n",
       "    }\n",
       "\n",
       "    .dataframe tbody tr th {\n",
       "        vertical-align: top;\n",
       "    }\n",
       "\n",
       "    .dataframe thead th {\n",
       "        text-align: right;\n",
       "    }\n",
       "</style>\n",
       "<table border=\"1\" class=\"dataframe\">\n",
       "  <thead>\n",
       "    <tr style=\"text-align: right;\">\n",
       "      <th></th>\n",
       "      <th>id</th>\n",
       "      <th>query</th>\n",
       "      <th>product_title</th>\n",
       "      <th>product_description</th>\n",
       "      <th>prod_clean</th>\n",
       "      <th>desc_clean</th>\n",
       "      <th>prod_fuzzy</th>\n",
       "      <th>desc_fuzzy</th>\n",
       "      <th>prod_desc</th>\n",
       "      <th>query_len</th>\n",
       "      <th>...</th>\n",
       "      <th>francisco</th>\n",
       "      <th>prom</th>\n",
       "      <th>clothes</th>\n",
       "      <th>case</th>\n",
       "      <th>bay</th>\n",
       "      <th>note</th>\n",
       "      <th>comforter</th>\n",
       "      <th>tick</th>\n",
       "      <th>control</th>\n",
       "      <th>toe</th>\n",
       "    </tr>\n",
       "  </thead>\n",
       "  <tbody>\n",
       "    <tr>\n",
       "      <th>0</th>\n",
       "      <td>3</td>\n",
       "      <td>electric griddle</td>\n",
       "      <td>Star-Max 48 in Electric Griddle</td>\n",
       "      <td>NaN</td>\n",
       "      <td>star-max  electric griddle</td>\n",
       "      <td>none</td>\n",
       "      <td>100</td>\n",
       "      <td>25</td>\n",
       "      <td>25</td>\n",
       "      <td>2</td>\n",
       "      <td>...</td>\n",
       "      <td>False</td>\n",
       "      <td>False</td>\n",
       "      <td>False</td>\n",
       "      <td>False</td>\n",
       "      <td>False</td>\n",
       "      <td>False</td>\n",
       "      <td>False</td>\n",
       "      <td>False</td>\n",
       "      <td>False</td>\n",
       "      <td>False</td>\n",
       "    </tr>\n",
       "    <tr>\n",
       "      <th>1</th>\n",
       "      <td>6</td>\n",
       "      <td>phillips coffee maker</td>\n",
       "      <td>Philips SENSEO HD7810 WHITE Single Serve Pod C...</td>\n",
       "      <td>NaN</td>\n",
       "      <td>philips senseo hd white single serve pod coffe...</td>\n",
       "      <td>none</td>\n",
       "      <td>67</td>\n",
       "      <td>50</td>\n",
       "      <td>50</td>\n",
       "      <td>3</td>\n",
       "      <td>...</td>\n",
       "      <td>False</td>\n",
       "      <td>False</td>\n",
       "      <td>False</td>\n",
       "      <td>False</td>\n",
       "      <td>False</td>\n",
       "      <td>False</td>\n",
       "      <td>False</td>\n",
       "      <td>False</td>\n",
       "      <td>False</td>\n",
       "      <td>False</td>\n",
       "    </tr>\n",
       "    <tr>\n",
       "      <th>2</th>\n",
       "      <td>9</td>\n",
       "      <td>san francisco 49ers</td>\n",
       "      <td>2013 San Francisco 49ers Clock</td>\n",
       "      <td>A 2013 San Francisco 49ers clock is the ultima...</td>\n",
       "      <td>san francisco ers clock</td>\n",
       "      <td>san francisco ers clock ultimate way show tea...</td>\n",
       "      <td>89</td>\n",
       "      <td>89</td>\n",
       "      <td>100</td>\n",
       "      <td>3</td>\n",
       "      <td>...</td>\n",
       "      <td>True</td>\n",
       "      <td>False</td>\n",
       "      <td>False</td>\n",
       "      <td>False</td>\n",
       "      <td>False</td>\n",
       "      <td>False</td>\n",
       "      <td>False</td>\n",
       "      <td>False</td>\n",
       "      <td>False</td>\n",
       "      <td>False</td>\n",
       "    </tr>\n",
       "    <tr>\n",
       "      <th>3</th>\n",
       "      <td>11</td>\n",
       "      <td>aveeno shampoo</td>\n",
       "      <td>AVEENO       10.5FLOZ NRSH SHINE SH</td>\n",
       "      <td>Water, Ammonium Lauryl Sulfate, Dimethicone, S...</td>\n",
       "      <td>aveeno .floz nrsh shine sh</td>\n",
       "      <td>water, ammonium lauryl sulfate, dimethicone, s...</td>\n",
       "      <td>57</td>\n",
       "      <td>43</td>\n",
       "      <td>38</td>\n",
       "      <td>2</td>\n",
       "      <td>...</td>\n",
       "      <td>False</td>\n",
       "      <td>False</td>\n",
       "      <td>False</td>\n",
       "      <td>False</td>\n",
       "      <td>False</td>\n",
       "      <td>False</td>\n",
       "      <td>False</td>\n",
       "      <td>False</td>\n",
       "      <td>False</td>\n",
       "      <td>False</td>\n",
       "    </tr>\n",
       "    <tr>\n",
       "      <th>4</th>\n",
       "      <td>12</td>\n",
       "      <td>flea and tick control for dogs</td>\n",
       "      <td>Merial Frontline Plus Flea and Tick Control fo...</td>\n",
       "      <td>NaN</td>\n",
       "      <td>merial frontline plus flea tick control dogs p...</td>\n",
       "      <td>none</td>\n",
       "      <td>73</td>\n",
       "      <td>50</td>\n",
       "      <td>50</td>\n",
       "      <td>6</td>\n",
       "      <td>...</td>\n",
       "      <td>False</td>\n",
       "      <td>False</td>\n",
       "      <td>False</td>\n",
       "      <td>False</td>\n",
       "      <td>False</td>\n",
       "      <td>False</td>\n",
       "      <td>False</td>\n",
       "      <td>True</td>\n",
       "      <td>True</td>\n",
       "      <td>False</td>\n",
       "    </tr>\n",
       "  </tbody>\n",
       "</table>\n",
       "<p>5 rows × 40 columns</p>\n",
       "</div>"
      ],
      "text/plain": [
       "   id                           query  \\\n",
       "0   3                electric griddle   \n",
       "1   6           phillips coffee maker   \n",
       "2   9             san francisco 49ers   \n",
       "3  11                  aveeno shampoo   \n",
       "4  12  flea and tick control for dogs   \n",
       "\n",
       "                                       product_title  \\\n",
       "0                    Star-Max 48 in Electric Griddle   \n",
       "1  Philips SENSEO HD7810 WHITE Single Serve Pod C...   \n",
       "2                     2013 San Francisco 49ers Clock   \n",
       "3                AVEENO       10.5FLOZ NRSH SHINE SH   \n",
       "4  Merial Frontline Plus Flea and Tick Control fo...   \n",
       "\n",
       "                                 product_description  \\\n",
       "0                                                NaN   \n",
       "1                                                NaN   \n",
       "2  A 2013 San Francisco 49ers clock is the ultima...   \n",
       "3  Water, Ammonium Lauryl Sulfate, Dimethicone, S...   \n",
       "4                                                NaN   \n",
       "\n",
       "                                          prod_clean  \\\n",
       "0                         star-max  electric griddle   \n",
       "1  philips senseo hd white single serve pod coffe...   \n",
       "2                            san francisco ers clock   \n",
       "3                         aveeno .floz nrsh shine sh   \n",
       "4  merial frontline plus flea tick control dogs p...   \n",
       "\n",
       "                                          desc_clean  prod_fuzzy  desc_fuzzy  \\\n",
       "0                                               none         100          25   \n",
       "1                                               none          67          50   \n",
       "2   san francisco ers clock ultimate way show tea...          89          89   \n",
       "3  water, ammonium lauryl sulfate, dimethicone, s...          57          43   \n",
       "4                                               none          73          50   \n",
       "\n",
       "   prod_desc  query_len  ...  francisco   prom  clothes   case    bay   note  \\\n",
       "0         25          2  ...      False  False    False  False  False  False   \n",
       "1         50          3  ...      False  False    False  False  False  False   \n",
       "2        100          3  ...       True  False    False  False  False  False   \n",
       "3         38          2  ...      False  False    False  False  False  False   \n",
       "4         50          6  ...      False  False    False  False  False  False   \n",
       "\n",
       "   comforter   tick  control    toe  \n",
       "0      False  False    False  False  \n",
       "1      False  False    False  False  \n",
       "2      False  False    False  False  \n",
       "3      False  False    False  False  \n",
       "4      False   True     True  False  \n",
       "\n",
       "[5 rows x 40 columns]"
      ]
     },
     "execution_count": 10,
     "metadata": {},
     "output_type": "execute_result"
    }
   ],
   "source": [
    "df_test.head()"
   ]
  },
  {
   "cell_type": "code",
   "execution_count": 11,
   "metadata": {
    "execution": {
     "iopub.execute_input": "2020-09-27T01:49:17.345572Z",
     "iopub.status.busy": "2020-09-27T01:49:17.345572Z",
     "iopub.status.idle": "2020-09-27T01:49:17.359535Z",
     "shell.execute_reply": "2020-09-27T01:49:17.359535Z",
     "shell.execute_reply.started": "2020-09-27T01:49:17.345572Z"
    }
   },
   "outputs": [],
   "source": [
    "test_df= df_test.set_index('id')"
   ]
  },
  {
   "cell_type": "code",
   "execution_count": 12,
   "metadata": {
    "execution": {
     "iopub.execute_input": "2020-09-27T01:49:17.360534Z",
     "iopub.status.busy": "2020-09-27T01:49:17.360534Z",
     "iopub.status.idle": "2020-09-27T01:49:17.374495Z",
     "shell.execute_reply": "2020-09-27T01:49:17.374495Z",
     "shell.execute_reply.started": "2020-09-27T01:49:17.360534Z"
    }
   },
   "outputs": [],
   "source": [
    "test_X = df_test.loc[:, 'prod_fuzzy':]"
   ]
  },
  {
   "cell_type": "code",
   "execution_count": 13,
   "metadata": {
    "execution": {
     "iopub.execute_input": "2020-09-27T01:49:17.375492Z",
     "iopub.status.busy": "2020-09-27T01:49:17.375492Z",
     "iopub.status.idle": "2020-09-27T01:49:17.390452Z",
     "shell.execute_reply": "2020-09-27T01:49:17.390452Z",
     "shell.execute_reply.started": "2020-09-27T01:49:17.375492Z"
    }
   },
   "outputs": [],
   "source": [
    "dummy = DummyClassifier(strategy='most_frequent')\n",
    "dummy.fit(X, y)\n",
    "dum_pred = dummy.predict(test_X)"
   ]
  },
  {
   "cell_type": "code",
   "execution_count": 14,
   "metadata": {
    "execution": {
     "iopub.execute_input": "2020-09-27T01:49:17.392448Z",
     "iopub.status.busy": "2020-09-27T01:49:17.391450Z",
     "iopub.status.idle": "2020-09-27T01:49:17.405414Z",
     "shell.execute_reply": "2020-09-27T01:49:17.405414Z",
     "shell.execute_reply.started": "2020-09-27T01:49:17.392448Z"
    }
   },
   "outputs": [],
   "source": [
    "dum_df = pd.DataFrame(dum_pred, index=test_df.index, columns=['prediction'])"
   ]
  },
  {
   "cell_type": "code",
   "execution_count": 15,
   "metadata": {
    "execution": {
     "iopub.execute_input": "2020-09-27T01:49:17.406412Z",
     "iopub.status.busy": "2020-09-27T01:49:17.406412Z",
     "iopub.status.idle": "2020-09-27T01:49:17.451289Z",
     "shell.execute_reply": "2020-09-27T01:49:17.451289Z",
     "shell.execute_reply.started": "2020-09-27T01:49:17.406412Z"
    }
   },
   "outputs": [],
   "source": [
    "dum_df.to_csv('./data/dummy_sumbit.csv')"
   ]
  },
  {
   "cell_type": "code",
   "execution_count": 16,
   "metadata": {
    "execution": {
     "iopub.execute_input": "2020-09-27T01:49:17.452287Z",
     "iopub.status.busy": "2020-09-27T01:49:17.452287Z",
     "iopub.status.idle": "2020-09-27T01:49:17.529117Z",
     "shell.execute_reply": "2020-09-27T01:49:17.529117Z",
     "shell.execute_reply.started": "2020-09-27T01:49:17.452287Z"
    }
   },
   "outputs": [],
   "source": [
    "scaler= StandardScaler()\n",
    "train_x = scaler.fit_transform(X)\n",
    "test_x = scaler.transform(test_X)"
   ]
  },
  {
   "cell_type": "code",
   "execution_count": 17,
   "metadata": {
    "execution": {
     "iopub.execute_input": "2020-09-27T01:49:17.531076Z",
     "iopub.status.busy": "2020-09-27T01:49:17.530079Z",
     "iopub.status.idle": "2020-09-27T01:49:17.779945Z",
     "shell.execute_reply": "2020-09-27T01:49:17.779945Z",
     "shell.execute_reply.started": "2020-09-27T01:49:17.531076Z"
    }
   },
   "outputs": [],
   "source": [
    "lr = LogisticRegression(solver='lbfgs', class_weight='balanced')\n",
    "lr.fit(train_x, y)\n",
    "pred_lr = lr.predict(test_x)"
   ]
  },
  {
   "cell_type": "code",
   "execution_count": 18,
   "metadata": {
    "execution": {
     "iopub.execute_input": "2020-09-27T01:49:17.781912Z",
     "iopub.status.busy": "2020-09-27T01:49:17.780919Z",
     "iopub.status.idle": "2020-09-27T01:49:17.795874Z",
     "shell.execute_reply": "2020-09-27T01:49:17.795874Z",
     "shell.execute_reply.started": "2020-09-27T01:49:17.781912Z"
    }
   },
   "outputs": [],
   "source": [
    "lr_df = pd.DataFrame(pred_lr, index=test_df.index, columns=['prediction'])"
   ]
  },
  {
   "cell_type": "code",
   "execution_count": 19,
   "metadata": {
    "execution": {
     "iopub.execute_input": "2020-09-27T01:49:17.796871Z",
     "iopub.status.busy": "2020-09-27T01:49:17.796871Z",
     "iopub.status.idle": "2020-09-27T01:49:17.843746Z",
     "shell.execute_reply": "2020-09-27T01:49:17.843746Z",
     "shell.execute_reply.started": "2020-09-27T01:49:17.796871Z"
    }
   },
   "outputs": [],
   "source": [
    "lr_df.to_csv('./data/lr_submit.csv')"
   ]
  },
  {
   "cell_type": "code",
   "execution_count": 20,
   "metadata": {
    "execution": {
     "iopub.execute_input": "2020-09-27T01:49:17.845743Z",
     "iopub.status.busy": "2020-09-27T01:49:17.844743Z",
     "iopub.status.idle": "2020-09-27T01:49:33.776386Z",
     "shell.execute_reply": "2020-09-27T01:49:33.775586Z",
     "shell.execute_reply.started": "2020-09-27T01:49:17.845743Z"
    }
   },
   "outputs": [],
   "source": [
    "svc = SVC(kernel='rbf', gamma=1, C=1,\n",
    "              decision_function_shape='ovo', class_weight='balanced').fit(train_x, y)\n",
    "pred_rbf = svc.predict(test_x)"
   ]
  },
  {
   "cell_type": "code",
   "execution_count": 21,
   "metadata": {
    "execution": {
     "iopub.execute_input": "2020-09-27T01:49:33.776386Z",
     "iopub.status.busy": "2020-09-27T01:49:33.776386Z",
     "iopub.status.idle": "2020-09-27T01:49:33.791354Z",
     "shell.execute_reply": "2020-09-27T01:49:33.791354Z",
     "shell.execute_reply.started": "2020-09-27T01:49:33.776386Z"
    }
   },
   "outputs": [],
   "source": [
    "svc_df = pd.DataFrame(pred_rbf, index=test_df.index, columns=['prediction'])"
   ]
  },
  {
   "cell_type": "code",
   "execution_count": 22,
   "metadata": {
    "execution": {
     "iopub.execute_input": "2020-09-27T01:49:33.794348Z",
     "iopub.status.busy": "2020-09-27T01:49:33.793349Z",
     "iopub.status.idle": "2020-09-27T01:49:33.838228Z",
     "shell.execute_reply": "2020-09-27T01:49:33.838228Z",
     "shell.execute_reply.started": "2020-09-27T01:49:33.794348Z"
    }
   },
   "outputs": [],
   "source": [
    "svc_df.to_csv('./data/svc_submit.csv')"
   ]
  },
  {
   "cell_type": "code",
   "execution_count": 23,
   "metadata": {
    "execution": {
     "iopub.execute_input": "2020-09-27T01:49:33.840225Z",
     "iopub.status.busy": "2020-09-27T01:49:33.839225Z",
     "iopub.status.idle": "2020-09-27T01:49:44.608964Z",
     "shell.execute_reply": "2020-09-27T01:49:44.607966Z",
     "shell.execute_reply.started": "2020-09-27T01:49:33.840225Z"
    }
   },
   "outputs": [],
   "source": [
    "et = ExtraTreesClassifier(n_estimators=1000, min_samples_split=15).fit(train_x,y)\n",
    "pred_et = et.predict(test_x)\n",
    "et_df = pd.DataFrame(pred_et, index=test_df.index, columns=['prediction'])"
   ]
  },
  {
   "cell_type": "code",
   "execution_count": 24,
   "metadata": {
    "execution": {
     "iopub.execute_input": "2020-09-27T01:49:44.609962Z",
     "iopub.status.busy": "2020-09-27T01:49:44.608964Z",
     "iopub.status.idle": "2020-09-27T01:49:44.654025Z",
     "shell.execute_reply": "2020-09-27T01:49:44.654025Z",
     "shell.execute_reply.started": "2020-09-27T01:49:44.609962Z"
    }
   },
   "outputs": [],
   "source": [
    "et_df.to_csv('./data/et_submit.csv')"
   ]
  },
  {
   "cell_type": "code",
   "execution_count": 25,
   "metadata": {
    "execution": {
     "iopub.execute_input": "2020-09-27T01:49:44.654848Z",
     "iopub.status.busy": "2020-09-27T01:49:44.654848Z",
     "iopub.status.idle": "2020-09-27T01:50:04.955419Z",
     "shell.execute_reply": "2020-09-27T01:50:04.955419Z",
     "shell.execute_reply.started": "2020-09-27T01:49:44.654848Z"
    }
   },
   "outputs": [],
   "source": [
    "xgb = XGBClassifier(learning_rate=0.1,\n",
    "                    n_estimators=1000,\n",
    "                    max_depth=5,\n",
    "                    min_child_weight=1,\n",
    "                    gamma=0,\n",
    "                    subsample=0.8,\n",
    "                    colsample_bytree=0.8,\n",
    "                    objective='multi:softmax',\n",
    "                    nthread=4,\n",
    "                    num_class=9,\n",
    "                    seed=27)\n",
    "xgb.fit(train_x, y)\n",
    "pred_xgb = xgb.predict(test_x)\n",
    "xgb_df = pd.DataFrame(pred_xgb, index=test_df.index, columns=['prediction'])"
   ]
  },
  {
   "cell_type": "code",
   "execution_count": 26,
   "metadata": {
    "execution": {
     "iopub.execute_input": "2020-09-27T01:50:04.958418Z",
     "iopub.status.busy": "2020-09-27T01:50:04.958418Z",
     "iopub.status.idle": "2020-09-27T01:50:05.003333Z",
     "shell.execute_reply": "2020-09-27T01:50:05.003333Z",
     "shell.execute_reply.started": "2020-09-27T01:50:04.958418Z"
    }
   },
   "outputs": [],
   "source": [
    "xgb_df.to_csv('./data/xgb_submit.csv')"
   ]
  },
  {
   "cell_type": "code",
   "execution_count": null,
   "metadata": {},
   "outputs": [],
   "source": []
  }
 ],
 "metadata": {
  "kernelspec": {
   "display_name": "Python 3",
   "language": "python",
   "name": "python3"
  },
  "language_info": {
   "codemirror_mode": {
    "name": "ipython",
    "version": 3
   },
   "file_extension": ".py",
   "mimetype": "text/x-python",
   "name": "python",
   "nbconvert_exporter": "python",
   "pygments_lexer": "ipython3",
   "version": "3.7.1"
  }
 },
 "nbformat": 4,
 "nbformat_minor": 4
}
