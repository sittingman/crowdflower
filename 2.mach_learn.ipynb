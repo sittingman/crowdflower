{
 "cells": [
  {
   "cell_type": "markdown",
   "metadata": {},
   "source": [
    "# Machine Learning\n",
    "\n",
    "Based on the preprocessed dataset as created in exploratory analysis, this notebook peroform train set cross validations with Logistics Regression, SVC, Random Forecast, and Extreme Gradient Boosting"
   ]
  },
  {
   "cell_type": "code",
   "execution_count": 73,
   "metadata": {
    "execution": {
     "iopub.execute_input": "2020-10-05T03:09:23.118007Z",
     "iopub.status.busy": "2020-10-05T03:09:23.116986Z",
     "iopub.status.idle": "2020-10-05T03:09:23.133942Z",
     "shell.execute_reply": "2020-10-05T03:09:23.132955Z",
     "shell.execute_reply.started": "2020-10-05T03:09:23.118007Z"
    }
   },
   "outputs": [],
   "source": [
    "import warnings\n",
    "import matplotlib.pyplot as plt\n",
    "import numpy as np\n",
    "import pandas as pd\n",
    "\n",
    "from hyperopt import STATUS_OK, Trials, fmin, hp, rand, tpe\n",
    "from hyperopt.pyll.base import scope\n",
    "from sklearn.dummy import DummyClassifier\n",
    "from sklearn.linear_model import LogisticRegression, LogisticRegressionCV\n",
    "from sklearn.metrics import cohen_kappa_score, make_scorer\n",
    "from sklearn.model_selection import (\n",
    "    StratifiedKFold,\n",
    "    cross_val_score,\n",
    "    train_test_split,\n",
    ")\n",
    "from sklearn.preprocessing import StandardScaler\n",
    "from sklearn.svm import SVC\n",
    "from sklearn.ensemble import RandomForestClassifier, ExtraTreesClassifier\n",
    "from xgboost.sklearn import XGBClassifier\n",
    "\n",
    "from sklearn.compose import ColumnTransformer\n",
    "\n",
    "\n",
    "warnings.simplefilter(action='ignore', category=FutureWarning)"
   ]
  },
  {
   "cell_type": "code",
   "execution_count": 3,
   "metadata": {
    "execution": {
     "iopub.execute_input": "2020-10-04T22:09:28.554319Z",
     "iopub.status.busy": "2020-10-04T22:09:28.554319Z",
     "iopub.status.idle": "2020-10-04T22:09:29.468576Z",
     "shell.execute_reply": "2020-10-04T22:09:29.468576Z",
     "shell.execute_reply.started": "2020-10-04T22:09:28.554319Z"
    }
   },
   "outputs": [],
   "source": [
    "df_clean = pd.read_csv('./data/df_clean.csv', index_col=0)"
   ]
  },
  {
   "cell_type": "code",
   "execution_count": 4,
   "metadata": {
    "execution": {
     "iopub.execute_input": "2020-10-04T22:09:29.470540Z",
     "iopub.status.busy": "2020-10-04T22:09:29.469571Z",
     "iopub.status.idle": "2020-10-04T22:09:29.483617Z",
     "shell.execute_reply": "2020-10-04T22:09:29.483617Z",
     "shell.execute_reply.started": "2020-10-04T22:09:29.470540Z"
    }
   },
   "outputs": [],
   "source": [
    "X = df_clean.loc[:, 'sim':]\n",
    "y = df_clean['median_relevance']"
   ]
  },
  {
   "cell_type": "code",
   "execution_count": 5,
   "metadata": {
    "execution": {
     "iopub.execute_input": "2020-10-04T22:09:29.485587Z",
     "iopub.status.busy": "2020-10-04T22:09:29.484589Z",
     "iopub.status.idle": "2020-10-04T22:09:29.498583Z",
     "shell.execute_reply": "2020-10-04T22:09:29.498583Z",
     "shell.execute_reply.started": "2020-10-04T22:09:29.485587Z"
    }
   },
   "outputs": [],
   "source": [
    "X = pd.get_dummies(X, columns=['query_len'], drop_first=True)"
   ]
  },
  {
   "cell_type": "code",
   "execution_count": 6,
   "metadata": {
    "execution": {
     "iopub.execute_input": "2020-10-04T22:09:29.499549Z",
     "iopub.status.busy": "2020-10-04T22:09:29.499549Z",
     "iopub.status.idle": "2020-10-04T22:09:29.531498Z",
     "shell.execute_reply": "2020-10-04T22:09:29.530503Z",
     "shell.execute_reply.started": "2020-10-04T22:09:29.499549Z"
    }
   },
   "outputs": [],
   "source": [
    "X_train, X_test, y_train, y_test = train_test_split(\n",
    "    X, y, test_size=.2, random_state=144)"
   ]
  },
  {
   "cell_type": "code",
   "execution_count": 7,
   "metadata": {
    "execution": {
     "iopub.execute_input": "2020-10-04T22:09:31.468151Z",
     "iopub.status.busy": "2020-10-04T22:09:31.468151Z",
     "iopub.status.idle": "2020-10-04T22:09:31.471143Z",
     "shell.execute_reply": "2020-10-04T22:09:31.470594Z",
     "shell.execute_reply.started": "2020-10-04T22:09:31.468151Z"
    }
   },
   "outputs": [],
   "source": [
    "def kappa_score(predictions):\n",
    "    print(cohen_kappa_score(y_test, predictions, weights='quadratic'))"
   ]
  },
  {
   "cell_type": "code",
   "execution_count": 8,
   "metadata": {
    "execution": {
     "iopub.execute_input": "2020-10-04T22:09:32.854011Z",
     "iopub.status.busy": "2020-10-04T22:09:32.854011Z",
     "iopub.status.idle": "2020-10-04T22:09:32.866003Z",
     "shell.execute_reply": "2020-10-04T22:09:32.866003Z",
     "shell.execute_reply.started": "2020-10-04T22:09:32.854011Z"
    }
   },
   "outputs": [
    {
     "name": "stdout",
     "output_type": "stream",
     "text": [
      "(8126, 837) (8126,)\n"
     ]
    }
   ],
   "source": [
    "print(X_train.shape, y_train.shape)"
   ]
  },
  {
   "cell_type": "markdown",
   "metadata": {},
   "source": [
    "## Dummy Classifier"
   ]
  },
  {
   "cell_type": "code",
   "execution_count": 14,
   "metadata": {
    "execution": {
     "iopub.execute_input": "2020-10-04T19:10:46.503066Z",
     "iopub.status.busy": "2020-10-04T19:10:46.502068Z",
     "iopub.status.idle": "2020-10-04T19:10:46.523986Z",
     "shell.execute_reply": "2020-10-04T19:10:46.523019Z",
     "shell.execute_reply.started": "2020-10-04T19:10:46.503066Z"
    }
   },
   "outputs": [
    {
     "name": "stdout",
     "output_type": "stream",
     "text": [
      "0.0\n"
     ]
    }
   ],
   "source": [
    "dummy = DummyClassifier(strategy='most_frequent')\n",
    "dummy.fit(X_train, y_train)\n",
    "pred_dum = dummy.predict(X_test)\n",
    "kappa_score(pred_dum)"
   ]
  },
  {
   "cell_type": "markdown",
   "metadata": {},
   "source": [
    "### Transfomration\n",
    "\n",
    "Normalize both 'sim' and 'fuzzy' column to allow better fitting to different machine learning models."
   ]
  },
  {
   "cell_type": "code",
   "execution_count": 19,
   "metadata": {
    "execution": {
     "iopub.execute_input": "2020-10-04T22:22:41.413069Z",
     "iopub.status.busy": "2020-10-04T22:22:41.412072Z",
     "iopub.status.idle": "2020-10-04T22:22:41.563194Z",
     "shell.execute_reply": "2020-10-04T22:22:41.562196Z",
     "shell.execute_reply.started": "2020-10-04T22:22:41.413069Z"
    }
   },
   "outputs": [],
   "source": [
    "col = ['sim', 'fuzzy']\n",
    "ct = ColumnTransformer([('std_trans', StandardScaler(), col)], remainder='passthrough')\n",
    "train_x = ct.fit_transform(X_train)\n",
    "test_x = ct.transform(X_test)"
   ]
  },
  {
   "cell_type": "markdown",
   "metadata": {},
   "source": [
    "## Logistics Regression\n",
    "\n",
    "### Base"
   ]
  },
  {
   "cell_type": "code",
   "execution_count": 20,
   "metadata": {
    "execution": {
     "iopub.execute_input": "2020-10-04T22:22:43.243182Z",
     "iopub.status.busy": "2020-10-04T22:22:43.243182Z",
     "iopub.status.idle": "2020-10-04T22:22:45.161560Z",
     "shell.execute_reply": "2020-10-04T22:22:45.161560Z",
     "shell.execute_reply.started": "2020-10-04T22:22:43.243182Z"
    }
   },
   "outputs": [
    {
     "name": "stdout",
     "output_type": "stream",
     "text": [
      "0.4946302247227575\n"
     ]
    }
   ],
   "source": [
    "lr = LogisticRegression(solver='lbfgs', class_weight='balanced', max_iter=1000)\n",
    "lr.fit(train_x, y_train)\n",
    "pred_lr = lr.predict(test_x)\n",
    "kappa_score(pred_lr)"
   ]
  },
  {
   "cell_type": "markdown",
   "metadata": {},
   "source": [
    "Cross Valiadtion"
   ]
  },
  {
   "cell_type": "code",
   "execution_count": 21,
   "metadata": {
    "execution": {
     "iopub.execute_input": "2020-10-04T22:22:45.162557Z",
     "iopub.status.busy": "2020-10-04T22:22:45.162557Z",
     "iopub.status.idle": "2020-10-04T22:22:45.178514Z",
     "shell.execute_reply": "2020-10-04T22:22:45.177518Z",
     "shell.execute_reply.started": "2020-10-04T22:22:45.162557Z"
    }
   },
   "outputs": [],
   "source": [
    "cohen = make_scorer(cohen_kappa_score, weights='quadratic')"
   ]
  },
  {
   "cell_type": "code",
   "execution_count": 22,
   "metadata": {
    "execution": {
     "iopub.execute_input": "2020-10-04T22:22:45.180509Z",
     "iopub.status.busy": "2020-10-04T22:22:45.180509Z",
     "iopub.status.idle": "2020-10-04T22:23:41.618968Z",
     "shell.execute_reply": "2020-10-04T22:23:41.617970Z",
     "shell.execute_reply.started": "2020-10-04T22:22:45.180509Z"
    }
   },
   "outputs": [
    {
     "data": {
      "text/plain": [
       "0.4943136766737083"
      ]
     },
     "execution_count": 22,
     "metadata": {},
     "output_type": "execute_result"
    }
   ],
   "source": [
    "lrcv = LogisticRegressionCV(\n",
    "    solver='lbfgs', scoring=cohen, cv=6, class_weight='balanced', max_iter=1000)\n",
    "lrcv.fit(train_x, y_train)\n",
    "lrcv.score(test_x, y_test)"
   ]
  },
  {
   "cell_type": "markdown",
   "metadata": {},
   "source": [
    "### Tunning"
   ]
  },
  {
   "cell_type": "code",
   "execution_count": 42,
   "metadata": {
    "execution": {
     "iopub.execute_input": "2020-10-04T23:20:49.327586Z",
     "iopub.status.busy": "2020-10-04T23:20:49.326613Z",
     "iopub.status.idle": "2020-10-04T23:20:49.336561Z",
     "shell.execute_reply": "2020-10-04T23:20:49.336561Z",
     "shell.execute_reply.started": "2020-10-04T23:20:49.326613Z"
    }
   },
   "outputs": [],
   "source": [
    "lr_params = {'penalty': hp.choice('penalty', ['l2']),\n",
    "             'C': hp.choice('C', [0.001, 0.01, 0.1, 1, 10, 100, 1000]),\n",
    "             'solver': hp.choice('solver', ['lbfgs', 'newton-cg', 'sag', 'saga']),\n",
    "             'class_weight': hp.choice('class_weight', ['balanced']),\n",
    "             'max_iter': scope.int(hp.quniform('max_iter', 500, 3000, 100))}"
   ]
  },
  {
   "cell_type": "code",
   "execution_count": 43,
   "metadata": {
    "execution": {
     "iopub.execute_input": "2020-10-04T23:20:49.661000Z",
     "iopub.status.busy": "2020-10-04T23:20:49.661000Z",
     "iopub.status.idle": "2020-10-04T23:20:49.666952Z",
     "shell.execute_reply": "2020-10-04T23:20:49.665979Z",
     "shell.execute_reply.started": "2020-10-04T23:20:49.661000Z"
    }
   },
   "outputs": [],
   "source": [
    "def obj_lr(params):\n",
    "    clf = LogisticRegression(**params)\n",
    "    skfold = StratifiedKFold(n_splits=6, random_state=2020, shuffle=True)\n",
    "    best_score = cross_val_score(clf, train_x, y_train, scoring=cohen, cv=skfold).mean()\n",
    "    return {'loss': -best_score, 'status': STATUS_OK}"
   ]
  },
  {
   "cell_type": "code",
   "execution_count": 44,
   "metadata": {
    "execution": {
     "iopub.execute_input": "2020-10-04T23:20:50.169598Z",
     "iopub.status.busy": "2020-10-04T23:20:50.168573Z",
     "iopub.status.idle": "2020-10-05T00:07:36.173939Z",
     "shell.execute_reply": "2020-10-05T00:07:36.171944Z",
     "shell.execute_reply.started": "2020-10-04T23:20:50.169598Z"
    }
   },
   "outputs": [
    {
     "name": "stdout",
     "output_type": "stream",
     "text": [
      " 45%|████▌     | 9/20 [01:58<02:59, 16.29s/trial, best loss: -0.4994361541906813] "
     ]
    },
    {
     "name": "stderr",
     "output_type": "stream",
     "text": [
      "C:\\Users\\sit_k\\anaconda3\\lib\\site-packages\\sklearn\\linear_model\\_sag.py:329: ConvergenceWarning: The max_iter was reached which means the coef_ did not converge\n",
      "  warnings.warn(\"The max_iter was reached which means \"\n",
      "\n",
      "C:\\Users\\sit_k\\anaconda3\\lib\\site-packages\\sklearn\\linear_model\\_sag.py:329: ConvergenceWarning: The max_iter was reached which means the coef_ did not converge\n",
      "  warnings.warn(\"The max_iter was reached which means \"\n",
      "\n",
      "C:\\Users\\sit_k\\anaconda3\\lib\\site-packages\\sklearn\\linear_model\\_sag.py:329: ConvergenceWarning: The max_iter was reached which means the coef_ did not converge\n",
      "  warnings.warn(\"The max_iter was reached which means \"\n",
      "\n",
      "C:\\Users\\sit_k\\anaconda3\\lib\\site-packages\\sklearn\\linear_model\\_sag.py:329: ConvergenceWarning: The max_iter was reached which means the coef_ did not converge\n",
      "  warnings.warn(\"The max_iter was reached which means \"\n",
      "\n"
     ]
    },
    {
     "name": "stdout",
     "output_type": "stream",
     "text": [
      " 90%|█████████ | 18/20 [33:21<04:44, 142.35s/trial, best loss: -0.4994361541906813]  "
     ]
    },
    {
     "name": "stderr",
     "output_type": "stream",
     "text": [
      "C:\\Users\\sit_k\\anaconda3\\lib\\site-packages\\sklearn\\linear_model\\_sag.py:329: ConvergenceWarning: The max_iter was reached which means the coef_ did not converge\n",
      "  warnings.warn(\"The max_iter was reached which means \"\n",
      "\n",
      "C:\\Users\\sit_k\\anaconda3\\lib\\site-packages\\sklearn\\linear_model\\_sag.py:329: ConvergenceWarning: The max_iter was reached which means the coef_ did not converge\n",
      "  warnings.warn(\"The max_iter was reached which means \"\n",
      "\n",
      "C:\\Users\\sit_k\\anaconda3\\lib\\site-packages\\sklearn\\linear_model\\_sag.py:329: ConvergenceWarning: The max_iter was reached which means the coef_ did not converge\n",
      "  warnings.warn(\"The max_iter was reached which means \"\n",
      "\n"
     ]
    },
    {
     "name": "stdout",
     "output_type": "stream",
     "text": [
      "100%|██████████| 20/20 [46:45<00:00, 140.30s/trial, best loss: -0.4994361541906813]\n"
     ]
    }
   ],
   "source": [
    "best_lr = fmin(fn=obj_lr, space=lr_params, algo=tpe.suggest, max_evals=20, trials=Trials())"
   ]
  },
  {
   "cell_type": "code",
   "execution_count": 45,
   "metadata": {
    "execution": {
     "iopub.execute_input": "2020-10-05T00:08:27.525756Z",
     "iopub.status.busy": "2020-10-05T00:08:27.524784Z",
     "iopub.status.idle": "2020-10-05T00:08:27.546701Z",
     "shell.execute_reply": "2020-10-05T00:08:27.545735Z",
     "shell.execute_reply.started": "2020-10-05T00:08:27.525756Z"
    }
   },
   "outputs": [
    {
     "data": {
      "text/plain": [
       "{'C': 3, 'class_weight': 0, 'max_iter': 2100.0, 'penalty': 0, 'solver': 1}"
      ]
     },
     "execution_count": 45,
     "metadata": {},
     "output_type": "execute_result"
    }
   ],
   "source": [
    "best_lr"
   ]
  },
  {
   "cell_type": "code",
   "execution_count": null,
   "metadata": {},
   "outputs": [],
   "source": []
  },
  {
   "cell_type": "code",
   "execution_count": 49,
   "metadata": {
    "execution": {
     "iopub.execute_input": "2020-10-05T00:11:44.757144Z",
     "iopub.status.busy": "2020-10-05T00:11:44.757144Z",
     "iopub.status.idle": "2020-10-05T00:11:47.485902Z",
     "shell.execute_reply": "2020-10-05T00:11:47.485902Z",
     "shell.execute_reply.started": "2020-10-05T00:11:44.757144Z"
    }
   },
   "outputs": [
    {
     "name": "stdout",
     "output_type": "stream",
     "text": [
      "0.4946302247227575\n"
     ]
    }
   ],
   "source": [
    "lr_best = LogisticRegression(\n",
    "    C=1, class_weight='balanced', solver='newton-cg', max_iter=2100, penalty='l2')\n",
    "lr_best.fit(train_x, y_train)\n",
    "pred_lr_best = lr_best.predict(test_x)\n",
    "kappa_score(pred_lr_best)"
   ]
  },
  {
   "cell_type": "markdown",
   "metadata": {},
   "source": [
    "## Support Vector Machine\n",
    "\n",
    "### Base"
   ]
  },
  {
   "cell_type": "code",
   "execution_count": 50,
   "metadata": {
    "execution": {
     "iopub.execute_input": "2020-10-05T00:12:31.669104Z",
     "iopub.status.busy": "2020-10-05T00:12:31.669104Z",
     "iopub.status.idle": "2020-10-05T00:14:00.862936Z",
     "shell.execute_reply": "2020-10-05T00:14:00.862936Z",
     "shell.execute_reply.started": "2020-10-05T00:12:31.669104Z"
    }
   },
   "outputs": [
    {
     "name": "stdout",
     "output_type": "stream",
     "text": [
      "0.5112333927669344\n"
     ]
    }
   ],
   "source": [
    "svc_rbf = SVC(kernel='rbf', gamma=1, C=1,\n",
    "              decision_function_shape='ovo', class_weight='balanced')\n",
    "svc_fit = svc_rbf.fit(train_x, y_train)\n",
    "pred_rbf = svc_fit.predict(test_x)\n",
    "kappa_score(pred_rbf)"
   ]
  },
  {
   "cell_type": "markdown",
   "metadata": {
    "execution": {
     "iopub.execute_input": "2020-10-04T19:14:11.012709Z",
     "iopub.status.busy": "2020-10-04T19:14:11.012709Z",
     "iopub.status.idle": "2020-10-04T19:14:21.774709Z",
     "shell.execute_reply": "2020-10-04T19:14:21.773701Z",
     "shell.execute_reply.started": "2020-10-04T19:14:11.012709Z"
    }
   },
   "source": [
    "Cross Validation"
   ]
  },
  {
   "cell_type": "code",
   "execution_count": 57,
   "metadata": {
    "execution": {
     "iopub.execute_input": "2020-10-05T00:16:09.926366Z",
     "iopub.status.busy": "2020-10-05T00:16:09.925368Z",
     "iopub.status.idle": "2020-10-05T00:16:09.943320Z",
     "shell.execute_reply": "2020-10-05T00:16:09.943320Z",
     "shell.execute_reply.started": "2020-10-05T00:16:09.925368Z"
    }
   },
   "outputs": [],
   "source": [
    "skf = StratifiedKFold(n_splits=6, random_state=44)\n",
    "scaler = StandardScaler()"
   ]
  },
  {
   "cell_type": "code",
   "execution_count": 78,
   "metadata": {
    "execution": {
     "iopub.execute_input": "2020-10-05T03:14:22.717658Z",
     "iopub.status.busy": "2020-10-05T03:14:22.717658Z",
     "iopub.status.idle": "2020-10-05T03:14:22.734580Z",
     "shell.execute_reply": "2020-10-05T03:14:22.733607Z",
     "shell.execute_reply.started": "2020-10-05T03:14:22.717658Z"
    }
   },
   "outputs": [],
   "source": [
    "def cv_func(cv_list, clf):\n",
    "    \"\"\" take a classifier, perform kfold validation and add mean score to a list\n",
    "    \n",
    "    args:\n",
    "        cv_list: list to be used to hold cv mean score\n",
    "        clf: classifier being used\n",
    "    \"\"\"\n",
    "    \n",
    "    for train_idx, test_idx in skf.split(X, y):\n",
    "        train_set = scaler.fit_transform(X.iloc[train_idx])\n",
    "        test_set = scaler.transform(X.iloc[test_idx])\n",
    "        fit_svc = clf.fit(train_set, y.iloc[train_idx])\n",
    "        pred_fit = clf.predict(test_set)\n",
    "        cv_list.append(cohen_kappa_score(y.iloc[test_idx], pred_fit, weights='quadratic'))"
   ]
  },
  {
   "cell_type": "code",
   "execution_count": 59,
   "metadata": {
    "execution": {
     "iopub.execute_input": "2020-10-05T00:16:11.629409Z",
     "iopub.status.busy": "2020-10-05T00:16:11.629409Z",
     "iopub.status.idle": "2020-10-05T00:26:42.154844Z",
     "shell.execute_reply": "2020-10-05T00:26:42.154844Z",
     "shell.execute_reply.started": "2020-10-05T00:16:11.629409Z"
    }
   },
   "outputs": [],
   "source": [
    "svc_cv = []\n",
    "cv_func(svc_cv, svc_rbf)"
   ]
  },
  {
   "cell_type": "code",
   "execution_count": 62,
   "metadata": {
    "execution": {
     "iopub.execute_input": "2020-10-05T01:19:56.500263Z",
     "iopub.status.busy": "2020-10-05T01:19:56.500263Z",
     "iopub.status.idle": "2020-10-05T01:19:56.505248Z",
     "shell.execute_reply": "2020-10-05T01:19:56.505248Z",
     "shell.execute_reply.started": "2020-10-05T01:19:56.500263Z"
    }
   },
   "outputs": [
    {
     "name": "stdout",
     "output_type": "stream",
     "text": [
      "0.5220749771762127\n"
     ]
    }
   ],
   "source": [
    "print(np.mean(svc_cv))"
   ]
  },
  {
   "cell_type": "markdown",
   "metadata": {},
   "source": [
    "### Tunning"
   ]
  },
  {
   "cell_type": "code",
   "execution_count": 64,
   "metadata": {
    "execution": {
     "iopub.execute_input": "2020-10-05T01:20:15.464962Z",
     "iopub.status.busy": "2020-10-05T01:20:15.464962Z",
     "iopub.status.idle": "2020-10-05T01:20:15.482945Z",
     "shell.execute_reply": "2020-10-05T01:20:15.482945Z",
     "shell.execute_reply.started": "2020-10-05T01:20:15.464962Z"
    }
   },
   "outputs": [],
   "source": [
    "svc_params = {'kernel': hp.choice('kernel', ['rbf']),\n",
    "              'C': hp.choice('C', [0.1, 1, 10, 100, 1000]),\n",
    "              'gamma': hp.choice('gamma', [0.1, 1, 10, 100]),\n",
    "             'degree': hp.choice('degree', [0, 2, 4, 6])}"
   ]
  },
  {
   "cell_type": "code",
   "execution_count": 67,
   "metadata": {
    "execution": {
     "iopub.execute_input": "2020-10-05T01:23:35.344243Z",
     "iopub.status.busy": "2020-10-05T01:23:35.344243Z",
     "iopub.status.idle": "2020-10-05T01:23:35.359207Z",
     "shell.execute_reply": "2020-10-05T01:23:35.359207Z",
     "shell.execute_reply.started": "2020-10-05T01:23:35.344243Z"
    }
   },
   "outputs": [],
   "source": [
    "def obj_svc(params):\n",
    "    clf = SVC(decision_function_shape='ovo', class_weight='balanced', **params)\n",
    "    skfold = StratifiedKFold(n_splits=6, random_state=2020, shuffle=True)\n",
    "    best_score = cross_val_score(\n",
    "        clf, train_x, y_train, scoring=cohen, cv=skfold).mean()\n",
    "    return {'loss': -best_score, 'status': STATUS_OK}"
   ]
  },
  {
   "cell_type": "code",
   "execution_count": 68,
   "metadata": {
    "execution": {
     "iopub.execute_input": "2020-10-05T01:23:37.306739Z",
     "iopub.status.busy": "2020-10-05T01:23:37.306739Z",
     "iopub.status.idle": "2020-10-05T02:30:16.120423Z",
     "shell.execute_reply": "2020-10-05T02:30:16.119437Z",
     "shell.execute_reply.started": "2020-10-05T01:23:37.306739Z"
    }
   },
   "outputs": [
    {
     "name": "stdout",
     "output_type": "stream",
     "text": [
      "100%|██████████| 10/10 [1:06:38<00:00, 399.88s/trial, best loss: -0.5042102450204642]\n"
     ]
    }
   ],
   "source": [
    "best_svc = fmin(fn=obj_svc, space=svc_params, algo=tpe.suggest, max_evals=10)"
   ]
  },
  {
   "cell_type": "code",
   "execution_count": 69,
   "metadata": {
    "execution": {
     "iopub.execute_input": "2020-10-05T02:59:22.506039Z",
     "iopub.status.busy": "2020-10-05T02:59:22.506039Z",
     "iopub.status.idle": "2020-10-05T02:59:22.528002Z",
     "shell.execute_reply": "2020-10-05T02:59:22.528002Z",
     "shell.execute_reply.started": "2020-10-05T02:59:22.506039Z"
    }
   },
   "outputs": [
    {
     "data": {
      "text/plain": [
       "{'C': 2, 'degree': 2, 'gamma': 0, 'kernel': 0}"
      ]
     },
     "execution_count": 69,
     "metadata": {},
     "output_type": "execute_result"
    }
   ],
   "source": [
    "best_svc"
   ]
  },
  {
   "cell_type": "code",
   "execution_count": 71,
   "metadata": {
    "execution": {
     "iopub.execute_input": "2020-10-05T03:06:01.638731Z",
     "iopub.status.busy": "2020-10-05T03:06:01.638731Z",
     "iopub.status.idle": "2020-10-05T03:07:16.657008Z",
     "shell.execute_reply": "2020-10-05T03:07:16.656011Z",
     "shell.execute_reply.started": "2020-10-05T03:06:01.638731Z"
    }
   },
   "outputs": [
    {
     "name": "stdout",
     "output_type": "stream",
     "text": [
      "0.5144466416684622\n"
     ]
    }
   ],
   "source": [
    "svc_best = SVC(kernel='rbf', gamma=0.1, C=10,\n",
    "              decision_function_shape='ovo', class_weight='balanced', degree=2)\n",
    "svc_bestfit = svc_best.fit(train_x, y_train)\n",
    "pred_svc_best = svc_bestfit.predict(test_x)\n",
    "kappa_score(pred_svc_best)"
   ]
  },
  {
   "cell_type": "markdown",
   "metadata": {},
   "source": [
    "## Extra Tree Classifier\n",
    "\n",
    "### Base"
   ]
  },
  {
   "cell_type": "code",
   "execution_count": 75,
   "metadata": {
    "execution": {
     "iopub.execute_input": "2020-10-05T03:11:30.862283Z",
     "iopub.status.busy": "2020-10-05T03:11:30.862283Z",
     "iopub.status.idle": "2020-10-05T03:13:49.014567Z",
     "shell.execute_reply": "2020-10-05T03:13:49.013567Z",
     "shell.execute_reply.started": "2020-10-05T03:11:30.862283Z"
    }
   },
   "outputs": [
    {
     "name": "stdout",
     "output_type": "stream",
     "text": [
      "0.578275443573612\n"
     ]
    }
   ],
   "source": [
    "et = ExtraTreesClassifier(\n",
    "    n_estimators=1000, min_samples_split=15).fit(train_x, y_train)\n",
    "et_fit = et.fit(train_x, y_train)\n",
    "pred_et = et_fit.predict(test_x)\n",
    "kappa_score(pred_et)"
   ]
  },
  {
   "cell_type": "markdown",
   "metadata": {},
   "source": [
    "Cross Valiadtion"
   ]
  },
  {
   "cell_type": "code",
   "execution_count": 79,
   "metadata": {
    "execution": {
     "iopub.execute_input": "2020-10-05T03:14:26.450641Z",
     "iopub.status.busy": "2020-10-05T03:14:26.450641Z",
     "iopub.status.idle": "2020-10-05T03:21:41.208147Z",
     "shell.execute_reply": "2020-10-05T03:21:41.207327Z",
     "shell.execute_reply.started": "2020-10-05T03:14:26.450641Z"
    }
   },
   "outputs": [],
   "source": [
    "et_cv =[]\n",
    "cv_func(et_cv, et)"
   ]
  },
  {
   "cell_type": "code",
   "execution_count": 80,
   "metadata": {
    "execution": {
     "iopub.execute_input": "2020-10-05T03:21:41.209108Z",
     "iopub.status.busy": "2020-10-05T03:21:41.209108Z",
     "iopub.status.idle": "2020-10-05T03:21:41.223071Z",
     "shell.execute_reply": "2020-10-05T03:21:41.223071Z",
     "shell.execute_reply.started": "2020-10-05T03:21:41.209108Z"
    }
   },
   "outputs": [
    {
     "name": "stdout",
     "output_type": "stream",
     "text": [
      "0.5639095114404307\n"
     ]
    }
   ],
   "source": [
    "print(np.mean(et_cv))"
   ]
  },
  {
   "cell_type": "markdown",
   "metadata": {},
   "source": [
    "### Tunning"
   ]
  },
  {
   "cell_type": "code",
   "execution_count": 81,
   "metadata": {
    "execution": {
     "iopub.execute_input": "2020-10-05T03:23:23.932137Z",
     "iopub.status.busy": "2020-10-05T03:23:23.932137Z",
     "iopub.status.idle": "2020-10-05T03:23:23.946612Z",
     "shell.execute_reply": "2020-10-05T03:23:23.946612Z",
     "shell.execute_reply.started": "2020-10-05T03:23:23.932137Z"
    }
   },
   "outputs": [],
   "source": [
    "et_params = {'n_estimators': scope.int(hp.quniform('n_estimators', 500, 3000, 100)),\n",
    "             'min_samples_split':  hp.choice('min_samples_split', [2, 5, 10]),\n",
    "             'min_samples_leaf':  hp.choice('min_samples_leaf', [1, 3, 9]),\n",
    "             'bootstrap': hp.choice('bootstrap', [True, False])\n",
    "            }"
   ]
  },
  {
   "cell_type": "code",
   "execution_count": 82,
   "metadata": {
    "execution": {
     "iopub.execute_input": "2020-10-05T03:23:27.972661Z",
     "iopub.status.busy": "2020-10-05T03:23:27.972661Z",
     "iopub.status.idle": "2020-10-05T03:23:27.986629Z",
     "shell.execute_reply": "2020-10-05T03:23:27.985660Z",
     "shell.execute_reply.started": "2020-10-05T03:23:27.972661Z"
    }
   },
   "outputs": [],
   "source": [
    "def obj_et(params):\n",
    "    clf = ExtraTreesClassifier(**params)\n",
    "    skfold = StratifiedKFold(n_splits=6, random_state=2020, shuffle=True)\n",
    "    best_score = cross_val_score(\n",
    "        clf, train_x, y_train, scoring=cohen, cv=skfold).mean()\n",
    "    return {'loss': -best_score, 'status': STATUS_OK}"
   ]
  },
  {
   "cell_type": "code",
   "execution_count": 85,
   "metadata": {
    "execution": {
     "iopub.execute_input": "2020-10-05T03:25:14.602575Z",
     "iopub.status.busy": "2020-10-05T03:25:14.602575Z",
     "iopub.status.idle": "2020-10-05T04:56:20.850071Z",
     "shell.execute_reply": "2020-10-05T04:56:20.849110Z",
     "shell.execute_reply.started": "2020-10-05T03:25:14.602575Z"
    }
   },
   "outputs": [
    {
     "name": "stdout",
     "output_type": "stream",
     "text": [
      "100%|██████████| 10/10 [1:31:06<00:00, 546.62s/trial, best loss: -0.5554087720520255]\n"
     ]
    }
   ],
   "source": [
    "best_et = fmin(fn=obj_et, space=et_params, algo=tpe.suggest, max_evals=10)"
   ]
  },
  {
   "cell_type": "code",
   "execution_count": 86,
   "metadata": {
    "execution": {
     "iopub.execute_input": "2020-10-05T05:01:04.586430Z",
     "iopub.status.busy": "2020-10-05T05:01:04.586430Z",
     "iopub.status.idle": "2020-10-05T05:01:04.599396Z",
     "shell.execute_reply": "2020-10-05T05:01:04.598423Z",
     "shell.execute_reply.started": "2020-10-05T05:01:04.586430Z"
    }
   },
   "outputs": [
    {
     "data": {
      "text/plain": [
       "{'bootstrap': 0,\n",
       " 'min_samples_leaf': 0,\n",
       " 'min_samples_split': 1,\n",
       " 'n_estimators': 2600.0}"
      ]
     },
     "execution_count": 86,
     "metadata": {},
     "output_type": "execute_result"
    }
   ],
   "source": [
    "best_et"
   ]
  },
  {
   "cell_type": "code",
   "execution_count": 87,
   "metadata": {
    "execution": {
     "iopub.execute_input": "2020-10-05T05:03:06.877921Z",
     "iopub.status.busy": "2020-10-05T05:03:06.877921Z",
     "iopub.status.idle": "2020-10-05T05:08:14.975463Z",
     "shell.execute_reply": "2020-10-05T05:08:14.973498Z",
     "shell.execute_reply.started": "2020-10-05T05:03:06.877921Z"
    }
   },
   "outputs": [
    {
     "name": "stdout",
     "output_type": "stream",
     "text": [
      "0.5674791534666188\n"
     ]
    }
   ],
   "source": [
    "et_best = ExtraTreesClassifier(\n",
    "    n_estimators=2600, min_samples_split=5, bootstrap=True, min_samples_leaf=1).fit(train_x, y_train)\n",
    "et_bestfit = et_best.fit(train_x, y_train)\n",
    "pred_et_best = et_bestfit.predict(test_x)\n",
    "kappa_score(pred_et_best)"
   ]
  },
  {
   "cell_type": "markdown",
   "metadata": {},
   "source": [
    "## Random Forest\n",
    "\n",
    "### Base"
   ]
  },
  {
   "cell_type": "code",
   "execution_count": 89,
   "metadata": {
    "execution": {
     "iopub.execute_input": "2020-10-05T05:12:19.232446Z",
     "iopub.status.busy": "2020-10-05T05:12:19.232446Z",
     "iopub.status.idle": "2020-10-05T05:13:13.756752Z",
     "shell.execute_reply": "2020-10-05T05:13:13.753760Z",
     "shell.execute_reply.started": "2020-10-05T05:12:19.232446Z"
    }
   },
   "outputs": [
    {
     "name": "stdout",
     "output_type": "stream",
     "text": [
      "0.554882821276191\n"
     ]
    }
   ],
   "source": [
    "rf = RandomForestClassifier(n_estimators=1000, min_samples_split=15, min_samples_leaf=10)\n",
    "rf.fit(train_x, y_train)\n",
    "pred_rf = rf.predict(test_x)\n",
    "kappa_score(pred_rf)"
   ]
  },
  {
   "cell_type": "markdown",
   "metadata": {},
   "source": [
    "Cross Validation"
   ]
  },
  {
   "cell_type": "code",
   "execution_count": 90,
   "metadata": {
    "execution": {
     "iopub.execute_input": "2020-10-05T05:13:56.744850Z",
     "iopub.status.busy": "2020-10-05T05:13:56.743881Z",
     "iopub.status.idle": "2020-10-05T05:19:49.027574Z",
     "shell.execute_reply": "2020-10-05T05:19:49.025579Z",
     "shell.execute_reply.started": "2020-10-05T05:13:56.744850Z"
    }
   },
   "outputs": [],
   "source": [
    "rf_cv =[]\n",
    "cv_func(rf_cv, rf)"
   ]
  },
  {
   "cell_type": "code",
   "execution_count": 92,
   "metadata": {
    "execution": {
     "iopub.execute_input": "2020-10-05T05:21:23.814668Z",
     "iopub.status.busy": "2020-10-05T05:21:23.814668Z",
     "iopub.status.idle": "2020-10-05T05:21:23.823643Z",
     "shell.execute_reply": "2020-10-05T05:21:23.821649Z",
     "shell.execute_reply.started": "2020-10-05T05:21:23.814668Z"
    }
   },
   "outputs": [
    {
     "name": "stdout",
     "output_type": "stream",
     "text": [
      "0.564400327901409\n"
     ]
    }
   ],
   "source": [
    "print(np.mean(rf_cv))"
   ]
  },
  {
   "cell_type": "markdown",
   "metadata": {},
   "source": [
    "### Tunning"
   ]
  },
  {
   "cell_type": "code",
   "execution_count": 101,
   "metadata": {
    "execution": {
     "iopub.execute_input": "2020-10-05T05:38:32.007963Z",
     "iopub.status.busy": "2020-10-05T05:38:32.006998Z",
     "iopub.status.idle": "2020-10-05T05:38:32.017935Z",
     "shell.execute_reply": "2020-10-05T05:38:32.014950Z",
     "shell.execute_reply.started": "2020-10-05T05:38:32.007963Z"
    }
   },
   "outputs": [],
   "source": [
    "rf_params = {'n_estimators': scope.int(hp.quniform('n_estimators', 500, 3000, 100)),\n",
    "             'min_samples_split': hp.choice('min_samples_split', [2, 6, 18, 32]),\n",
    "             'min_samples_leaf': scope.int(hp.quniform('min_samples_leaf', 10, 100, 10)),\n",
    "             'bootstrap': hp.choice('bootstrap', [True, False])\n",
    "            }"
   ]
  },
  {
   "cell_type": "code",
   "execution_count": 102,
   "metadata": {
    "execution": {
     "iopub.execute_input": "2020-10-05T05:38:33.320314Z",
     "iopub.status.busy": "2020-10-05T05:38:33.320314Z",
     "iopub.status.idle": "2020-10-05T05:38:33.331285Z",
     "shell.execute_reply": "2020-10-05T05:38:33.327322Z",
     "shell.execute_reply.started": "2020-10-05T05:38:33.320314Z"
    }
   },
   "outputs": [],
   "source": [
    "def obj_rf(params):\n",
    "    clf = RandomForestClassifier(**params)\n",
    "    skfold = StratifiedKFold(n_splits=6, random_state=2020, shuffle=True)\n",
    "    best_score = cross_val_score(\n",
    "        clf, train_x, y_train, scoring=cohen, cv=skfold).mean()\n",
    "    return {'loss': -best_score, 'status': STATUS_OK}"
   ]
  },
  {
   "cell_type": "code",
   "execution_count": null,
   "metadata": {
    "execution": {
     "iopub.execute_input": "2020-10-05T05:38:33.548857Z",
     "iopub.status.busy": "2020-10-05T05:38:33.548857Z"
    }
   },
   "outputs": [
    {
     "name": "stdout",
     "output_type": "stream",
     "text": [
      " 30%|███       | 3/10 [11:17<24:49, 212.72s/trial, best loss: -0.020918877876076714]"
     ]
    }
   ],
   "source": [
    "best_rf = fmin(fn=obj_rf, space=rf_params, algo=tpe.suggest, max_evals=10)"
   ]
  },
  {
   "cell_type": "code",
   "execution_count": null,
   "metadata": {},
   "outputs": [],
   "source": [
    "best_rf"
   ]
  },
  {
   "cell_type": "markdown",
   "metadata": {},
   "source": [
    "## XGBoost\n",
    "\n",
    "### Base"
   ]
  },
  {
   "cell_type": "code",
   "execution_count": 21,
   "metadata": {
    "execution": {
     "iopub.execute_input": "2020-10-04T19:16:53.477476Z",
     "iopub.status.busy": "2020-10-04T19:16:53.477476Z",
     "iopub.status.idle": "2020-10-04T19:19:50.592723Z",
     "shell.execute_reply": "2020-10-04T19:19:50.592723Z",
     "shell.execute_reply.started": "2020-10-04T19:16:53.477476Z"
    }
   },
   "outputs": [
    {
     "name": "stdout",
     "output_type": "stream",
     "text": [
      "0.5602492400641114\n"
     ]
    }
   ],
   "source": [
    "xgb = XGBClassifier(learning_rate=0.1,\n",
    "                    n_estimators=1000,\n",
    "                    max_depth=5,\n",
    "                    min_child_weight=1,\n",
    "                    gamma=0,\n",
    "                    subsample=0.8,\n",
    "                    colsample_bytree=0.8,\n",
    "                    objective='multi:softmax',\n",
    "                    nthread=4,\n",
    "                    num_class=9,\n",
    "                    seed=27)\n",
    "xgb.fit(train_x, y_train)\n",
    "pred_xgb = xgb.predict(test_x)\n",
    "kappa_score(pred_xgb)"
   ]
  }
 ],
 "metadata": {
  "kernelspec": {
   "display_name": "Python 3",
   "language": "python",
   "name": "python3"
  },
  "language_info": {
   "codemirror_mode": {
    "name": "ipython",
    "version": 3
   },
   "file_extension": ".py",
   "mimetype": "text/x-python",
   "name": "python",
   "nbconvert_exporter": "python",
   "pygments_lexer": "ipython3",
   "version": "3.8.5"
  }
 },
 "nbformat": 4,
 "nbformat_minor": 4
}
