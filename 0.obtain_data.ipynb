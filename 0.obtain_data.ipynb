{
 "cells": [
  {
   "cell_type": "code",
   "execution_count": null,
   "metadata": {},
   "outputs": [],
   "source": [
    "# !pip install kaggle"
   ]
  },
  {
   "cell_type": "code",
   "execution_count": null,
   "metadata": {},
   "outputs": [],
   "source": [
    "import kaggle\n",
    "import os, zipfile"
   ]
  },
  {
   "cell_type": "code",
   "execution_count": 3,
   "metadata": {
    "execution": {
     "iopub.status.idle": "2020-09-14T01:39:29.422234Z",
     "shell.execute_reply": "2020-09-14T01:39:29.421285Z",
     "shell.execute_reply.started": "2020-09-14T01:39:27.874462Z"
    }
   },
   "outputs": [
    {
     "name": "stdout",
     "output_type": "stream",
     "text": [
      "Downloading crowdflower-search-relevance.zip to C:\\Users\\sit_k\\Documents\\Python\\crowdflower\n",
      "\n"
     ]
    },
    {
     "name": "stderr",
     "output_type": "stream",
     "text": [
      "\n",
      "  0%|          | 0.00/6.42M [00:00<?, ?B/s]\n",
      " 16%|#5        | 1.00M/6.42M [00:00<00:00, 9.05MB/s]\n",
      " 47%|####6     | 3.00M/6.42M [00:00<00:00, 9.49MB/s]\n",
      " 62%|######2   | 4.00M/6.42M [00:00<00:00, 8.84MB/s]\n",
      " 93%|#########3| 6.00M/6.42M [00:00<00:00, 9.40MB/s]\n",
      "100%|##########| 6.42M/6.42M [00:00<00:00, 9.93MB/s]\n"
     ]
    }
   ],
   "source": [
    "!kaggle competitions download -c crowdflower-search-relevance\n",
    "# after this execution, move zip file into the data folder before executing next line"
   ]
  },
  {
   "cell_type": "code",
   "execution_count": 4,
   "metadata": {
    "execution": {
     "iopub.execute_input": "2020-09-14T01:39:29.425255Z",
     "iopub.status.busy": "2020-09-14T01:39:29.425255Z",
     "iopub.status.idle": "2020-09-14T01:39:29.430233Z",
     "shell.execute_reply": "2020-09-14T01:39:29.430233Z",
     "shell.execute_reply.started": "2020-09-14T01:39:29.425255Z"
    }
   },
   "outputs": [],
   "source": [
    "pwd = os.getcwd()\n",
    "dir_name = pwd+'\\data\\\\'"
   ]
  },
  {
   "cell_type": "code",
   "execution_count": 8,
   "metadata": {
    "execution": {
     "iopub.execute_input": "2020-09-14T01:39:29.478080Z",
     "iopub.status.busy": "2020-09-14T01:39:29.478080Z",
     "iopub.status.idle": "2020-09-14T01:39:29.521963Z",
     "shell.execute_reply": "2020-09-14T01:39:29.520969Z",
     "shell.execute_reply.started": "2020-09-14T01:39:29.478080Z"
    }
   },
   "outputs": [],
   "source": [
    "for item in os.listdir(pwd): # loop through items in dir\n",
    "    if item.endswith('.zip'): # check for \".zip\" extension\n",
    "        zip_ref = zipfile.ZipFile(item) # create zipfile object\n",
    "        zip_ref.extractall(dir_name) # extract file to dir\n",
    "        zip_ref.close() # close file\n",
    "        os.remove(item) # delete zipped file"
   ]
  },
  {
   "cell_type": "code",
   "execution_count": 9,
   "metadata": {
    "execution": {
     "iopub.execute_input": "2020-09-14T01:39:29.522961Z",
     "iopub.status.busy": "2020-09-14T01:39:29.522961Z",
     "iopub.status.idle": "2020-09-14T01:39:29.657112Z",
     "shell.execute_reply": "2020-09-14T01:39:29.657112Z",
     "shell.execute_reply.started": "2020-09-14T01:39:29.522961Z"
    }
   },
   "outputs": [],
   "source": [
    "for item in os.listdir(dir_name): # loop through items in dir\n",
    "    if item.endswith('.zip'): # check for \".zip\" extension\n",
    "        file_name = dir_name+item # get full path of files\n",
    "        zip_ref = zipfile.ZipFile(file_name) # create zipfile object\n",
    "        zip_ref.extractall(dir_name) # extract file to dir\n",
    "        zip_ref.close() # close file\n",
    "        os.remove(file_name) # delete zipped file"
   ]
  },
  {
   "cell_type": "code",
   "execution_count": null,
   "metadata": {},
   "outputs": [],
   "source": []
  }
 ],
 "metadata": {
  "kernelspec": {
   "display_name": "Python 3",
   "language": "python",
   "name": "python3"
  },
  "language_info": {
   "codemirror_mode": {
    "name": "ipython",
    "version": 3
   },
   "file_extension": ".py",
   "mimetype": "text/x-python",
   "name": "python",
   "nbconvert_exporter": "python",
   "pygments_lexer": "ipython3",
   "version": "3.7.1"
  }
 },
 "nbformat": 4,
 "nbformat_minor": 4
}
