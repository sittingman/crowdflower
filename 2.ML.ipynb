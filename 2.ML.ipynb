{
 "cells": [
  {
   "cell_type": "code",
   "execution_count": 24,
   "metadata": {
    "execution": {
     "iopub.execute_input": "2020-09-27T01:46:10.799835Z",
     "iopub.status.busy": "2020-09-27T01:46:10.799835Z",
     "iopub.status.idle": "2020-09-27T01:46:10.807814Z",
     "shell.execute_reply": "2020-09-27T01:46:10.807814Z",
     "shell.execute_reply.started": "2020-09-27T01:46:10.799835Z"
    }
   },
   "outputs": [],
   "source": [
    "import warnings\n",
    "import matplotlib.pyplot as plt\n",
    "import numpy as np\n",
    "import pandas as pd\n",
    "import tensorflow as tf\n",
    "from hyperopt import STATUS_OK, Trials, fmin, hp, rand, tpe\n",
    "from hyperopt.pyll.base import scope\n",
    "from sklearn.dummy import DummyClassifier\n",
    "from sklearn.linear_model import LogisticRegression, LogisticRegressionCV\n",
    "from sklearn.metrics import cohen_kappa_score, make_scorer\n",
    "from sklearn.model_selection import (\n",
    "    GridSearchCV,\n",
    "    StratifiedKFold,\n",
    "    cross_val_score,\n",
    "    train_test_split,\n",
    ")\n",
    "from sklearn.preprocessing import StandardScaler\n",
    "from sklearn.svm import SVC\n",
    "from xgboost.sklearn import XGBClassifier\n",
    "\n",
    "warnings.simplefilter(action='ignore', category=FutureWarning)"
   ]
  },
  {
   "cell_type": "code",
   "execution_count": 2,
   "metadata": {
    "execution": {
     "iopub.execute_input": "2020-09-27T01:38:33.150924Z",
     "iopub.status.busy": "2020-09-27T01:38:33.150924Z",
     "iopub.status.idle": "2020-09-27T01:38:33.277437Z",
     "shell.execute_reply": "2020-09-27T01:38:33.276437Z",
     "shell.execute_reply.started": "2020-09-27T01:38:33.150924Z"
    }
   },
   "outputs": [],
   "source": [
    "df_clean = pd.read_csv('./data/df_clean.csv', index_col=0)"
   ]
  },
  {
   "cell_type": "code",
   "execution_count": 3,
   "metadata": {
    "execution": {
     "iopub.execute_input": "2020-09-27T01:38:33.280429Z",
     "iopub.status.busy": "2020-09-27T01:38:33.280429Z",
     "iopub.status.idle": "2020-09-27T01:38:33.292424Z",
     "shell.execute_reply": "2020-09-27T01:38:33.292424Z",
     "shell.execute_reply.started": "2020-09-27T01:38:33.280429Z"
    }
   },
   "outputs": [],
   "source": [
    "X = df_clean.loc[:, 'prod_fuzzy':]\n",
    "y = df_clean['target']"
   ]
  },
  {
   "cell_type": "code",
   "execution_count": 4,
   "metadata": {
    "execution": {
     "iopub.execute_input": "2020-09-27T01:38:33.293394Z",
     "iopub.status.busy": "2020-09-27T01:38:33.293394Z",
     "iopub.status.idle": "2020-09-27T01:38:33.324336Z",
     "shell.execute_reply": "2020-09-27T01:38:33.324336Z",
     "shell.execute_reply.started": "2020-09-27T01:38:33.293394Z"
    }
   },
   "outputs": [
    {
     "data": {
      "text/html": [
       "<div>\n",
       "<style scoped>\n",
       "    .dataframe tbody tr th:only-of-type {\n",
       "        vertical-align: middle;\n",
       "    }\n",
       "\n",
       "    .dataframe tbody tr th {\n",
       "        vertical-align: top;\n",
       "    }\n",
       "\n",
       "    .dataframe thead th {\n",
       "        text-align: right;\n",
       "    }\n",
       "</style>\n",
       "<table border=\"1\" class=\"dataframe\">\n",
       "  <thead>\n",
       "    <tr style=\"text-align: right;\">\n",
       "      <th></th>\n",
       "      <th>prod_fuzzy</th>\n",
       "      <th>desc_fuzzy</th>\n",
       "      <th>prod_desc</th>\n",
       "      <th>query_len</th>\n",
       "      <th>coffee</th>\n",
       "      <th>foam</th>\n",
       "      <th>memory</th>\n",
       "      <th>ray</th>\n",
       "      <th>gb</th>\n",
       "      <th>phone</th>\n",
       "      <th>...</th>\n",
       "      <th>francisco</th>\n",
       "      <th>prom</th>\n",
       "      <th>clothes</th>\n",
       "      <th>case</th>\n",
       "      <th>bay</th>\n",
       "      <th>note</th>\n",
       "      <th>comforter</th>\n",
       "      <th>tick</th>\n",
       "      <th>control</th>\n",
       "      <th>toe</th>\n",
       "    </tr>\n",
       "    <tr>\n",
       "      <th>id</th>\n",
       "      <th></th>\n",
       "      <th></th>\n",
       "      <th></th>\n",
       "      <th></th>\n",
       "      <th></th>\n",
       "      <th></th>\n",
       "      <th></th>\n",
       "      <th></th>\n",
       "      <th></th>\n",
       "      <th></th>\n",
       "      <th></th>\n",
       "      <th></th>\n",
       "      <th></th>\n",
       "      <th></th>\n",
       "      <th></th>\n",
       "      <th></th>\n",
       "      <th></th>\n",
       "      <th></th>\n",
       "      <th></th>\n",
       "      <th></th>\n",
       "      <th></th>\n",
       "    </tr>\n",
       "  </thead>\n",
       "  <tbody>\n",
       "    <tr>\n",
       "      <th>1</th>\n",
       "      <td>44</td>\n",
       "      <td>44</td>\n",
       "      <td>68</td>\n",
       "      <td>3</td>\n",
       "      <td>False</td>\n",
       "      <td>False</td>\n",
       "      <td>False</td>\n",
       "      <td>False</td>\n",
       "      <td>False</td>\n",
       "      <td>False</td>\n",
       "      <td>...</td>\n",
       "      <td>False</td>\n",
       "      <td>False</td>\n",
       "      <td>False</td>\n",
       "      <td>False</td>\n",
       "      <td>False</td>\n",
       "      <td>False</td>\n",
       "      <td>False</td>\n",
       "      <td>False</td>\n",
       "      <td>False</td>\n",
       "      <td>False</td>\n",
       "    </tr>\n",
       "    <tr>\n",
       "      <th>2</th>\n",
       "      <td>85</td>\n",
       "      <td>50</td>\n",
       "      <td>75</td>\n",
       "      <td>3</td>\n",
       "      <td>False</td>\n",
       "      <td>False</td>\n",
       "      <td>False</td>\n",
       "      <td>False</td>\n",
       "      <td>False</td>\n",
       "      <td>False</td>\n",
       "      <td>...</td>\n",
       "      <td>False</td>\n",
       "      <td>False</td>\n",
       "      <td>False</td>\n",
       "      <td>False</td>\n",
       "      <td>False</td>\n",
       "      <td>False</td>\n",
       "      <td>False</td>\n",
       "      <td>False</td>\n",
       "      <td>False</td>\n",
       "      <td>False</td>\n",
       "    </tr>\n",
       "    <tr>\n",
       "      <th>4</th>\n",
       "      <td>100</td>\n",
       "      <td>50</td>\n",
       "      <td>25</td>\n",
       "      <td>1</td>\n",
       "      <td>False</td>\n",
       "      <td>False</td>\n",
       "      <td>False</td>\n",
       "      <td>False</td>\n",
       "      <td>False</td>\n",
       "      <td>False</td>\n",
       "      <td>...</td>\n",
       "      <td>False</td>\n",
       "      <td>False</td>\n",
       "      <td>False</td>\n",
       "      <td>False</td>\n",
       "      <td>False</td>\n",
       "      <td>False</td>\n",
       "      <td>False</td>\n",
       "      <td>False</td>\n",
       "      <td>False</td>\n",
       "      <td>False</td>\n",
       "    </tr>\n",
       "    <tr>\n",
       "      <th>5</th>\n",
       "      <td>100</td>\n",
       "      <td>56</td>\n",
       "      <td>43</td>\n",
       "      <td>2</td>\n",
       "      <td>False</td>\n",
       "      <td>False</td>\n",
       "      <td>False</td>\n",
       "      <td>False</td>\n",
       "      <td>False</td>\n",
       "      <td>False</td>\n",
       "      <td>...</td>\n",
       "      <td>False</td>\n",
       "      <td>False</td>\n",
       "      <td>False</td>\n",
       "      <td>False</td>\n",
       "      <td>False</td>\n",
       "      <td>False</td>\n",
       "      <td>False</td>\n",
       "      <td>False</td>\n",
       "      <td>False</td>\n",
       "      <td>False</td>\n",
       "    </tr>\n",
       "    <tr>\n",
       "      <th>7</th>\n",
       "      <td>100</td>\n",
       "      <td>100</td>\n",
       "      <td>58</td>\n",
       "      <td>2</td>\n",
       "      <td>False</td>\n",
       "      <td>False</td>\n",
       "      <td>False</td>\n",
       "      <td>False</td>\n",
       "      <td>False</td>\n",
       "      <td>False</td>\n",
       "      <td>...</td>\n",
       "      <td>False</td>\n",
       "      <td>False</td>\n",
       "      <td>False</td>\n",
       "      <td>False</td>\n",
       "      <td>False</td>\n",
       "      <td>False</td>\n",
       "      <td>False</td>\n",
       "      <td>False</td>\n",
       "      <td>False</td>\n",
       "      <td>False</td>\n",
       "    </tr>\n",
       "  </tbody>\n",
       "</table>\n",
       "<p>5 rows × 34 columns</p>\n",
       "</div>"
      ],
      "text/plain": [
       "    prod_fuzzy  desc_fuzzy  prod_desc  query_len  coffee   foam  memory  \\\n",
       "id                                                                        \n",
       "1           44          44         68          3   False  False   False   \n",
       "2           85          50         75          3   False  False   False   \n",
       "4          100          50         25          1   False  False   False   \n",
       "5          100          56         43          2   False  False   False   \n",
       "7          100         100         58          2   False  False   False   \n",
       "\n",
       "      ray     gb  phone  ...  francisco   prom  clothes   case    bay   note  \\\n",
       "id                       ...                                                   \n",
       "1   False  False  False  ...      False  False    False  False  False  False   \n",
       "2   False  False  False  ...      False  False    False  False  False  False   \n",
       "4   False  False  False  ...      False  False    False  False  False  False   \n",
       "5   False  False  False  ...      False  False    False  False  False  False   \n",
       "7   False  False  False  ...      False  False    False  False  False  False   \n",
       "\n",
       "    comforter   tick  control    toe  \n",
       "id                                    \n",
       "1       False  False    False  False  \n",
       "2       False  False    False  False  \n",
       "4       False  False    False  False  \n",
       "5       False  False    False  False  \n",
       "7       False  False    False  False  \n",
       "\n",
       "[5 rows x 34 columns]"
      ]
     },
     "execution_count": 4,
     "metadata": {},
     "output_type": "execute_result"
    }
   ],
   "source": [
    "X.head()"
   ]
  },
  {
   "cell_type": "code",
   "execution_count": 5,
   "metadata": {
    "execution": {
     "iopub.execute_input": "2020-09-27T01:38:33.325309Z",
     "iopub.status.busy": "2020-09-27T01:38:33.325309Z",
     "iopub.status.idle": "2020-09-27T01:38:33.340298Z",
     "shell.execute_reply": "2020-09-27T01:38:33.340298Z",
     "shell.execute_reply.started": "2020-09-27T01:38:33.325309Z"
    }
   },
   "outputs": [],
   "source": [
    "X_train, X_test, y_train, y_test = train_test_split(\n",
    "    X, y, test_size=.2, random_state=144)"
   ]
  },
  {
   "cell_type": "code",
   "execution_count": 6,
   "metadata": {
    "execution": {
     "iopub.execute_input": "2020-09-27T01:38:33.341287Z",
     "iopub.status.busy": "2020-09-27T01:38:33.341287Z",
     "iopub.status.idle": "2020-09-27T01:38:33.356226Z",
     "shell.execute_reply": "2020-09-27T01:38:33.356226Z",
     "shell.execute_reply.started": "2020-09-27T01:38:33.341287Z"
    }
   },
   "outputs": [],
   "source": [
    "def kappa_score(predictions):\n",
    "    print(cohen_kappa_score(y_test, predictions, weights='quadratic'))"
   ]
  },
  {
   "cell_type": "code",
   "execution_count": 7,
   "metadata": {
    "execution": {
     "iopub.execute_input": "2020-09-27T01:38:33.358221Z",
     "iopub.status.busy": "2020-09-27T01:38:33.357223Z",
     "iopub.status.idle": "2020-09-27T01:38:33.372220Z",
     "shell.execute_reply": "2020-09-27T01:38:33.372220Z",
     "shell.execute_reply.started": "2020-09-27T01:38:33.357223Z"
    }
   },
   "outputs": [
    {
     "name": "stdout",
     "output_type": "stream",
     "text": [
      "(8126, 34) (8126,)\n"
     ]
    }
   ],
   "source": [
    "print(X_train.shape, y_train.shape)"
   ]
  },
  {
   "cell_type": "code",
   "execution_count": 8,
   "metadata": {
    "execution": {
     "iopub.execute_input": "2020-09-27T01:38:33.374178Z",
     "iopub.status.busy": "2020-09-27T01:38:33.374178Z",
     "iopub.status.idle": "2020-09-27T01:38:33.403100Z",
     "shell.execute_reply": "2020-09-27T01:38:33.389140Z",
     "shell.execute_reply.started": "2020-09-27T01:38:33.374178Z"
    }
   },
   "outputs": [
    {
     "name": "stdout",
     "output_type": "stream",
     "text": [
      "0.0\n"
     ]
    }
   ],
   "source": [
    "dummy = DummyClassifier(strategy='most_frequent')\n",
    "dummy.fit(X_train, y_train)\n",
    "pred_dum = dummy.predict(X_test)\n",
    "kappa_score(pred_dum)"
   ]
  },
  {
   "cell_type": "code",
   "execution_count": 9,
   "metadata": {
    "execution": {
     "iopub.execute_input": "2020-09-27T01:38:33.405095Z",
     "iopub.status.busy": "2020-09-27T01:38:33.405095Z",
     "iopub.status.idle": "2020-09-27T01:38:33.466918Z",
     "shell.execute_reply": "2020-09-27T01:38:33.466918Z",
     "shell.execute_reply.started": "2020-09-27T01:38:33.405095Z"
    }
   },
   "outputs": [],
   "source": [
    "scaler = StandardScaler()\n",
    "train_x = scaler.fit_transform(X_train)\n",
    "test_x = scaler.transform(X_test)"
   ]
  },
  {
   "cell_type": "code",
   "execution_count": 10,
   "metadata": {
    "execution": {
     "iopub.execute_input": "2020-09-27T01:38:33.468908Z",
     "iopub.status.busy": "2020-09-27T01:38:33.467883Z",
     "iopub.status.idle": "2020-09-27T01:38:33.639422Z",
     "shell.execute_reply": "2020-09-27T01:38:33.639422Z",
     "shell.execute_reply.started": "2020-09-27T01:38:33.468908Z"
    }
   },
   "outputs": [
    {
     "name": "stdout",
     "output_type": "stream",
     "text": [
      "0.34582213047745636\n"
     ]
    }
   ],
   "source": [
    "lr = LogisticRegression(solver='lbfgs', class_weight='balanced')\n",
    "lr.fit(train_x, y_train)\n",
    "pred_lr = lr.predict(test_x)\n",
    "kappa_score(pred_lr)"
   ]
  },
  {
   "cell_type": "code",
   "execution_count": 11,
   "metadata": {
    "execution": {
     "iopub.execute_input": "2020-09-27T01:38:33.640420Z",
     "iopub.status.busy": "2020-09-27T01:38:33.640420Z",
     "iopub.status.idle": "2020-09-27T01:38:33.655380Z",
     "shell.execute_reply": "2020-09-27T01:38:33.655380Z",
     "shell.execute_reply.started": "2020-09-27T01:38:33.640420Z"
    }
   },
   "outputs": [],
   "source": [
    "cohen = make_scorer(cohen_kappa_score, weights='quadratic')"
   ]
  },
  {
   "cell_type": "code",
   "execution_count": 12,
   "metadata": {
    "execution": {
     "iopub.execute_input": "2020-09-27T01:38:33.657375Z",
     "iopub.status.busy": "2020-09-27T01:38:33.657375Z",
     "iopub.status.idle": "2020-09-27T01:38:35.824081Z",
     "shell.execute_reply": "2020-09-27T01:38:35.824081Z",
     "shell.execute_reply.started": "2020-09-27T01:38:33.657375Z"
    }
   },
   "outputs": [
    {
     "data": {
      "text/plain": [
       "0.3455824434136241"
      ]
     },
     "execution_count": 12,
     "metadata": {},
     "output_type": "execute_result"
    }
   ],
   "source": [
    "lrcv = LogisticRegressionCV(\n",
    "    solver='lbfgs', scoring=cohen, cv=6, class_weight='balanced', max_iter=1000)\n",
    "lrcv.fit(train_x, y_train)\n",
    "lrcv.score(test_x, y_test)"
   ]
  },
  {
   "cell_type": "code",
   "execution_count": 13,
   "metadata": {
    "execution": {
     "iopub.execute_input": "2020-09-27T01:38:35.826077Z",
     "iopub.status.busy": "2020-09-27T01:38:35.826077Z",
     "iopub.status.idle": "2020-09-27T01:38:35.840040Z",
     "shell.execute_reply": "2020-09-27T01:38:35.840040Z",
     "shell.execute_reply.started": "2020-09-27T01:38:35.826077Z"
    }
   },
   "outputs": [],
   "source": [
    "lr_params = {'penalty': hp.choice('penalty', ['l2']),\n",
    "             'C': hp.choice('C', [0.001, 0.01, 0.1, 1, 10, 100, 1000]),\n",
    "             'solver': hp.choice('solver', ['lbfgs', 'newton-cg', 'sag', 'saga']),\n",
    "             'class_weight': hp.choice('class_weight', ['balanced']),\n",
    "             'max_iter': scope.int(hp.quniform('max_iter', 100, 1000, 10))}"
   ]
  },
  {
   "cell_type": "code",
   "execution_count": 14,
   "metadata": {
    "execution": {
     "iopub.execute_input": "2020-09-27T01:38:35.842034Z",
     "iopub.status.busy": "2020-09-27T01:38:35.841037Z",
     "iopub.status.idle": "2020-09-27T01:38:35.856994Z",
     "shell.execute_reply": "2020-09-27T01:38:35.855996Z",
     "shell.execute_reply.started": "2020-09-27T01:38:35.842034Z"
    }
   },
   "outputs": [],
   "source": [
    "def obj_lr(params):\n",
    "    clf = LogisticRegression(**params)\n",
    "    best_score = cross_val_score(\n",
    "        clf, train_x, y_train, scoring=cohen, cv=6).mean()\n",
    "    return {'loss': -best_score, 'status': STATUS_OK}"
   ]
  },
  {
   "cell_type": "code",
   "execution_count": 15,
   "metadata": {
    "execution": {
     "iopub.execute_input": "2020-09-27T01:38:35.858990Z",
     "iopub.status.busy": "2020-09-27T01:38:35.857992Z",
     "iopub.status.idle": "2020-09-27T01:38:35.871955Z",
     "shell.execute_reply": "2020-09-27T01:38:35.870959Z",
     "shell.execute_reply.started": "2020-09-27T01:38:35.858990Z"
    }
   },
   "outputs": [],
   "source": [
    "# best_lr = fmin(fn=obj_lr, space=lr_params, rstate=np.random.RandomState(\n",
    "#     44), algo=tpe.suggest, max_evals=50)"
   ]
  },
  {
   "cell_type": "code",
   "execution_count": 17,
   "metadata": {
    "execution": {
     "iopub.execute_input": "2020-09-27T01:38:45.576985Z",
     "iopub.status.busy": "2020-09-27T01:38:45.575976Z",
     "iopub.status.idle": "2020-09-27T01:38:45.595884Z",
     "shell.execute_reply": "2020-09-27T01:38:45.594907Z",
     "shell.execute_reply.started": "2020-09-27T01:38:45.576985Z"
    }
   },
   "outputs": [],
   "source": [
    "# best_lr"
   ]
  },
  {
   "cell_type": "code",
   "execution_count": 19,
   "metadata": {
    "execution": {
     "iopub.execute_input": "2020-09-27T01:39:01.551454Z",
     "iopub.status.busy": "2020-09-27T01:39:01.550427Z",
     "iopub.status.idle": "2020-09-27T01:39:06.490145Z",
     "shell.execute_reply": "2020-09-27T01:39:06.489147Z",
     "shell.execute_reply.started": "2020-09-27T01:39:01.551454Z"
    }
   },
   "outputs": [
    {
     "name": "stdout",
     "output_type": "stream",
     "text": [
      "0.3412888521887424\n"
     ]
    },
    {
     "name": "stderr",
     "output_type": "stream",
     "text": [
      "C:\\Users\\sit_k\\AppData\\Local\\Continuum\\anaconda3\\lib\\site-packages\\sklearn\\linear_model\\_sag.py:330: ConvergenceWarning: The max_iter was reached which means the coef_ did not converge\n",
      "  \"the coef_ did not converge\", ConvergenceWarning)\n"
     ]
    }
   ],
   "source": [
    "lr_best = LogisticRegression(\n",
    "    C=4, class_weight='balanced', solver='saga', max_iter=900, penalty='l2')\n",
    "lr_best.fit(train_x, y_train)\n",
    "pred_lr_best = lr_best.predict(test_x)\n",
    "kappa_score(pred_lr_best)"
   ]
  },
  {
   "cell_type": "code",
   "execution_count": 20,
   "metadata": {
    "execution": {
     "iopub.execute_input": "2020-09-27T01:39:10.456486Z",
     "iopub.status.busy": "2020-09-27T01:39:10.456486Z",
     "iopub.status.idle": "2020-09-27T01:39:15.613752Z",
     "shell.execute_reply": "2020-09-27T01:39:15.612925Z",
     "shell.execute_reply.started": "2020-09-27T01:39:10.456486Z"
    }
   },
   "outputs": [],
   "source": [
    "svc_rbf = SVC(kernel='rbf', gamma=1, C=1,\n",
    "              decision_function_shape='ovo', class_weight='balanced')\n",
    "svc_fit = svc_rbf.fit(train_x, y_train)"
   ]
  },
  {
   "cell_type": "code",
   "execution_count": 21,
   "metadata": {
    "execution": {
     "iopub.execute_input": "2020-09-27T01:39:15.614708Z",
     "iopub.status.busy": "2020-09-27T01:39:15.614708Z",
     "iopub.status.idle": "2020-09-27T01:39:16.202163Z",
     "shell.execute_reply": "2020-09-27T01:39:16.201164Z",
     "shell.execute_reply.started": "2020-09-27T01:39:15.614708Z"
    }
   },
   "outputs": [
    {
     "name": "stdout",
     "output_type": "stream",
     "text": [
      "0.40206860663611144\n"
     ]
    }
   ],
   "source": [
    "pred_rbf = svc_fit.predict(test_x)\n",
    "kappa_score(pred_rbf)"
   ]
  },
  {
   "cell_type": "code",
   "execution_count": 22,
   "metadata": {
    "execution": {
     "iopub.execute_input": "2020-09-27T01:39:18.687696Z",
     "iopub.status.busy": "2020-09-27T01:39:18.686667Z",
     "iopub.status.idle": "2020-09-27T01:39:18.690687Z",
     "shell.execute_reply": "2020-09-27T01:39:18.690687Z",
     "shell.execute_reply.started": "2020-09-27T01:39:18.687696Z"
    }
   },
   "outputs": [],
   "source": [
    "# skf = StratifiedKFold(n_splits=6, random_state=44)"
   ]
  },
  {
   "cell_type": "code",
   "execution_count": null,
   "metadata": {
    "execution": {
     "iopub.status.busy": "2020-09-27T01:38:36.046487Z",
     "iopub.status.idle": "2020-09-27T01:38:36.046487Z"
    }
   },
   "outputs": [],
   "source": [
    "# cv_score = []\n",
    "# for train_idx, test_idx in skf.split(X, y):\n",
    "#     train_set = scaler.fit_transform(X.iloc[train_idx])\n",
    "#     test_set = scaler.transform(X.iloc[test_idx])\n",
    "#     fit_svc = svc_rbf.fit(train_set, y.iloc[train_idx])\n",
    "#     pred_fit = fit_svc.predict(test_set)\n",
    "#     print(cohen_kappa_score(y.iloc[test_idx], pred_fit, weights='quadratic'))"
   ]
  },
  {
   "cell_type": "code",
   "execution_count": null,
   "metadata": {
    "execution": {
     "iopub.status.busy": "2020-09-27T01:38:36.047485Z",
     "iopub.status.idle": "2020-09-27T01:38:36.047485Z"
    }
   },
   "outputs": [],
   "source": [
    "svc_params = {'kernel': hp.choice('kernel', ['rbf']),\n",
    "              'C': hp.choice('C', [0.1, 1, 10, 100, 1000]),\n",
    "              'gamma': hp.choice('gamma', [0.1, 1, 10, 100])}\n",
    "#              'degree': hp.choice('degree', [0, 1, 2, 3, 4, 5, 6])}"
   ]
  },
  {
   "cell_type": "code",
   "execution_count": null,
   "metadata": {
    "execution": {
     "iopub.status.busy": "2020-09-27T01:38:36.048481Z",
     "iopub.status.idle": "2020-09-27T01:38:36.048481Z"
    }
   },
   "outputs": [],
   "source": [
    "def obj_svc(params):\n",
    "    clf = SVC(decision_function_shape='ovo', class_weight='balanced', **params)\n",
    "    best_score = cross_val_score(\n",
    "        clf, train_x, y_train, scoring=cohen, cv=6).mean()\n",
    "    return {'loss': -best_score, 'status': STATUS_OK}"
   ]
  },
  {
   "cell_type": "code",
   "execution_count": null,
   "metadata": {
    "execution": {
     "iopub.status.busy": "2020-09-27T01:38:36.049479Z",
     "iopub.status.idle": "2020-09-27T01:38:36.049479Z"
    }
   },
   "outputs": [],
   "source": [
    "# best_svc = fmin(fn=obj_svc, space=svc_params, rstate=np.random.RandomState(\n",
    "#     44), algo=tpe.suggest, max_evals=50)"
   ]
  },
  {
   "cell_type": "code",
   "execution_count": null,
   "metadata": {
    "execution": {
     "iopub.status.busy": "2020-09-27T01:38:36.050476Z",
     "iopub.status.idle": "2020-09-27T01:38:36.050476Z"
    }
   },
   "outputs": [],
   "source": [
    "best_svc"
   ]
  },
  {
   "cell_type": "code",
   "execution_count": 23,
   "metadata": {
    "execution": {
     "iopub.execute_input": "2020-09-27T01:39:25.181739Z",
     "iopub.status.busy": "2020-09-27T01:39:25.180742Z",
     "iopub.status.idle": "2020-09-27T01:39:36.707409Z",
     "shell.execute_reply": "2020-09-27T01:39:36.706413Z",
     "shell.execute_reply.started": "2020-09-27T01:39:25.181739Z"
    }
   },
   "outputs": [
    {
     "name": "stdout",
     "output_type": "stream",
     "text": [
      "0.3991063942555506\n"
     ]
    }
   ],
   "source": [
    "xgb = XGBClassifier(learning_rate=0.1,\n",
    "                    n_estimators=1000,\n",
    "                    max_depth=5,\n",
    "                    min_child_weight=1,\n",
    "                    gamma=0,\n",
    "                    subsample=0.8,\n",
    "                    colsample_bytree=0.8,\n",
    "                    objective='multi:softmax',\n",
    "                    nthread=4,\n",
    "                    num_class=9,\n",
    "                    seed=27)\n",
    "xgb.fit(train_x, y_train)\n",
    "pred_xgb = xgb.predict(test_x)\n",
    "kappa_score(pred_xgb)"
   ]
  },
  {
   "cell_type": "code",
   "execution_count": null,
   "metadata": {},
   "outputs": [],
   "source": []
  }
 ],
 "metadata": {
  "kernelspec": {
   "display_name": "Python 3",
   "language": "python",
   "name": "python3"
  },
  "language_info": {
   "codemirror_mode": {
    "name": "ipython",
    "version": 3
   },
   "file_extension": ".py",
   "mimetype": "text/x-python",
   "name": "python",
   "nbconvert_exporter": "python",
   "pygments_lexer": "ipython3",
   "version": "3.7.1"
  }
 },
 "nbformat": 4,
 "nbformat_minor": 4
}
