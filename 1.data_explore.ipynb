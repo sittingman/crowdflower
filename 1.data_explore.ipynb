{
 "cells": [
  {
   "cell_type": "code",
   "execution_count": 25,
   "metadata": {
    "execution": {
     "iopub.execute_input": "2020-09-27T01:45:05.739281Z",
     "iopub.status.busy": "2020-09-27T01:45:05.739281Z",
     "iopub.status.idle": "2020-09-27T01:45:05.758230Z",
     "shell.execute_reply": "2020-09-27T01:45:05.758230Z",
     "shell.execute_reply.started": "2020-09-27T01:45:05.739281Z"
    }
   },
   "outputs": [],
   "source": [
    "import matplotlib.pyplot as plt\n",
    "import nltk\n",
    "from nltk.tokenize import word_tokenize\n",
    "from collections import Counter\n",
    "import pandas as pd\n",
    "import seaborn as sns\n",
    "from fuzzywuzzy import fuzz, process\n",
    "from nltk.corpus import stopwords\n",
    "from sklearn.dummy import DummyClassifier\n",
    "from sklearn.linear_model import LogisticRegression\n",
    "from sklearn.metrics import cohen_kappa_score\n",
    "from sklearn.model_selection import train_test_split\n",
    "from sklearn.preprocessing import StandardScaler\n",
    "\n",
    "import keras\n",
    "import numpy as np\n",
    "import warnings\n",
    "import re\n",
    "import pickle\n",
    "\n",
    "# nltk.download('stopwords')\n",
    "# nltk.download('punkt')\n",
    "stop = stopwords.words('english')\n",
    "warnings.simplefilter(action='ignore', category=FutureWarning)"
   ]
  },
  {
   "cell_type": "code",
   "execution_count": 2,
   "metadata": {
    "execution": {
     "iopub.execute_input": "2020-09-27T01:37:43.030586Z",
     "iopub.status.busy": "2020-09-27T01:37:43.030586Z",
     "iopub.status.idle": "2020-09-27T01:37:43.093599Z",
     "shell.execute_reply": "2020-09-27T01:37:43.092639Z",
     "shell.execute_reply.started": "2020-09-27T01:37:43.030586Z"
    }
   },
   "outputs": [],
   "source": [
    "df = pd.read_csv('./data/train.csv')"
   ]
  },
  {
   "cell_type": "code",
   "execution_count": 3,
   "metadata": {
    "execution": {
     "iopub.execute_input": "2020-09-27T01:37:43.096560Z",
     "iopub.status.busy": "2020-09-27T01:37:43.096560Z",
     "iopub.status.idle": "2020-09-27T01:37:43.124485Z",
     "shell.execute_reply": "2020-09-27T01:37:43.123487Z",
     "shell.execute_reply.started": "2020-09-27T01:37:43.096560Z"
    }
   },
   "outputs": [
    {
     "data": {
      "text/html": [
       "<div>\n",
       "<style scoped>\n",
       "    .dataframe tbody tr th:only-of-type {\n",
       "        vertical-align: middle;\n",
       "    }\n",
       "\n",
       "    .dataframe tbody tr th {\n",
       "        vertical-align: top;\n",
       "    }\n",
       "\n",
       "    .dataframe thead th {\n",
       "        text-align: right;\n",
       "    }\n",
       "</style>\n",
       "<table border=\"1\" class=\"dataframe\">\n",
       "  <thead>\n",
       "    <tr style=\"text-align: right;\">\n",
       "      <th></th>\n",
       "      <th>id</th>\n",
       "      <th>query</th>\n",
       "      <th>product_title</th>\n",
       "      <th>product_description</th>\n",
       "      <th>median_relevance</th>\n",
       "      <th>relevance_variance</th>\n",
       "    </tr>\n",
       "  </thead>\n",
       "  <tbody>\n",
       "    <tr>\n",
       "      <th>0</th>\n",
       "      <td>1</td>\n",
       "      <td>bridal shower decorations</td>\n",
       "      <td>Accent Pillow with Heart Design - Red/Black</td>\n",
       "      <td>Red satin accent pillow embroidered with a hea...</td>\n",
       "      <td>1</td>\n",
       "      <td>0.000</td>\n",
       "    </tr>\n",
       "    <tr>\n",
       "      <th>1</th>\n",
       "      <td>2</td>\n",
       "      <td>led christmas lights</td>\n",
       "      <td>Set of 10 Battery Operated Multi LED Train Chr...</td>\n",
       "      <td>Set of 10 Battery Operated Train Christmas Lig...</td>\n",
       "      <td>4</td>\n",
       "      <td>0.000</td>\n",
       "    </tr>\n",
       "    <tr>\n",
       "      <th>2</th>\n",
       "      <td>4</td>\n",
       "      <td>projector</td>\n",
       "      <td>ViewSonic Pro8200 DLP Multimedia Projector</td>\n",
       "      <td>NaN</td>\n",
       "      <td>4</td>\n",
       "      <td>0.471</td>\n",
       "    </tr>\n",
       "    <tr>\n",
       "      <th>3</th>\n",
       "      <td>5</td>\n",
       "      <td>wine rack</td>\n",
       "      <td>Concept Housewares WR-44526 Solid-Wood Ceiling...</td>\n",
       "      <td>Like a silent and sturdy tree, the Southern En...</td>\n",
       "      <td>4</td>\n",
       "      <td>0.000</td>\n",
       "    </tr>\n",
       "    <tr>\n",
       "      <th>4</th>\n",
       "      <td>7</td>\n",
       "      <td>light bulb</td>\n",
       "      <td>Wintergreen Lighting Christmas LED Light Bulb ...</td>\n",
       "      <td>WTGR1011\\nFeatures\\nNickel base, 60,000 averag...</td>\n",
       "      <td>2</td>\n",
       "      <td>0.471</td>\n",
       "    </tr>\n",
       "  </tbody>\n",
       "</table>\n",
       "</div>"
      ],
      "text/plain": [
       "   id                      query  \\\n",
       "0   1  bridal shower decorations   \n",
       "1   2       led christmas lights   \n",
       "2   4                  projector   \n",
       "3   5                  wine rack   \n",
       "4   7                 light bulb   \n",
       "\n",
       "                                       product_title  \\\n",
       "0        Accent Pillow with Heart Design - Red/Black   \n",
       "1  Set of 10 Battery Operated Multi LED Train Chr...   \n",
       "2         ViewSonic Pro8200 DLP Multimedia Projector   \n",
       "3  Concept Housewares WR-44526 Solid-Wood Ceiling...   \n",
       "4  Wintergreen Lighting Christmas LED Light Bulb ...   \n",
       "\n",
       "                                 product_description  median_relevance  \\\n",
       "0  Red satin accent pillow embroidered with a hea...                 1   \n",
       "1  Set of 10 Battery Operated Train Christmas Lig...                 4   \n",
       "2                                                NaN                 4   \n",
       "3  Like a silent and sturdy tree, the Southern En...                 4   \n",
       "4  WTGR1011\\nFeatures\\nNickel base, 60,000 averag...                 2   \n",
       "\n",
       "   relevance_variance  \n",
       "0               0.000  \n",
       "1               0.000  \n",
       "2               0.471  \n",
       "3               0.000  \n",
       "4               0.471  "
      ]
     },
     "execution_count": 3,
     "metadata": {},
     "output_type": "execute_result"
    }
   ],
   "source": [
    "df.head()"
   ]
  },
  {
   "cell_type": "code",
   "execution_count": 4,
   "metadata": {
    "execution": {
     "iopub.execute_input": "2020-09-27T01:37:43.126477Z",
     "iopub.status.busy": "2020-09-27T01:37:43.125480Z",
     "iopub.status.idle": "2020-09-27T01:37:43.154437Z",
     "shell.execute_reply": "2020-09-27T01:37:43.154437Z",
     "shell.execute_reply.started": "2020-09-27T01:37:43.126477Z"
    }
   },
   "outputs": [
    {
     "name": "stdout",
     "output_type": "stream",
     "text": [
      "<class 'pandas.core.frame.DataFrame'>\n",
      "RangeIndex: 10158 entries, 0 to 10157\n",
      "Data columns (total 6 columns):\n",
      " #   Column               Non-Null Count  Dtype  \n",
      "---  ------               --------------  -----  \n",
      " 0   id                   10158 non-null  int64  \n",
      " 1   query                10158 non-null  object \n",
      " 2   product_title        10158 non-null  object \n",
      " 3   product_description  7714 non-null   object \n",
      " 4   median_relevance     10158 non-null  int64  \n",
      " 5   relevance_variance   10158 non-null  float64\n",
      "dtypes: float64(1), int64(2), object(3)\n",
      "memory usage: 476.3+ KB\n"
     ]
    }
   ],
   "source": [
    "df.info()"
   ]
  },
  {
   "cell_type": "code",
   "execution_count": 5,
   "metadata": {
    "execution": {
     "iopub.execute_input": "2020-09-27T01:37:43.155428Z",
     "iopub.status.busy": "2020-09-27T01:37:43.155428Z",
     "iopub.status.idle": "2020-09-27T01:37:43.170386Z",
     "shell.execute_reply": "2020-09-27T01:37:43.170386Z",
     "shell.execute_reply.started": "2020-09-27T01:37:43.155428Z"
    }
   },
   "outputs": [],
   "source": [
    "df['target'] = df['median_relevance'].astype('str')"
   ]
  },
  {
   "cell_type": "code",
   "execution_count": 6,
   "metadata": {
    "execution": {
     "iopub.execute_input": "2020-09-27T01:37:43.171357Z",
     "iopub.status.busy": "2020-09-27T01:37:43.171357Z",
     "iopub.status.idle": "2020-09-27T01:37:43.185319Z",
     "shell.execute_reply": "2020-09-27T01:37:43.185319Z",
     "shell.execute_reply.started": "2020-09-27T01:37:43.171357Z"
    }
   },
   "outputs": [
    {
     "name": "stdout",
     "output_type": "stream",
     "text": [
      "<class 'pandas.core.frame.DataFrame'>\n",
      "RangeIndex: 10158 entries, 0 to 10157\n",
      "Data columns (total 7 columns):\n",
      " #   Column               Non-Null Count  Dtype  \n",
      "---  ------               --------------  -----  \n",
      " 0   id                   10158 non-null  int64  \n",
      " 1   query                10158 non-null  object \n",
      " 2   product_title        10158 non-null  object \n",
      " 3   product_description  7714 non-null   object \n",
      " 4   median_relevance     10158 non-null  int64  \n",
      " 5   relevance_variance   10158 non-null  float64\n",
      " 6   target               10158 non-null  object \n",
      "dtypes: float64(1), int64(2), object(4)\n",
      "memory usage: 555.6+ KB\n"
     ]
    }
   ],
   "source": [
    "df.info()"
   ]
  },
  {
   "cell_type": "code",
   "execution_count": 7,
   "metadata": {
    "execution": {
     "iopub.execute_input": "2020-09-27T01:37:43.186317Z",
     "iopub.status.busy": "2020-09-27T01:37:43.186317Z",
     "iopub.status.idle": "2020-09-27T01:37:43.201278Z",
     "shell.execute_reply": "2020-09-27T01:37:43.201278Z",
     "shell.execute_reply.started": "2020-09-27T01:37:43.186317Z"
    }
   },
   "outputs": [
    {
     "data": {
      "text/plain": [
       "id                        0\n",
       "query                     0\n",
       "product_title             0\n",
       "product_description    2444\n",
       "median_relevance          0\n",
       "relevance_variance        0\n",
       "target                    0\n",
       "dtype: int64"
      ]
     },
     "execution_count": 7,
     "metadata": {},
     "output_type": "execute_result"
    }
   ],
   "source": [
    "df.isnull().sum()"
   ]
  },
  {
   "cell_type": "code",
   "execution_count": 8,
   "metadata": {
    "execution": {
     "iopub.execute_input": "2020-09-27T01:37:43.202275Z",
     "iopub.status.busy": "2020-09-27T01:37:43.202275Z",
     "iopub.status.idle": "2020-09-27T01:37:44.485001Z",
     "shell.execute_reply": "2020-09-27T01:37:44.483810Z",
     "shell.execute_reply.started": "2020-09-27T01:37:43.202275Z"
    }
   },
   "outputs": [],
   "source": [
    "df['prod_clean'] = df['product_title'].str.lower().apply(lambda x: ' '.join(\n",
    "    [word for word in x.split() if word not in (stop)]))\n",
    "df['prod_clean'] = df['prod_clean'].str.replace('\\d+', '')\n",
    "df['desc_clean'] = df['product_description'].str.lower().fillna('none').apply(\n",
    "    lambda x: ' '.join([word for word in x.split() if word not in (stop)]))\n",
    "df['desc_clean'] = df['desc_clean'].str.replace('\\d+', '')"
   ]
  },
  {
   "cell_type": "code",
   "execution_count": 9,
   "metadata": {
    "execution": {
     "iopub.execute_input": "2020-09-27T01:37:44.486013Z",
     "iopub.status.busy": "2020-09-27T01:37:44.486013Z",
     "iopub.status.idle": "2020-09-27T01:37:44.498967Z",
     "shell.execute_reply": "2020-09-27T01:37:44.498967Z",
     "shell.execute_reply.started": "2020-09-27T01:37:44.486013Z"
    }
   },
   "outputs": [
    {
     "data": {
      "text/html": [
       "<div>\n",
       "<style scoped>\n",
       "    .dataframe tbody tr th:only-of-type {\n",
       "        vertical-align: middle;\n",
       "    }\n",
       "\n",
       "    .dataframe tbody tr th {\n",
       "        vertical-align: top;\n",
       "    }\n",
       "\n",
       "    .dataframe thead th {\n",
       "        text-align: right;\n",
       "    }\n",
       "</style>\n",
       "<table border=\"1\" class=\"dataframe\">\n",
       "  <thead>\n",
       "    <tr style=\"text-align: right;\">\n",
       "      <th></th>\n",
       "      <th>id</th>\n",
       "      <th>query</th>\n",
       "      <th>product_title</th>\n",
       "      <th>product_description</th>\n",
       "      <th>median_relevance</th>\n",
       "      <th>relevance_variance</th>\n",
       "      <th>target</th>\n",
       "      <th>prod_clean</th>\n",
       "      <th>desc_clean</th>\n",
       "    </tr>\n",
       "  </thead>\n",
       "  <tbody>\n",
       "    <tr>\n",
       "      <th>0</th>\n",
       "      <td>1</td>\n",
       "      <td>bridal shower decorations</td>\n",
       "      <td>Accent Pillow with Heart Design - Red/Black</td>\n",
       "      <td>Red satin accent pillow embroidered with a hea...</td>\n",
       "      <td>1</td>\n",
       "      <td>0.000</td>\n",
       "      <td>1</td>\n",
       "      <td>accent pillow heart design - red/black</td>\n",
       "      <td>red satin accent pillow embroidered heart blac...</td>\n",
       "    </tr>\n",
       "    <tr>\n",
       "      <th>1</th>\n",
       "      <td>2</td>\n",
       "      <td>led christmas lights</td>\n",
       "      <td>Set of 10 Battery Operated Multi LED Train Chr...</td>\n",
       "      <td>Set of 10 Battery Operated Train Christmas Lig...</td>\n",
       "      <td>4</td>\n",
       "      <td>0.000</td>\n",
       "      <td>4</td>\n",
       "      <td>set  battery operated multi led train christma...</td>\n",
       "      <td>set  battery operated train christmas lights i...</td>\n",
       "    </tr>\n",
       "    <tr>\n",
       "      <th>2</th>\n",
       "      <td>4</td>\n",
       "      <td>projector</td>\n",
       "      <td>ViewSonic Pro8200 DLP Multimedia Projector</td>\n",
       "      <td>NaN</td>\n",
       "      <td>4</td>\n",
       "      <td>0.471</td>\n",
       "      <td>4</td>\n",
       "      <td>viewsonic pro dlp multimedia projector</td>\n",
       "      <td>none</td>\n",
       "    </tr>\n",
       "    <tr>\n",
       "      <th>3</th>\n",
       "      <td>5</td>\n",
       "      <td>wine rack</td>\n",
       "      <td>Concept Housewares WR-44526 Solid-Wood Ceiling...</td>\n",
       "      <td>Like a silent and sturdy tree, the Southern En...</td>\n",
       "      <td>4</td>\n",
       "      <td>0.000</td>\n",
       "      <td>4</td>\n",
       "      <td>concept housewares wr- solid-wood ceiling/wall...</td>\n",
       "      <td>like silent sturdy tree, southern enterprises ...</td>\n",
       "    </tr>\n",
       "    <tr>\n",
       "      <th>4</th>\n",
       "      <td>7</td>\n",
       "      <td>light bulb</td>\n",
       "      <td>Wintergreen Lighting Christmas LED Light Bulb ...</td>\n",
       "      <td>WTGR1011\\nFeatures\\nNickel base, 60,000 averag...</td>\n",
       "      <td>2</td>\n",
       "      <td>0.471</td>\n",
       "      <td>2</td>\n",
       "      <td>wintergreen lighting christmas led light bulb ...</td>\n",
       "      <td>wtgr features nickel base, , average hours, ac...</td>\n",
       "    </tr>\n",
       "  </tbody>\n",
       "</table>\n",
       "</div>"
      ],
      "text/plain": [
       "   id                      query  \\\n",
       "0   1  bridal shower decorations   \n",
       "1   2       led christmas lights   \n",
       "2   4                  projector   \n",
       "3   5                  wine rack   \n",
       "4   7                 light bulb   \n",
       "\n",
       "                                       product_title  \\\n",
       "0        Accent Pillow with Heart Design - Red/Black   \n",
       "1  Set of 10 Battery Operated Multi LED Train Chr...   \n",
       "2         ViewSonic Pro8200 DLP Multimedia Projector   \n",
       "3  Concept Housewares WR-44526 Solid-Wood Ceiling...   \n",
       "4  Wintergreen Lighting Christmas LED Light Bulb ...   \n",
       "\n",
       "                                 product_description  median_relevance  \\\n",
       "0  Red satin accent pillow embroidered with a hea...                 1   \n",
       "1  Set of 10 Battery Operated Train Christmas Lig...                 4   \n",
       "2                                                NaN                 4   \n",
       "3  Like a silent and sturdy tree, the Southern En...                 4   \n",
       "4  WTGR1011\\nFeatures\\nNickel base, 60,000 averag...                 2   \n",
       "\n",
       "   relevance_variance target  \\\n",
       "0               0.000      1   \n",
       "1               0.000      4   \n",
       "2               0.471      4   \n",
       "3               0.000      4   \n",
       "4               0.471      2   \n",
       "\n",
       "                                          prod_clean  \\\n",
       "0             accent pillow heart design - red/black   \n",
       "1  set  battery operated multi led train christma...   \n",
       "2             viewsonic pro dlp multimedia projector   \n",
       "3  concept housewares wr- solid-wood ceiling/wall...   \n",
       "4  wintergreen lighting christmas led light bulb ...   \n",
       "\n",
       "                                          desc_clean  \n",
       "0  red satin accent pillow embroidered heart blac...  \n",
       "1  set  battery operated train christmas lights i...  \n",
       "2                                               none  \n",
       "3  like silent sturdy tree, southern enterprises ...  \n",
       "4  wtgr features nickel base, , average hours, ac...  "
      ]
     },
     "execution_count": 9,
     "metadata": {},
     "output_type": "execute_result"
    }
   ],
   "source": [
    "df.head()"
   ]
  },
  {
   "cell_type": "code",
   "execution_count": 10,
   "metadata": {
    "execution": {
     "iopub.execute_input": "2020-09-27T01:37:44.501960Z",
     "iopub.status.busy": "2020-09-27T01:37:44.500964Z",
     "iopub.status.idle": "2020-09-27T01:37:44.654390Z",
     "shell.execute_reply": "2020-09-27T01:37:44.653578Z",
     "shell.execute_reply.started": "2020-09-27T01:37:44.501960Z"
    }
   },
   "outputs": [
    {
     "data": {
      "image/png": "[encoded data removed]",
      "text/plain": [
       "<Figure size 432x288 with 1 Axes>"
      ]
     },
     "metadata": {
      "needs_background": "light"
     },
     "output_type": "display_data"
    }
   ],
   "source": [
    "sns.distplot(df['median_relevance'], kde=False)\n",
    "plt.title('medain_relevance rating distribution', fontsize=15)\n",
    "plt.show()"
   ]
  },
  {
   "cell_type": "code",
   "execution_count": 11,
   "metadata": {
    "execution": {
     "iopub.execute_input": "2020-09-27T01:37:44.654390Z",
     "iopub.status.busy": "2020-09-27T01:37:44.654390Z",
     "iopub.status.idle": "2020-09-27T01:37:45.559769Z",
     "shell.execute_reply": "2020-09-27T01:37:45.558929Z",
     "shell.execute_reply.started": "2020-09-27T01:37:44.654390Z"
    }
   },
   "outputs": [],
   "source": [
    "df['prod_fuzzy'] = [fuzz.partial_ratio(df['query'][x], df['prod_clean'][x])\n",
    "                    for x in range(len(df))]\n",
    "df['desc_fuzzy'] = [fuzz.partial_ratio(df['query'][x], df['desc_clean'][x])\n",
    "                    for x in range(len(df))]"
   ]
  },
  {
   "cell_type": "code",
   "execution_count": 12,
   "metadata": {
    "execution": {
     "iopub.execute_input": "2020-09-27T01:37:45.560744Z",
     "iopub.status.busy": "2020-09-27T01:37:45.560744Z",
     "iopub.status.idle": "2020-09-27T01:37:46.906808Z",
     "shell.execute_reply": "2020-09-27T01:37:46.905759Z",
     "shell.execute_reply.started": "2020-09-27T01:37:45.560744Z"
    }
   },
   "outputs": [],
   "source": [
    "df['prod_desc'] = [fuzz.partial_ratio(df['prod_clean'][x], df['desc_clean'][x])\n",
    "                   for x in range(len(df))]"
   ]
  },
  {
   "cell_type": "code",
   "execution_count": 13,
   "metadata": {
    "execution": {
     "iopub.execute_input": "2020-09-27T01:37:46.907782Z",
     "iopub.status.busy": "2020-09-27T01:37:46.906808Z",
     "iopub.status.idle": "2020-09-27T01:37:47.426941Z",
     "shell.execute_reply": "2020-09-27T01:37:47.426941Z",
     "shell.execute_reply.started": "2020-09-27T01:37:46.907782Z"
    }
   },
   "outputs": [
    {
     "data": {
      "image/png": "[encoded data removed]",
      "text/plain": [
       "<Figure size 720x360 with 1 Axes>"
      ]
     },
     "metadata": {
      "needs_background": "light"
     },
     "output_type": "display_data"
    }
   ],
   "source": [
    "plt.figure(figsize=(10, 5))\n",
    "sns.kdeplot(df[df['median_relevance'] == 1]\n",
    "            ['prod_fuzzy'], label=1, cumulative=True)\n",
    "sns.kdeplot(df[df['median_relevance'] == 2]\n",
    "            ['prod_fuzzy'], label=2, cumulative=True)\n",
    "sns.kdeplot(df[df['median_relevance'] == 3]\n",
    "            ['prod_fuzzy'], label=3, cumulative=True)\n",
    "sns.kdeplot(df[df['median_relevance'] == 4]\n",
    "            ['prod_fuzzy'], label=4, cumulative=True)\n",
    "plt.legend(loc='best')\n",
    "plt.title('rating distribution by fuzzy match scores')\n",
    "plt.show()"
   ]
  },
  {
   "cell_type": "code",
   "execution_count": 14,
   "metadata": {
    "execution": {
     "iopub.execute_input": "2020-09-27T01:37:47.427938Z",
     "iopub.status.busy": "2020-09-27T01:37:47.427938Z",
     "iopub.status.idle": "2020-09-27T01:37:47.997958Z",
     "shell.execute_reply": "2020-09-27T01:37:47.996958Z",
     "shell.execute_reply.started": "2020-09-27T01:37:47.427938Z"
    }
   },
   "outputs": [
    {
     "data": {
      "image/png": "[encoded data removed]",
      "text/plain": [
       "<Figure size 720x360 with 1 Axes>"
      ]
     },
     "metadata": {
      "needs_background": "light"
     },
     "output_type": "display_data"
    }
   ],
   "source": [
    "plt.figure(figsize=(10, 5))\n",
    "sns.kdeplot(df[df['median_relevance'] == 1]\n",
    "            ['desc_fuzzy'], label=1, cumulative=True)\n",
    "sns.kdeplot(df[df['median_relevance'] == 2]\n",
    "            ['desc_fuzzy'], label=2, cumulative=True)\n",
    "sns.kdeplot(df[df['median_relevance'] == 3]\n",
    "            ['desc_fuzzy'], label=3, cumulative=True)\n",
    "sns.kdeplot(df[df['median_relevance'] == 4]\n",
    "            ['desc_fuzzy'], label=4, cumulative=True)\n",
    "plt.legend(loc='best')\n",
    "plt.title('rating distribution by fuzzy match scores on product description')\n",
    "plt.show()"
   ]
  },
  {
   "cell_type": "code",
   "execution_count": 15,
   "metadata": {
    "execution": {
     "iopub.execute_input": "2020-09-27T01:37:47.998955Z",
     "iopub.status.busy": "2020-09-27T01:37:47.997958Z",
     "iopub.status.idle": "2020-09-27T01:37:48.532880Z",
     "shell.execute_reply": "2020-09-27T01:37:48.532880Z",
     "shell.execute_reply.started": "2020-09-27T01:37:47.998955Z"
    }
   },
   "outputs": [
    {
     "data": {
      "image/png": "[encoded data removed]",
      "text/plain": [
       "<Figure size 720x360 with 1 Axes>"
      ]
     },
     "metadata": {
      "needs_background": "light"
     },
     "output_type": "display_data"
    }
   ],
   "source": [
    "plt.figure(figsize=(10, 5))\n",
    "sns.kdeplot(df[df['median_relevance'] == 1]\n",
    "            ['prod_desc'], label=1, cumulative=True)\n",
    "sns.kdeplot(df[df['median_relevance'] == 2]\n",
    "            ['prod_desc'], label=2, cumulative=True)\n",
    "sns.kdeplot(df[df['median_relevance'] == 3]\n",
    "            ['prod_desc'], label=3, cumulative=True)\n",
    "sns.kdeplot(df[df['median_relevance'] == 4]\n",
    "            ['prod_desc'], label=4, cumulative=True)\n",
    "plt.legend(loc='best')\n",
    "plt.title('rating distribution by fuzzy match scores')\n",
    "plt.show()"
   ]
  },
  {
   "cell_type": "code",
   "execution_count": 16,
   "metadata": {
    "execution": {
     "iopub.execute_input": "2020-09-27T01:37:48.533877Z",
     "iopub.status.busy": "2020-09-27T01:37:48.533877Z",
     "iopub.status.idle": "2020-09-27T01:37:48.642647Z",
     "shell.execute_reply": "2020-09-27T01:37:48.642647Z",
     "shell.execute_reply.started": "2020-09-27T01:37:48.533877Z"
    }
   },
   "outputs": [
    {
     "data": {
      "image/png": "[encoded data removed]",
      "text/plain": [
       "<Figure size 432x288 with 1 Axes>"
      ]
     },
     "metadata": {
      "needs_background": "light"
     },
     "output_type": "display_data"
    }
   ],
   "source": [
    "sns.boxplot(x='median_relevance', y='prod_fuzzy', data=df)\n",
    "plt.title('product fuzzy match score distribution')\n",
    "plt.show()"
   ]
  },
  {
   "cell_type": "code",
   "execution_count": 17,
   "metadata": {
    "execution": {
     "iopub.execute_input": "2020-09-27T01:37:48.643611Z",
     "iopub.status.busy": "2020-09-27T01:37:48.643611Z",
     "iopub.status.idle": "2020-09-27T01:37:48.784235Z",
     "shell.execute_reply": "2020-09-27T01:37:48.784235Z",
     "shell.execute_reply.started": "2020-09-27T01:37:48.643611Z"
    }
   },
   "outputs": [
    {
     "data": {
      "image/png": "[encoded data removed]",
      "text/plain": [
       "<Figure size 432x288 with 1 Axes>"
      ]
     },
     "metadata": {
      "needs_background": "light"
     },
     "output_type": "display_data"
    }
   ],
   "source": [
    "sns.boxplot(x='median_relevance', y='desc_fuzzy', data=df)\n",
    "plt.title('description fuzzy match score distribution')\n",
    "plt.show()"
   ]
  },
  {
   "cell_type": "code",
   "execution_count": 18,
   "metadata": {
    "execution": {
     "iopub.execute_input": "2020-09-27T01:37:48.785232Z",
     "iopub.status.busy": "2020-09-27T01:37:48.785232Z",
     "iopub.status.idle": "2020-09-27T01:37:48.799195Z",
     "shell.execute_reply": "2020-09-27T01:37:48.799195Z",
     "shell.execute_reply.started": "2020-09-27T01:37:48.785232Z"
    }
   },
   "outputs": [],
   "source": [
    "df['query_len'] = df['query'].str.count(' ')+1"
   ]
  },
  {
   "cell_type": "code",
   "execution_count": 19,
   "metadata": {
    "execution": {
     "iopub.execute_input": "2020-09-27T01:37:48.800195Z",
     "iopub.status.busy": "2020-09-27T01:37:48.800195Z",
     "iopub.status.idle": "2020-09-27T01:37:48.940817Z",
     "shell.execute_reply": "2020-09-27T01:37:48.940004Z",
     "shell.execute_reply.started": "2020-09-27T01:37:48.800195Z"
    }
   },
   "outputs": [
    {
     "data": {
      "image/png": "[encoded data removed]",
      "text/plain": [
       "<Figure size 720x360 with 1 Axes>"
      ]
     },
     "metadata": {
      "needs_background": "light"
     },
     "output_type": "display_data"
    }
   ],
   "source": [
    "plt.figure(figsize=(10, 5))\n",
    "sns.boxplot(x='query_len', y='median_relevance', data=df)\n",
    "plt.title('fuzzy score distribution based on the length')\n",
    "plt.show()"
   ]
  },
  {
   "cell_type": "markdown",
   "metadata": {},
   "source": [
    "### Text Features"
   ]
  },
  {
   "cell_type": "code",
   "execution_count": 20,
   "metadata": {
    "execution": {
     "iopub.execute_input": "2020-09-27T01:37:48.941813Z",
     "iopub.status.busy": "2020-09-27T01:37:48.941813Z",
     "iopub.status.idle": "2020-09-27T01:37:49.081974Z",
     "shell.execute_reply": "2020-09-27T01:37:49.081974Z",
     "shell.execute_reply.started": "2020-09-27T01:37:48.941813Z"
    }
   },
   "outputs": [],
   "source": [
    "query_all = df['query'].str.cat()\n",
    "tokens_nonum = re.sub(r'\\d+', '', query_all)\n",
    "tokens = word_tokenize(tokens_nonum)\n",
    "tokens_nostop = [word for word in tokens if not word in stop]\n",
    "bow_simple = Counter(tokens_nostop)"
   ]
  },
  {
   "cell_type": "code",
   "execution_count": 21,
   "metadata": {
    "execution": {
     "iopub.execute_input": "2020-09-27T01:37:49.082974Z",
     "iopub.status.busy": "2020-09-27T01:37:49.082974Z",
     "iopub.status.idle": "2020-09-27T01:37:49.097933Z",
     "shell.execute_reply": "2020-09-27T01:37:49.097933Z",
     "shell.execute_reply.started": "2020-09-27T01:37:49.082974Z"
    }
   },
   "outputs": [],
   "source": [
    "tup = bow_simple.most_common(30)\n",
    "tup_list = [tup[i][0] for i in range(len(tup))]"
   ]
  },
  {
   "cell_type": "code",
   "execution_count": 26,
   "metadata": {
    "execution": {
     "iopub.execute_input": "2020-09-27T01:45:40.107004Z",
     "iopub.status.busy": "2020-09-27T01:45:40.106004Z",
     "iopub.status.idle": "2020-09-27T01:45:40.128892Z",
     "shell.execute_reply": "2020-09-27T01:45:40.125940Z",
     "shell.execute_reply.started": "2020-09-27T01:45:40.107004Z"
    }
   },
   "outputs": [],
   "source": [
    "with open('data/tup_list.pkl', 'wb') as f:\n",
    "    pickle.dump(tup_list, f)"
   ]
  },
  {
   "cell_type": "code",
   "execution_count": 22,
   "metadata": {
    "execution": {
     "iopub.execute_input": "2020-09-27T01:37:49.098930Z",
     "iopub.status.busy": "2020-09-27T01:37:49.098930Z",
     "iopub.status.idle": "2020-09-27T01:37:49.252521Z",
     "shell.execute_reply": "2020-09-27T01:37:49.251726Z",
     "shell.execute_reply.started": "2020-09-27T01:37:49.098930Z"
    }
   },
   "outputs": [],
   "source": [
    "for term in tup_list:\n",
    "    df[term] = df['query'].str.contains(term)"
   ]
  },
  {
   "cell_type": "code",
   "execution_count": 23,
   "metadata": {
    "execution": {
     "iopub.execute_input": "2020-09-27T01:37:49.252521Z",
     "iopub.status.busy": "2020-09-27T01:37:49.252521Z",
     "iopub.status.idle": "2020-09-27T01:37:49.267479Z",
     "shell.execute_reply": "2020-09-27T01:37:49.267479Z",
     "shell.execute_reply.started": "2020-09-27T01:37:49.252521Z"
    }
   },
   "outputs": [],
   "source": [
    "df.set_index('id', inplace=True)"
   ]
  },
  {
   "cell_type": "code",
   "execution_count": 24,
   "metadata": {
    "execution": {
     "iopub.execute_input": "2020-09-27T01:37:49.269482Z",
     "iopub.status.busy": "2020-09-27T01:37:49.268477Z",
     "iopub.status.idle": "2020-09-27T01:37:49.550194Z",
     "shell.execute_reply": "2020-09-27T01:37:49.549384Z",
     "shell.execute_reply.started": "2020-09-27T01:37:49.269482Z"
    }
   },
   "outputs": [],
   "source": [
    "df.to_csv('./data/df_clean.csv')"
   ]
  },
  {
   "cell_type": "code",
   "execution_count": null,
   "metadata": {},
   "outputs": [],
   "source": []
  }
 ],
 "metadata": {
  "kernelspec": {
   "display_name": "Python 3",
   "language": "python",
   "name": "python3"
  },
  "language_info": {
   "codemirror_mode": {
    "name": "ipython",
    "version": 3
   },
   "file_extension": ".py",
   "mimetype": "text/x-python",
   "name": "python",
   "nbconvert_exporter": "python",
   "pygments_lexer": "ipython3",
   "version": "3.7.1"
  }
 },
 "nbformat": 4,
 "nbformat_minor": 4
}
