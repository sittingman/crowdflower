{
 "cells": [
  {
   "cell_type": "markdown",
   "metadata": {},
   "source": [
    "# Data Preparation\n",
    "\n",
    "This workbook is mainly to prepare test data in the same form of the processed train data for final predictions for Kaggle submission.\n",
    "\n",
    "A lot of the steps are just a repetition of what used in the data_expo section."
   ]
  },
  {
   "cell_type": "code",
   "execution_count": 1,
   "metadata": {
    "ExecuteTime": {
     "end_time": "2020-10-04T23:26:40.774253Z",
     "start_time": "2020-10-04T23:26:34.731416Z"
    },
    "execution": {
     "iopub.execute_input": "2020-10-09T02:56:49.124507Z",
     "iopub.status.busy": "2020-10-09T02:56:49.124507Z",
     "iopub.status.idle": "2020-10-09T02:56:51.519523Z",
     "shell.execute_reply": "2020-10-09T02:56:51.518660Z",
     "shell.execute_reply.started": "2020-10-09T02:56:49.124507Z"
    }
   },
   "outputs": [],
   "source": [
    "import pickle\n",
    "import re\n",
    "import string\n",
    "import warnings\n",
    "from collections import Counter, OrderedDict\n",
    "\n",
    "import en_core_web_md\n",
    "import matplotlib.pyplot as plt\n",
    "import nltk\n",
    "import numpy as np\n",
    "import pandas as pd\n",
    "import seaborn as sns\n",
    "import spacy\n",
    "import swifter\n",
    "from fuzzywuzzy import fuzz, process\n",
    "from nltk.corpus import stopwords\n",
    "from nltk.stem import PorterStemmer, WordNetLemmatizer\n",
    "from nltk.tokenize import sent_tokenize, word_tokenize\n",
    "from sklearn.feature_extraction.text import TfidfVectorizer\n",
    "from sklearn.metrics.pairwise import cosine_similarity\n",
    "from spacy.lang.en import English\n",
    "\n",
    "stop = stopwords.words('english')\n",
    "warnings.simplefilter(action='ignore', category=FutureWarning)\n",
    "pd.set_option('mode.chained_assignment', None)"
   ]
  },
  {
   "cell_type": "code",
   "execution_count": 2,
   "metadata": {
    "ExecuteTime": {
     "end_time": "2020-10-04T23:26:41.041540Z",
     "start_time": "2020-10-04T23:26:40.776248Z"
    },
    "execution": {
     "iopub.execute_input": "2020-10-09T02:56:51.520522Z",
     "iopub.status.busy": "2020-10-09T02:56:51.519523Z",
     "iopub.status.idle": "2020-10-09T02:56:51.642519Z",
     "shell.execute_reply": "2020-10-09T02:56:51.641723Z",
     "shell.execute_reply.started": "2020-10-09T02:56:51.520522Z"
    }
   },
   "outputs": [],
   "source": [
    "df = pd.read_csv('./data/test.csv')"
   ]
  },
  {
   "cell_type": "code",
   "execution_count": 3,
   "metadata": {
    "ExecuteTime": {
     "end_time": "2020-10-04T23:26:45.770923Z",
     "start_time": "2020-10-04T23:26:41.043533Z"
    },
    "execution": {
     "iopub.execute_input": "2020-10-09T02:56:51.643516Z",
     "iopub.status.busy": "2020-10-09T02:56:51.643516Z",
     "iopub.status.idle": "2020-10-09T02:56:55.006500Z",
     "shell.execute_reply": "2020-10-09T02:56:55.005803Z",
     "shell.execute_reply.started": "2020-10-09T02:56:51.643516Z"
    }
   },
   "outputs": [],
   "source": [
    "df['prod_clean'] = df['product_title'].str.lower().apply(\n",
    "    lambda x: ' '.join([word for word in x.split() if word not in (stop)]))\n",
    "df['prod_clean'] = df['prod_clean'].apply(\n",
    "    lambda x: x.strip(string.punctuation))\n",
    "df['prod_clean'] = df['prod_clean'].str.replace('\\d+', '')\n",
    "\n",
    "df['desc_clean'] = df['product_description'].str.lower().fillna('none').apply(\n",
    "    lambda x: ' '.join([word for word in x.split() if word not in (stop)]))\n",
    "df['desc_clean'] = df['desc_clean'].apply(\n",
    "    lambda x: x.strip(string.punctuation))\n",
    "df['desc_clean'] = df['desc_clean'].str.replace('\\d+', '')"
   ]
  },
  {
   "cell_type": "code",
   "execution_count": 4,
   "metadata": {
    "ExecuteTime": {
     "end_time": "2020-10-04T23:26:47.862230Z",
     "start_time": "2020-10-04T23:26:45.771895Z"
    },
    "execution": {
     "iopub.execute_input": "2020-10-09T02:56:55.007500Z",
     "iopub.status.busy": "2020-10-09T02:56:55.007500Z",
     "iopub.status.idle": "2020-10-09T02:56:56.807324Z",
     "shell.execute_reply": "2020-10-09T02:56:56.806493Z",
     "shell.execute_reply.started": "2020-10-09T02:56:55.007500Z"
    }
   },
   "outputs": [],
   "source": [
    "lemmat = WordNetLemmatizer()\n",
    "df['prod_lemat'] = df.apply(lambda row: lemmat.lemmatize(row['prod_clean']),\n",
    "                            axis=1)\n",
    "df['desc_lemat'] = df.apply(lambda row: lemmat.lemmatize(row['desc_clean']),\n",
    "                            axis=1)"
   ]
  },
  {
   "cell_type": "code",
   "execution_count": 5,
   "metadata": {
    "ExecuteTime": {
     "end_time": "2020-10-04T23:27:04.246327Z",
     "start_time": "2020-10-04T23:26:47.863219Z"
    },
    "execution": {
     "iopub.execute_input": "2020-10-09T02:56:56.807324Z",
     "iopub.status.busy": "2020-10-09T02:56:56.807324Z",
     "iopub.status.idle": "2020-10-09T02:57:09.982993Z",
     "shell.execute_reply": "2020-10-09T02:57:09.981992Z",
     "shell.execute_reply.started": "2020-10-09T02:56:56.807324Z"
    }
   },
   "outputs": [],
   "source": [
    "df['prod_token'] = df.apply(lambda row: word_tokenize(row['prod_lemat']),\n",
    "                            axis=1)\n",
    "df['desc_token'] = df.apply(lambda row: word_tokenize(row['desc_lemat']),\n",
    "                            axis=1)"
   ]
  },
  {
   "cell_type": "code",
   "execution_count": 6,
   "metadata": {
    "ExecuteTime": {
     "end_time": "2020-10-04T23:27:04.437788Z",
     "start_time": "2020-10-04T23:27:04.247324Z"
    },
    "execution": {
     "iopub.execute_input": "2020-10-09T02:57:09.982993Z",
     "iopub.status.busy": "2020-10-09T02:57:09.982993Z",
     "iopub.status.idle": "2020-10-09T02:57:10.045823Z",
     "shell.execute_reply": "2020-10-09T02:57:10.045823Z",
     "shell.execute_reply.started": "2020-10-09T02:57:09.982993Z"
    }
   },
   "outputs": [],
   "source": [
    "df['join_text'] = df['prod_token'] + df['desc_token']"
   ]
  },
  {
   "cell_type": "code",
   "execution_count": 7,
   "metadata": {
    "ExecuteTime": {
     "end_time": "2020-10-04T23:27:04.469704Z",
     "start_time": "2020-10-04T23:27:04.440780Z"
    },
    "execution": {
     "iopub.execute_input": "2020-10-09T02:57:10.046821Z",
     "iopub.status.busy": "2020-10-09T02:57:10.046821Z",
     "iopub.status.idle": "2020-10-09T02:57:10.075743Z",
     "shell.execute_reply": "2020-10-09T02:57:10.075743Z",
     "shell.execute_reply.started": "2020-10-09T02:57:10.046821Z"
    }
   },
   "outputs": [
    {
     "data": {
      "text/html": [
       "<div>\n",
       "<style scoped>\n",
       "    .dataframe tbody tr th:only-of-type {\n",
       "        vertical-align: middle;\n",
       "    }\n",
       "\n",
       "    .dataframe tbody tr th {\n",
       "        vertical-align: top;\n",
       "    }\n",
       "\n",
       "    .dataframe thead th {\n",
       "        text-align: right;\n",
       "    }\n",
       "</style>\n",
       "<table border=\"1\" class=\"dataframe\">\n",
       "  <thead>\n",
       "    <tr style=\"text-align: right;\">\n",
       "      <th></th>\n",
       "      <th>id</th>\n",
       "      <th>query</th>\n",
       "      <th>product_title</th>\n",
       "      <th>product_description</th>\n",
       "      <th>prod_clean</th>\n",
       "      <th>desc_clean</th>\n",
       "      <th>prod_lemat</th>\n",
       "      <th>desc_lemat</th>\n",
       "      <th>prod_token</th>\n",
       "      <th>desc_token</th>\n",
       "      <th>join_text</th>\n",
       "    </tr>\n",
       "  </thead>\n",
       "  <tbody>\n",
       "    <tr>\n",
       "      <th>0</th>\n",
       "      <td>3</td>\n",
       "      <td>electric griddle</td>\n",
       "      <td>Star-Max 48 in Electric Griddle</td>\n",
       "      <td>NaN</td>\n",
       "      <td>star-max  electric griddle</td>\n",
       "      <td>none</td>\n",
       "      <td>star-max  electric griddle</td>\n",
       "      <td>none</td>\n",
       "      <td>[star-max, electric, griddle]</td>\n",
       "      <td>[none]</td>\n",
       "      <td>[star-max, electric, griddle, none]</td>\n",
       "    </tr>\n",
       "    <tr>\n",
       "      <th>1</th>\n",
       "      <td>6</td>\n",
       "      <td>phillips coffee maker</td>\n",
       "      <td>Philips SENSEO HD7810 WHITE Single Serve Pod C...</td>\n",
       "      <td>NaN</td>\n",
       "      <td>philips senseo hd white single serve pod coffe...</td>\n",
       "      <td>none</td>\n",
       "      <td>philips senseo hd white single serve pod coffe...</td>\n",
       "      <td>none</td>\n",
       "      <td>[philips, senseo, hd, white, single, serve, po...</td>\n",
       "      <td>[none]</td>\n",
       "      <td>[philips, senseo, hd, white, single, serve, po...</td>\n",
       "    </tr>\n",
       "    <tr>\n",
       "      <th>2</th>\n",
       "      <td>9</td>\n",
       "      <td>san francisco 49ers</td>\n",
       "      <td>2013 San Francisco 49ers Clock</td>\n",
       "      <td>A 2013 San Francisco 49ers clock is the ultima...</td>\n",
       "      <td>san francisco ers clock</td>\n",
       "      <td>san francisco ers clock ultimate way show tea...</td>\n",
       "      <td>san francisco ers clock</td>\n",
       "      <td>san francisco ers clock ultimate way show tea...</td>\n",
       "      <td>[san, francisco, ers, clock]</td>\n",
       "      <td>[san, francisco, ers, clock, ultimate, way, sh...</td>\n",
       "      <td>[san, francisco, ers, clock, san, francisco, e...</td>\n",
       "    </tr>\n",
       "    <tr>\n",
       "      <th>3</th>\n",
       "      <td>11</td>\n",
       "      <td>aveeno shampoo</td>\n",
       "      <td>AVEENO       10.5FLOZ NRSH SHINE SH</td>\n",
       "      <td>Water, Ammonium Lauryl Sulfate, Dimethicone, S...</td>\n",
       "      <td>aveeno .floz nrsh shine sh</td>\n",
       "      <td>water, ammonium lauryl sulfate, dimethicone, s...</td>\n",
       "      <td>aveeno .floz nrsh shine sh</td>\n",
       "      <td>water, ammonium lauryl sulfate, dimethicone, s...</td>\n",
       "      <td>[aveeno, .floz, nrsh, shine, sh]</td>\n",
       "      <td>[water, ,, ammonium, lauryl, sulfate, ,, dimet...</td>\n",
       "      <td>[aveeno, .floz, nrsh, shine, sh, water, ,, amm...</td>\n",
       "    </tr>\n",
       "    <tr>\n",
       "      <th>4</th>\n",
       "      <td>12</td>\n",
       "      <td>flea and tick control for dogs</td>\n",
       "      <td>Merial Frontline Plus Flea and Tick Control fo...</td>\n",
       "      <td>NaN</td>\n",
       "      <td>merial frontline plus flea tick control dogs p...</td>\n",
       "      <td>none</td>\n",
       "      <td>merial frontline plus flea tick control dogs p...</td>\n",
       "      <td>none</td>\n",
       "      <td>[merial, frontline, plus, flea, tick, control,...</td>\n",
       "      <td>[none]</td>\n",
       "      <td>[merial, frontline, plus, flea, tick, control,...</td>\n",
       "    </tr>\n",
       "  </tbody>\n",
       "</table>\n",
       "</div>"
      ],
      "text/plain": [
       "   id                           query  \\\n",
       "0   3                electric griddle   \n",
       "1   6           phillips coffee maker   \n",
       "2   9             san francisco 49ers   \n",
       "3  11                  aveeno shampoo   \n",
       "4  12  flea and tick control for dogs   \n",
       "\n",
       "                                       product_title  \\\n",
       "0                    Star-Max 48 in Electric Griddle   \n",
       "1  Philips SENSEO HD7810 WHITE Single Serve Pod C...   \n",
       "2                     2013 San Francisco 49ers Clock   \n",
       "3                AVEENO       10.5FLOZ NRSH SHINE SH   \n",
       "4  Merial Frontline Plus Flea and Tick Control fo...   \n",
       "\n",
       "                                 product_description  \\\n",
       "0                                                NaN   \n",
       "1                                                NaN   \n",
       "2  A 2013 San Francisco 49ers clock is the ultima...   \n",
       "3  Water, Ammonium Lauryl Sulfate, Dimethicone, S...   \n",
       "4                                                NaN   \n",
       "\n",
       "                                          prod_clean  \\\n",
       "0                         star-max  electric griddle   \n",
       "1  philips senseo hd white single serve pod coffe...   \n",
       "2                            san francisco ers clock   \n",
       "3                         aveeno .floz nrsh shine sh   \n",
       "4  merial frontline plus flea tick control dogs p...   \n",
       "\n",
       "                                          desc_clean  \\\n",
       "0                                               none   \n",
       "1                                               none   \n",
       "2   san francisco ers clock ultimate way show tea...   \n",
       "3  water, ammonium lauryl sulfate, dimethicone, s...   \n",
       "4                                               none   \n",
       "\n",
       "                                          prod_lemat  \\\n",
       "0                         star-max  electric griddle   \n",
       "1  philips senseo hd white single serve pod coffe...   \n",
       "2                            san francisco ers clock   \n",
       "3                         aveeno .floz nrsh shine sh   \n",
       "4  merial frontline plus flea tick control dogs p...   \n",
       "\n",
       "                                          desc_lemat  \\\n",
       "0                                               none   \n",
       "1                                               none   \n",
       "2   san francisco ers clock ultimate way show tea...   \n",
       "3  water, ammonium lauryl sulfate, dimethicone, s...   \n",
       "4                                               none   \n",
       "\n",
       "                                          prod_token  \\\n",
       "0                      [star-max, electric, griddle]   \n",
       "1  [philips, senseo, hd, white, single, serve, po...   \n",
       "2                       [san, francisco, ers, clock]   \n",
       "3                   [aveeno, .floz, nrsh, shine, sh]   \n",
       "4  [merial, frontline, plus, flea, tick, control,...   \n",
       "\n",
       "                                          desc_token  \\\n",
       "0                                             [none]   \n",
       "1                                             [none]   \n",
       "2  [san, francisco, ers, clock, ultimate, way, sh...   \n",
       "3  [water, ,, ammonium, lauryl, sulfate, ,, dimet...   \n",
       "4                                             [none]   \n",
       "\n",
       "                                           join_text  \n",
       "0                [star-max, electric, griddle, none]  \n",
       "1  [philips, senseo, hd, white, single, serve, po...  \n",
       "2  [san, francisco, ers, clock, san, francisco, e...  \n",
       "3  [aveeno, .floz, nrsh, shine, sh, water, ,, amm...  \n",
       "4  [merial, frontline, plus, flea, tick, control,...  "
      ]
     },
     "execution_count": 7,
     "metadata": {},
     "output_type": "execute_result"
    }
   ],
   "source": [
    "df.head()"
   ]
  },
  {
   "cell_type": "code",
   "execution_count": 8,
   "metadata": {
    "ExecuteTime": {
     "end_time": "2020-10-04T23:27:04.749490Z",
     "start_time": "2020-10-04T23:27:04.471697Z"
    },
    "execution": {
     "iopub.execute_input": "2020-10-09T02:57:10.076740Z",
     "iopub.status.busy": "2020-10-09T02:57:10.076740Z",
     "iopub.status.idle": "2020-10-09T02:57:10.294478Z",
     "shell.execute_reply": "2020-10-09T02:57:10.293473Z",
     "shell.execute_reply.started": "2020-10-09T02:57:10.076740Z"
    }
   },
   "outputs": [],
   "source": [
    "df['text'] = df['join_text'].apply(lambda x: ' '.join(map(str, x)))"
   ]
  },
  {
   "cell_type": "code",
   "execution_count": 9,
   "metadata": {
    "ExecuteTime": {
     "end_time": "2020-10-04T23:27:05.333376Z",
     "start_time": "2020-10-04T23:27:04.750488Z"
    },
    "execution": {
     "iopub.execute_input": "2020-10-09T02:57:10.297502Z",
     "iopub.status.busy": "2020-10-09T02:57:10.297502Z",
     "iopub.status.idle": "2020-10-09T02:57:10.956801Z",
     "shell.execute_reply": "2020-10-09T02:57:10.955823Z",
     "shell.execute_reply.started": "2020-10-09T02:57:10.297502Z"
    }
   },
   "outputs": [],
   "source": [
    "df['text_fin'] = (df['text'].str.split().apply(\n",
    "    lambda x: OrderedDict.fromkeys(x).keys()).str.join(' '))"
   ]
  },
  {
   "cell_type": "code",
   "execution_count": 10,
   "metadata": {
    "ExecuteTime": {
     "end_time": "2020-10-04T23:27:05.365290Z",
     "start_time": "2020-10-04T23:27:05.334365Z"
    },
    "execution": {
     "iopub.execute_input": "2020-10-09T02:57:10.957800Z",
     "iopub.status.busy": "2020-10-09T02:57:10.956801Z",
     "iopub.status.idle": "2020-10-09T02:57:10.971763Z",
     "shell.execute_reply": "2020-10-09T02:57:10.971763Z",
     "shell.execute_reply.started": "2020-10-09T02:57:10.957800Z"
    }
   },
   "outputs": [],
   "source": [
    "df_select = df[['id', 'query', 'text_fin']]"
   ]
  },
  {
   "cell_type": "code",
   "execution_count": 11,
   "metadata": {
    "ExecuteTime": {
     "end_time": "2020-10-04T23:27:05.381212Z",
     "start_time": "2020-10-04T23:27:05.366279Z"
    },
    "execution": {
     "iopub.execute_input": "2020-10-09T02:57:10.973759Z",
     "iopub.status.busy": "2020-10-09T02:57:10.972761Z",
     "iopub.status.idle": "2020-10-09T02:57:10.987748Z",
     "shell.execute_reply": "2020-10-09T02:57:10.987748Z",
     "shell.execute_reply.started": "2020-10-09T02:57:10.973759Z"
    }
   },
   "outputs": [
    {
     "data": {
      "text/html": [
       "<div>\n",
       "<style scoped>\n",
       "    .dataframe tbody tr th:only-of-type {\n",
       "        vertical-align: middle;\n",
       "    }\n",
       "\n",
       "    .dataframe tbody tr th {\n",
       "        vertical-align: top;\n",
       "    }\n",
       "\n",
       "    .dataframe thead th {\n",
       "        text-align: right;\n",
       "    }\n",
       "</style>\n",
       "<table border=\"1\" class=\"dataframe\">\n",
       "  <thead>\n",
       "    <tr style=\"text-align: right;\">\n",
       "      <th></th>\n",
       "      <th>id</th>\n",
       "      <th>query</th>\n",
       "      <th>text_fin</th>\n",
       "    </tr>\n",
       "  </thead>\n",
       "  <tbody>\n",
       "    <tr>\n",
       "      <th>0</th>\n",
       "      <td>3</td>\n",
       "      <td>electric griddle</td>\n",
       "      <td>star-max electric griddle none</td>\n",
       "    </tr>\n",
       "    <tr>\n",
       "      <th>1</th>\n",
       "      <td>6</td>\n",
       "      <td>phillips coffee maker</td>\n",
       "      <td>philips senseo hd white single serve pod coffe...</td>\n",
       "    </tr>\n",
       "    <tr>\n",
       "      <th>2</th>\n",
       "      <td>9</td>\n",
       "      <td>san francisco 49ers</td>\n",
       "      <td>san francisco ers clock ultimate way show team...</td>\n",
       "    </tr>\n",
       "    <tr>\n",
       "      <th>3</th>\n",
       "      <td>11</td>\n",
       "      <td>aveeno shampoo</td>\n",
       "      <td>aveeno .floz nrsh shine sh water , ammonium la...</td>\n",
       "    </tr>\n",
       "    <tr>\n",
       "      <th>4</th>\n",
       "      <td>12</td>\n",
       "      <td>flea and tick control for dogs</td>\n",
       "      <td>merial frontline plus flea tick control dogs p...</td>\n",
       "    </tr>\n",
       "  </tbody>\n",
       "</table>\n",
       "</div>"
      ],
      "text/plain": [
       "   id                           query  \\\n",
       "0   3                electric griddle   \n",
       "1   6           phillips coffee maker   \n",
       "2   9             san francisco 49ers   \n",
       "3  11                  aveeno shampoo   \n",
       "4  12  flea and tick control for dogs   \n",
       "\n",
       "                                            text_fin  \n",
       "0                     star-max electric griddle none  \n",
       "1  philips senseo hd white single serve pod coffe...  \n",
       "2  san francisco ers clock ultimate way show team...  \n",
       "3  aveeno .floz nrsh shine sh water , ammonium la...  \n",
       "4  merial frontline plus flea tick control dogs p...  "
      ]
     },
     "execution_count": 11,
     "metadata": {},
     "output_type": "execute_result"
    }
   ],
   "source": [
    "df_select.head()"
   ]
  },
  {
   "cell_type": "code",
   "execution_count": 12,
   "metadata": {
    "ExecuteTime": {
     "end_time": "2020-10-04T23:27:11.954344Z",
     "start_time": "2020-10-04T23:27:05.383206Z"
    },
    "execution": {
     "iopub.execute_input": "2020-10-09T02:57:10.988717Z",
     "iopub.status.busy": "2020-10-09T02:57:10.988717Z",
     "iopub.status.idle": "2020-10-09T02:57:14.260076Z",
     "shell.execute_reply": "2020-10-09T02:57:14.260076Z",
     "shell.execute_reply.started": "2020-10-09T02:57:10.988717Z"
    }
   },
   "outputs": [],
   "source": [
    "nlp = en_core_web_md.load()"
   ]
  },
  {
   "cell_type": "code",
   "execution_count": 13,
   "metadata": {
    "ExecuteTime": {
     "end_time": "2020-10-04T23:29:58.428840Z",
     "start_time": "2020-10-04T23:27:11.955340Z"
    },
    "execution": {
     "iopub.execute_input": "2020-10-09T02:57:14.261047Z",
     "iopub.status.busy": "2020-10-09T02:57:14.261047Z",
     "iopub.status.idle": "2020-10-09T02:59:16.887782Z",
     "shell.execute_reply": "2020-10-09T02:59:16.887782Z",
     "shell.execute_reply.started": "2020-10-09T02:57:14.261047Z"
    }
   },
   "outputs": [
    {
     "data": {
      "application/vnd.jupyter.widget-view+json": {
       "model_id": "eb8f2e68e568439792ee80e7949bb923",
       "version_major": 2,
       "version_minor": 0
      },
      "text/plain": [
       "HBox(children=(FloatProgress(value=0.0, description='Pandas Apply', max=22513.0, style=ProgressStyle(descripti…"
      ]
     },
     "metadata": {},
     "output_type": "display_data"
    },
    {
     "name": "stdout",
     "output_type": "stream",
     "text": [
      "\n"
     ]
    }
   ],
   "source": [
    "df_select['q_nlp'] = df_select['query'].swifter.apply(nlp)"
   ]
  },
  {
   "cell_type": "code",
   "execution_count": 14,
   "metadata": {
    "ExecuteTime": {
     "end_time": "2020-10-04T23:35:40.493445Z",
     "start_time": "2020-10-04T23:29:58.429822Z"
    },
    "execution": {
     "iopub.execute_input": "2020-10-09T02:59:16.888780Z",
     "iopub.status.busy": "2020-10-09T02:59:16.888780Z",
     "iopub.status.idle": "2020-10-09T03:03:40.438130Z",
     "shell.execute_reply": "2020-10-09T03:03:40.438130Z",
     "shell.execute_reply.started": "2020-10-09T02:59:16.888780Z"
    }
   },
   "outputs": [
    {
     "data": {
      "application/vnd.jupyter.widget-view+json": {
       "model_id": "d618a4eaabaf4b2e88c2da45420eba4a",
       "version_major": 2,
       "version_minor": 0
      },
      "text/plain": [
       "HBox(children=(FloatProgress(value=0.0, description='Pandas Apply', max=22513.0, style=ProgressStyle(descripti…"
      ]
     },
     "metadata": {},
     "output_type": "display_data"
    },
    {
     "name": "stdout",
     "output_type": "stream",
     "text": [
      "\n"
     ]
    }
   ],
   "source": [
    "df_select['t_nlp'] = df_select['text_fin'].swifter.apply(nlp)"
   ]
  },
  {
   "cell_type": "code",
   "execution_count": 15,
   "metadata": {
    "ExecuteTime": {
     "end_time": "2020-10-04T23:35:54.112588Z",
     "start_time": "2020-10-04T23:35:40.494407Z"
    },
    "execution": {
     "iopub.execute_input": "2020-10-09T03:03:40.439092Z",
     "iopub.status.busy": "2020-10-09T03:03:40.439092Z",
     "iopub.status.idle": "2020-10-09T03:03:47.499534Z",
     "shell.execute_reply": "2020-10-09T03:03:47.498527Z",
     "shell.execute_reply.started": "2020-10-09T03:03:40.439092Z"
    }
   },
   "outputs": [
    {
     "name": "stderr",
     "output_type": "stream",
     "text": [
      "<ipython-input-15-f5b4146938fb>:2: UserWarning: [W008] Evaluating Doc.similarity based on empty vectors.\n",
      "  df_select['q_nlp'][i].similarity(df_select['t_nlp'][i])\n"
     ]
    }
   ],
   "source": [
    "df_select['sim'] = [\n",
    "    df_select['q_nlp'][i].similarity(df_select['t_nlp'][i])\n",
    "    for i in range(len(df_select))\n",
    "]"
   ]
  },
  {
   "cell_type": "code",
   "execution_count": 16,
   "metadata": {
    "ExecuteTime": {
     "end_time": "2020-10-04T23:35:55.188232Z",
     "start_time": "2020-10-04T23:35:54.113585Z"
    },
    "execution": {
     "iopub.execute_input": "2020-10-09T03:03:47.500523Z",
     "iopub.status.busy": "2020-10-09T03:03:47.500523Z",
     "iopub.status.idle": "2020-10-09T03:03:48.642016Z",
     "shell.execute_reply": "2020-10-09T03:03:48.642016Z",
     "shell.execute_reply.started": "2020-10-09T03:03:47.500523Z"
    }
   },
   "outputs": [],
   "source": [
    "df_select['fuzzy'] = [\n",
    "    fuzz.partial_ratio(df_select['query'][x], df_select['text_fin'][x])\n",
    "    for x in range(len(df_select))\n",
    "]"
   ]
  },
  {
   "cell_type": "code",
   "execution_count": 17,
   "metadata": {
    "ExecuteTime": {
     "end_time": "2020-10-04T23:35:55.219150Z",
     "start_time": "2020-10-04T23:35:55.189230Z"
    },
    "execution": {
     "iopub.execute_input": "2020-10-09T03:03:48.643044Z",
     "iopub.status.busy": "2020-10-09T03:03:48.643044Z",
     "iopub.status.idle": "2020-10-09T03:03:48.673942Z",
     "shell.execute_reply": "2020-10-09T03:03:48.672996Z",
     "shell.execute_reply.started": "2020-10-09T03:03:48.643044Z"
    }
   },
   "outputs": [],
   "source": [
    "df_select['query_len'] = df_select['query'].str.count(' ') + 1"
   ]
  },
  {
   "cell_type": "code",
   "execution_count": 18,
   "metadata": {
    "ExecuteTime": {
     "end_time": "2020-10-04T23:35:55.250066Z",
     "start_time": "2020-10-04T23:35:55.220147Z"
    },
    "execution": {
     "iopub.execute_input": "2020-10-09T03:03:48.675938Z",
     "iopub.status.busy": "2020-10-09T03:03:48.675938Z",
     "iopub.status.idle": "2020-10-09T03:03:48.703861Z",
     "shell.execute_reply": "2020-10-09T03:03:48.703166Z",
     "shell.execute_reply.started": "2020-10-09T03:03:48.675938Z"
    }
   },
   "outputs": [],
   "source": [
    "# loading the keywords list as generated in the expolaratory stage.\n",
    "\n",
    "tup_list = pickle.load(open('data/tup_list.pkl', \"rb\"))"
   ]
  },
  {
   "cell_type": "code",
   "execution_count": 19,
   "metadata": {
    "ExecuteTime": {
     "end_time": "2020-10-04T23:36:03.755781Z",
     "start_time": "2020-10-04T23:35:55.251064Z"
    },
    "execution": {
     "iopub.execute_input": "2020-10-09T03:03:48.704859Z",
     "iopub.status.busy": "2020-10-09T03:03:48.704859Z",
     "iopub.status.idle": "2020-10-09T03:03:56.535083Z",
     "shell.execute_reply": "2020-10-09T03:03:56.534292Z",
     "shell.execute_reply.started": "2020-10-09T03:03:48.704859Z"
    }
   },
   "outputs": [],
   "source": [
    "for term in tup_list:\n",
    "    df_select[term] = df_select['query'].str.contains(term)"
   ]
  },
  {
   "cell_type": "code",
   "execution_count": 20,
   "metadata": {
    "ExecuteTime": {
     "end_time": "2020-10-04T23:36:09.353828Z",
     "start_time": "2020-10-04T23:36:03.756769Z"
    },
    "execution": {
     "iopub.execute_input": "2020-10-09T03:03:56.535083Z",
     "iopub.status.busy": "2020-10-09T03:03:56.535083Z",
     "iopub.status.idle": "2020-10-09T03:04:01.006944Z",
     "shell.execute_reply": "2020-10-09T03:04:01.006140Z",
     "shell.execute_reply.started": "2020-10-09T03:03:56.535083Z"
    }
   },
   "outputs": [],
   "source": [
    "df_select.set_index('id').to_csv('./data/df_test.csv')"
   ]
  }
 ],
 "metadata": {
  "kernelspec": {
   "display_name": "Python 3",
   "language": "python",
   "name": "python3"
  },
  "language_info": {
   "codemirror_mode": {
    "name": "ipython",
    "version": 3
   },
   "file_extension": ".py",
   "mimetype": "text/x-python",
   "name": "python",
   "nbconvert_exporter": "python",
   "pygments_lexer": "ipython3",
   "version": "3.8.3"
  },
  "toc": {
   "base_numbering": 1,
   "nav_menu": {},
   "number_sections": true,
   "sideBar": true,
   "skip_h1_title": false,
   "title_cell": "Table of Contents",
   "title_sidebar": "Contents",
   "toc_cell": false,
   "toc_position": {},
   "toc_section_display": true,
   "toc_window_display": false
  },
  "varInspector": {
   "cols": {
    "lenName": 16,
    "lenType": 16,
    "lenVar": 40
   },
   "kernels_config": {
    "python": {
     "delete_cmd_postfix": "",
     "delete_cmd_prefix": "del ",
     "library": "var_list.py",
     "varRefreshCmd": "print(var_dic_list())"
    },
    "r": {
     "delete_cmd_postfix": ") ",
     "delete_cmd_prefix": "rm(",
     "library": "var_list.r",
     "varRefreshCmd": "cat(var_dic_list()) "
    }
   },
   "position": {
    "height": "377.986px",
    "left": "1275.98px",
    "right": "20px",
    "top": "286.993px",
    "width": "383.75px"
   },
   "types_to_exclude": [
    "module",
    "function",
    "builtin_function_or_method",
    "instance",
    "_Feature"
   ],
   "window_display": true
  }
 },
 "nbformat": 4,
 "nbformat_minor": 4
}
