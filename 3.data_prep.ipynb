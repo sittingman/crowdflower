{
 "cells": [
  {
   "cell_type": "code",
   "execution_count": 1,
   "metadata": {
    "ExecuteTime": {
     "end_time": "2020-10-04T23:26:40.774253Z",
     "start_time": "2020-10-04T23:26:34.731416Z"
    },
    "execution": {
     "iopub.execute_input": "2020-10-04T19:42:07.211008Z",
     "iopub.status.busy": "2020-10-04T19:42:07.211008Z",
     "iopub.status.idle": "2020-10-04T19:42:11.572517Z",
     "shell.execute_reply": "2020-10-04T19:42:11.571519Z",
     "shell.execute_reply.started": "2020-10-04T19:42:07.211008Z"
    }
   },
   "outputs": [],
   "source": [
    "import pickle\n",
    "import re\n",
    "import warnings\n",
    "import spacy\n",
    "from spacy.lang.en import English\n",
    "from collections import Counter, OrderedDict\n",
    "import string\n",
    "import swifter\n",
    "import matplotlib.pyplot as plt\n",
    "import nltk\n",
    "from nltk.stem import WordNetLemmatizer\n",
    "import numpy as np\n",
    "import pandas as pd\n",
    "import seaborn as sns\n",
    "from fuzzywuzzy import fuzz, process\n",
    "from nltk.corpus import stopwords\n",
    "from nltk.stem import PorterStemmer\n",
    "from nltk.tokenize import sent_tokenize, word_tokenize\n",
    "from sklearn.metrics.pairwise import cosine_similarity\n",
    "from sklearn.feature_extraction.text import TfidfVectorizer\n",
    "stop = stopwords.words('english')\n",
    "warnings.simplefilter(action='ignore', category=FutureWarning)"
   ]
  },
  {
   "cell_type": "code",
   "execution_count": 2,
   "metadata": {
    "ExecuteTime": {
     "end_time": "2020-10-04T23:26:41.041540Z",
     "start_time": "2020-10-04T23:26:40.776248Z"
    },
    "execution": {
     "iopub.execute_input": "2020-10-04T19:42:11.574515Z",
     "iopub.status.busy": "2020-10-04T19:42:11.574515Z",
     "iopub.status.idle": "2020-10-04T19:42:11.743059Z",
     "shell.execute_reply": "2020-10-04T19:42:11.743059Z",
     "shell.execute_reply.started": "2020-10-04T19:42:11.574515Z"
    }
   },
   "outputs": [],
   "source": [
    "df = pd.read_csv('./data/test.csv')"
   ]
  },
  {
   "cell_type": "code",
   "execution_count": 3,
   "metadata": {
    "ExecuteTime": {
     "end_time": "2020-10-04T23:26:45.770923Z",
     "start_time": "2020-10-04T23:26:41.043533Z"
    },
    "execution": {
     "iopub.execute_input": "2020-10-04T19:42:38.303524Z",
     "iopub.status.busy": "2020-10-04T19:42:38.303524Z",
     "iopub.status.idle": "2020-10-04T19:42:41.745638Z",
     "shell.execute_reply": "2020-10-04T19:42:41.744641Z",
     "shell.execute_reply.started": "2020-10-04T19:42:38.303524Z"
    }
   },
   "outputs": [],
   "source": [
    "df['prod_clean'] = df['product_title'].str.lower().apply(\n",
    "    lambda x: ' '.join([word for word in x.split() if word not in (stop)]))\n",
    "df['prod_clean'] = df['prod_clean'].apply(\n",
    "    lambda x: x.strip(string.punctuation))\n",
    "df['prod_clean'] = df['prod_clean'].str.replace('\\d+', '')\n",
    "\n",
    "df['desc_clean'] = df['product_description'].str.lower().fillna('none').apply(\n",
    "    lambda x: ' '.join([word for word in x.split() if word not in (stop)]))\n",
    "df['desc_clean'] = df['desc_clean'].apply(\n",
    "    lambda x: x.strip(string.punctuation))\n",
    "df['desc_clean'] = df['desc_clean'].str.replace('\\d+', '')"
   ]
  },
  {
   "cell_type": "code",
   "execution_count": 4,
   "metadata": {
    "ExecuteTime": {
     "end_time": "2020-10-04T23:26:47.862230Z",
     "start_time": "2020-10-04T23:26:45.771895Z"
    },
    "execution": {
     "iopub.execute_input": "2020-10-04T19:42:41.746638Z",
     "iopub.status.busy": "2020-10-04T19:42:41.746638Z",
     "iopub.status.idle": "2020-10-04T19:42:43.452216Z",
     "shell.execute_reply": "2020-10-04T19:42:43.452216Z",
     "shell.execute_reply.started": "2020-10-04T19:42:41.746638Z"
    }
   },
   "outputs": [],
   "source": [
    "lemmat = WordNetLemmatizer()\n",
    "df['prod_lemat'] = df.apply(lambda row: lemmat.lemmatize(row['prod_clean']),\n",
    "                            axis=1)\n",
    "df['desc_lemat'] = df.apply(lambda row: lemmat.lemmatize(row['desc_clean']),\n",
    "                            axis=1)"
   ]
  },
  {
   "cell_type": "code",
   "execution_count": 5,
   "metadata": {
    "ExecuteTime": {
     "end_time": "2020-10-04T23:27:04.246327Z",
     "start_time": "2020-10-04T23:26:47.863219Z"
    },
    "execution": {
     "iopub.execute_input": "2020-10-04T19:42:43.453233Z",
     "iopub.status.busy": "2020-10-04T19:42:43.453233Z",
     "iopub.status.idle": "2020-10-04T19:42:55.315473Z",
     "shell.execute_reply": "2020-10-04T19:42:55.315473Z",
     "shell.execute_reply.started": "2020-10-04T19:42:43.453233Z"
    }
   },
   "outputs": [],
   "source": [
    "df['prod_token'] = df.apply(lambda row: word_tokenize(row['prod_lemat']),\n",
    "                            axis=1)\n",
    "df['desc_token'] = df.apply(lambda row: word_tokenize(row['desc_lemat']),\n",
    "                            axis=1)"
   ]
  },
  {
   "cell_type": "code",
   "execution_count": 6,
   "metadata": {
    "ExecuteTime": {
     "end_time": "2020-10-04T23:27:04.437788Z",
     "start_time": "2020-10-04T23:27:04.247324Z"
    },
    "execution": {
     "iopub.execute_input": "2020-10-04T19:42:55.316471Z",
     "iopub.status.busy": "2020-10-04T19:42:55.316471Z",
     "iopub.status.idle": "2020-10-04T19:42:55.378307Z",
     "shell.execute_reply": "2020-10-04T19:42:55.378307Z",
     "shell.execute_reply.started": "2020-10-04T19:42:55.316471Z"
    }
   },
   "outputs": [],
   "source": [
    "df['join_text'] = df['prod_token'] + df['desc_token']"
   ]
  },
  {
   "cell_type": "code",
   "execution_count": 7,
   "metadata": {
    "ExecuteTime": {
     "end_time": "2020-10-04T23:27:04.469704Z",
     "start_time": "2020-10-04T23:27:04.440780Z"
    },
    "execution": {
     "iopub.execute_input": "2020-10-04T19:42:55.380301Z",
     "iopub.status.busy": "2020-10-04T19:42:55.379305Z",
     "iopub.status.idle": "2020-10-04T19:42:55.426185Z",
     "shell.execute_reply": "2020-10-04T19:42:55.426185Z",
     "shell.execute_reply.started": "2020-10-04T19:42:55.380301Z"
    }
   },
   "outputs": [
    {
     "data": {
      "text/html": [
       "<div>\n",
       "<style scoped>\n",
       "    .dataframe tbody tr th:only-of-type {\n",
       "        vertical-align: middle;\n",
       "    }\n",
       "\n",
       "    .dataframe tbody tr th {\n",
       "        vertical-align: top;\n",
       "    }\n",
       "\n",
       "    .dataframe thead th {\n",
       "        text-align: right;\n",
       "    }\n",
       "</style>\n",
       "<table border=\"1\" class=\"dataframe\">\n",
       "  <thead>\n",
       "    <tr style=\"text-align: right;\">\n",
       "      <th></th>\n",
       "      <th>id</th>\n",
       "      <th>query</th>\n",
       "      <th>product_title</th>\n",
       "      <th>product_description</th>\n",
       "      <th>prod_clean</th>\n",
       "      <th>desc_clean</th>\n",
       "      <th>prod_lemat</th>\n",
       "      <th>desc_lemat</th>\n",
       "      <th>prod_token</th>\n",
       "      <th>desc_token</th>\n",
       "      <th>join_text</th>\n",
       "    </tr>\n",
       "  </thead>\n",
       "  <tbody>\n",
       "    <tr>\n",
       "      <th>0</th>\n",
       "      <td>3</td>\n",
       "      <td>electric griddle</td>\n",
       "      <td>Star-Max 48 in Electric Griddle</td>\n",
       "      <td>NaN</td>\n",
       "      <td>star-max  electric griddle</td>\n",
       "      <td>none</td>\n",
       "      <td>star-max  electric griddle</td>\n",
       "      <td>none</td>\n",
       "      <td>[star-max, electric, griddle]</td>\n",
       "      <td>[none]</td>\n",
       "      <td>[star-max, electric, griddle, none]</td>\n",
       "    </tr>\n",
       "    <tr>\n",
       "      <th>1</th>\n",
       "      <td>6</td>\n",
       "      <td>phillips coffee maker</td>\n",
       "      <td>Philips SENSEO HD7810 WHITE Single Serve Pod C...</td>\n",
       "      <td>NaN</td>\n",
       "      <td>philips senseo hd white single serve pod coffe...</td>\n",
       "      <td>none</td>\n",
       "      <td>philips senseo hd white single serve pod coffe...</td>\n",
       "      <td>none</td>\n",
       "      <td>[philips, senseo, hd, white, single, serve, po...</td>\n",
       "      <td>[none]</td>\n",
       "      <td>[philips, senseo, hd, white, single, serve, po...</td>\n",
       "    </tr>\n",
       "    <tr>\n",
       "      <th>2</th>\n",
       "      <td>9</td>\n",
       "      <td>san francisco 49ers</td>\n",
       "      <td>2013 San Francisco 49ers Clock</td>\n",
       "      <td>A 2013 San Francisco 49ers clock is the ultima...</td>\n",
       "      <td>san francisco ers clock</td>\n",
       "      <td>san francisco ers clock ultimate way show tea...</td>\n",
       "      <td>san francisco ers clock</td>\n",
       "      <td>san francisco ers clock ultimate way show tea...</td>\n",
       "      <td>[san, francisco, ers, clock]</td>\n",
       "      <td>[san, francisco, ers, clock, ultimate, way, sh...</td>\n",
       "      <td>[san, francisco, ers, clock, san, francisco, e...</td>\n",
       "    </tr>\n",
       "    <tr>\n",
       "      <th>3</th>\n",
       "      <td>11</td>\n",
       "      <td>aveeno shampoo</td>\n",
       "      <td>AVEENO       10.5FLOZ NRSH SHINE SH</td>\n",
       "      <td>Water, Ammonium Lauryl Sulfate, Dimethicone, S...</td>\n",
       "      <td>aveeno .floz nrsh shine sh</td>\n",
       "      <td>water, ammonium lauryl sulfate, dimethicone, s...</td>\n",
       "      <td>aveeno .floz nrsh shine sh</td>\n",
       "      <td>water, ammonium lauryl sulfate, dimethicone, s...</td>\n",
       "      <td>[aveeno, .floz, nrsh, shine, sh]</td>\n",
       "      <td>[water, ,, ammonium, lauryl, sulfate, ,, dimet...</td>\n",
       "      <td>[aveeno, .floz, nrsh, shine, sh, water, ,, amm...</td>\n",
       "    </tr>\n",
       "    <tr>\n",
       "      <th>4</th>\n",
       "      <td>12</td>\n",
       "      <td>flea and tick control for dogs</td>\n",
       "      <td>Merial Frontline Plus Flea and Tick Control fo...</td>\n",
       "      <td>NaN</td>\n",
       "      <td>merial frontline plus flea tick control dogs p...</td>\n",
       "      <td>none</td>\n",
       "      <td>merial frontline plus flea tick control dogs p...</td>\n",
       "      <td>none</td>\n",
       "      <td>[merial, frontline, plus, flea, tick, control,...</td>\n",
       "      <td>[none]</td>\n",
       "      <td>[merial, frontline, plus, flea, tick, control,...</td>\n",
       "    </tr>\n",
       "  </tbody>\n",
       "</table>\n",
       "</div>"
      ],
      "text/plain": [
       "   id                           query  \\\n",
       "0   3                electric griddle   \n",
       "1   6           phillips coffee maker   \n",
       "2   9             san francisco 49ers   \n",
       "3  11                  aveeno shampoo   \n",
       "4  12  flea and tick control for dogs   \n",
       "\n",
       "                                       product_title  \\\n",
       "0                    Star-Max 48 in Electric Griddle   \n",
       "1  Philips SENSEO HD7810 WHITE Single Serve Pod C...   \n",
       "2                     2013 San Francisco 49ers Clock   \n",
       "3                AVEENO       10.5FLOZ NRSH SHINE SH   \n",
       "4  Merial Frontline Plus Flea and Tick Control fo...   \n",
       "\n",
       "                                 product_description  \\\n",
       "0                                                NaN   \n",
       "1                                                NaN   \n",
       "2  A 2013 San Francisco 49ers clock is the ultima...   \n",
       "3  Water, Ammonium Lauryl Sulfate, Dimethicone, S...   \n",
       "4                                                NaN   \n",
       "\n",
       "                                          prod_clean  \\\n",
       "0                         star-max  electric griddle   \n",
       "1  philips senseo hd white single serve pod coffe...   \n",
       "2                            san francisco ers clock   \n",
       "3                         aveeno .floz nrsh shine sh   \n",
       "4  merial frontline plus flea tick control dogs p...   \n",
       "\n",
       "                                          desc_clean  \\\n",
       "0                                               none   \n",
       "1                                               none   \n",
       "2   san francisco ers clock ultimate way show tea...   \n",
       "3  water, ammonium lauryl sulfate, dimethicone, s...   \n",
       "4                                               none   \n",
       "\n",
       "                                          prod_lemat  \\\n",
       "0                         star-max  electric griddle   \n",
       "1  philips senseo hd white single serve pod coffe...   \n",
       "2                            san francisco ers clock   \n",
       "3                         aveeno .floz nrsh shine sh   \n",
       "4  merial frontline plus flea tick control dogs p...   \n",
       "\n",
       "                                          desc_lemat  \\\n",
       "0                                               none   \n",
       "1                                               none   \n",
       "2   san francisco ers clock ultimate way show tea...   \n",
       "3  water, ammonium lauryl sulfate, dimethicone, s...   \n",
       "4                                               none   \n",
       "\n",
       "                                          prod_token  \\\n",
       "0                      [star-max, electric, griddle]   \n",
       "1  [philips, senseo, hd, white, single, serve, po...   \n",
       "2                       [san, francisco, ers, clock]   \n",
       "3                   [aveeno, .floz, nrsh, shine, sh]   \n",
       "4  [merial, frontline, plus, flea, tick, control,...   \n",
       "\n",
       "                                          desc_token  \\\n",
       "0                                             [none]   \n",
       "1                                             [none]   \n",
       "2  [san, francisco, ers, clock, ultimate, way, sh...   \n",
       "3  [water, ,, ammonium, lauryl, sulfate, ,, dimet...   \n",
       "4                                             [none]   \n",
       "\n",
       "                                           join_text  \n",
       "0                [star-max, electric, griddle, none]  \n",
       "1  [philips, senseo, hd, white, single, serve, po...  \n",
       "2  [san, francisco, ers, clock, san, francisco, e...  \n",
       "3  [aveeno, .floz, nrsh, shine, sh, water, ,, amm...  \n",
       "4  [merial, frontline, plus, flea, tick, control,...  "
      ]
     },
     "execution_count": 7,
     "metadata": {},
     "output_type": "execute_result"
    }
   ],
   "source": [
    "df.head()"
   ]
  },
  {
   "cell_type": "code",
   "execution_count": 8,
   "metadata": {
    "ExecuteTime": {
     "end_time": "2020-10-04T23:27:04.749490Z",
     "start_time": "2020-10-04T23:27:04.471697Z"
    },
    "execution": {
     "iopub.execute_input": "2020-10-04T19:43:07.756254Z",
     "iopub.status.busy": "2020-10-04T19:43:07.756254Z",
     "iopub.status.idle": "2020-10-04T19:43:07.968306Z",
     "shell.execute_reply": "2020-10-04T19:43:07.968306Z",
     "shell.execute_reply.started": "2020-10-04T19:43:07.756254Z"
    }
   },
   "outputs": [],
   "source": [
    "df['text'] = df['join_text'].apply(lambda x: ' '.join(map(str, x)))"
   ]
  },
  {
   "cell_type": "code",
   "execution_count": 9,
   "metadata": {
    "ExecuteTime": {
     "end_time": "2020-10-04T23:27:05.333376Z",
     "start_time": "2020-10-04T23:27:04.750488Z"
    },
    "execution": {
     "iopub.execute_input": "2020-10-04T19:43:08.456924Z",
     "iopub.status.busy": "2020-10-04T19:43:08.456924Z",
     "iopub.status.idle": "2020-10-04T19:43:09.053727Z",
     "shell.execute_reply": "2020-10-04T19:43:09.053727Z",
     "shell.execute_reply.started": "2020-10-04T19:43:08.456924Z"
    }
   },
   "outputs": [],
   "source": [
    "df['text_fin'] = (df['text'].str.split().apply(\n",
    "    lambda x: OrderedDict.fromkeys(x).keys()).str.join(' '))"
   ]
  },
  {
   "cell_type": "code",
   "execution_count": 10,
   "metadata": {
    "ExecuteTime": {
     "end_time": "2020-10-04T23:27:05.365290Z",
     "start_time": "2020-10-04T23:27:05.334365Z"
    },
    "execution": {
     "iopub.execute_input": "2020-10-04T19:43:39.754128Z",
     "iopub.status.busy": "2020-10-04T19:43:39.754128Z",
     "iopub.status.idle": "2020-10-04T19:43:39.778062Z",
     "shell.execute_reply": "2020-10-04T19:43:39.778062Z",
     "shell.execute_reply.started": "2020-10-04T19:43:39.754128Z"
    }
   },
   "outputs": [],
   "source": [
    "df_select = df[['id', 'query', 'text_fin']]"
   ]
  },
  {
   "cell_type": "code",
   "execution_count": 11,
   "metadata": {
    "ExecuteTime": {
     "end_time": "2020-10-04T23:27:05.381212Z",
     "start_time": "2020-10-04T23:27:05.366279Z"
    },
    "execution": {
     "iopub.execute_input": "2020-10-04T19:43:40.813861Z",
     "iopub.status.busy": "2020-10-04T19:43:40.813861Z",
     "iopub.status.idle": "2020-10-04T19:43:40.822838Z",
     "shell.execute_reply": "2020-10-04T19:43:40.822838Z",
     "shell.execute_reply.started": "2020-10-04T19:43:40.813861Z"
    }
   },
   "outputs": [
    {
     "data": {
      "text/html": [
       "<div>\n",
       "<style scoped>\n",
       "    .dataframe tbody tr th:only-of-type {\n",
       "        vertical-align: middle;\n",
       "    }\n",
       "\n",
       "    .dataframe tbody tr th {\n",
       "        vertical-align: top;\n",
       "    }\n",
       "\n",
       "    .dataframe thead th {\n",
       "        text-align: right;\n",
       "    }\n",
       "</style>\n",
       "<table border=\"1\" class=\"dataframe\">\n",
       "  <thead>\n",
       "    <tr style=\"text-align: right;\">\n",
       "      <th></th>\n",
       "      <th>id</th>\n",
       "      <th>query</th>\n",
       "      <th>text_fin</th>\n",
       "    </tr>\n",
       "  </thead>\n",
       "  <tbody>\n",
       "    <tr>\n",
       "      <th>0</th>\n",
       "      <td>3</td>\n",
       "      <td>electric griddle</td>\n",
       "      <td>star-max electric griddle none</td>\n",
       "    </tr>\n",
       "    <tr>\n",
       "      <th>1</th>\n",
       "      <td>6</td>\n",
       "      <td>phillips coffee maker</td>\n",
       "      <td>philips senseo hd white single serve pod coffe...</td>\n",
       "    </tr>\n",
       "    <tr>\n",
       "      <th>2</th>\n",
       "      <td>9</td>\n",
       "      <td>san francisco 49ers</td>\n",
       "      <td>san francisco ers clock ultimate way show team...</td>\n",
       "    </tr>\n",
       "    <tr>\n",
       "      <th>3</th>\n",
       "      <td>11</td>\n",
       "      <td>aveeno shampoo</td>\n",
       "      <td>aveeno .floz nrsh shine sh water , ammonium la...</td>\n",
       "    </tr>\n",
       "    <tr>\n",
       "      <th>4</th>\n",
       "      <td>12</td>\n",
       "      <td>flea and tick control for dogs</td>\n",
       "      <td>merial frontline plus flea tick control dogs p...</td>\n",
       "    </tr>\n",
       "  </tbody>\n",
       "</table>\n",
       "</div>"
      ],
      "text/plain": [
       "   id                           query  \\\n",
       "0   3                electric griddle   \n",
       "1   6           phillips coffee maker   \n",
       "2   9             san francisco 49ers   \n",
       "3  11                  aveeno shampoo   \n",
       "4  12  flea and tick control for dogs   \n",
       "\n",
       "                                            text_fin  \n",
       "0                     star-max electric griddle none  \n",
       "1  philips senseo hd white single serve pod coffe...  \n",
       "2  san francisco ers clock ultimate way show team...  \n",
       "3  aveeno .floz nrsh shine sh water , ammonium la...  \n",
       "4  merial frontline plus flea tick control dogs p...  "
      ]
     },
     "execution_count": 11,
     "metadata": {},
     "output_type": "execute_result"
    }
   ],
   "source": [
    "df_select.head()"
   ]
  },
  {
   "cell_type": "code",
   "execution_count": 12,
   "metadata": {
    "ExecuteTime": {
     "end_time": "2020-10-04T23:27:11.954344Z",
     "start_time": "2020-10-04T23:27:05.383206Z"
    },
    "execution": {
     "iopub.execute_input": "2020-10-04T19:43:41.355174Z",
     "iopub.status.busy": "2020-10-04T19:43:41.355174Z",
     "iopub.status.idle": "2020-10-04T19:43:46.469346Z",
     "shell.execute_reply": "2020-10-04T19:43:46.469346Z",
     "shell.execute_reply.started": "2020-10-04T19:43:41.355174Z"
    }
   },
   "outputs": [
    {
     "name": "stderr",
     "output_type": "stream",
     "text": [
      "C:\\Users\\sit_k\\anaconda3\\lib\\site-packages\\spacy\\util.py:275: UserWarning: [W031] Model 'en_core_web_md' (2.2.0) requires spaCy v2.2 and is incompatible with the current spaCy version (2.3.2). This may lead to unexpected results or runtime errors. To resolve this, download a newer compatible model or retrain your custom model with the current spaCy version. For more details and available updates, run: python -m spacy validate\n",
      "  warnings.warn(warn_msg)\n"
     ]
    }
   ],
   "source": [
    "nlp = spacy.load('en_core_web_md')"
   ]
  },
  {
   "cell_type": "code",
   "execution_count": 13,
   "metadata": {
    "ExecuteTime": {
     "end_time": "2020-10-04T23:29:58.428840Z",
     "start_time": "2020-10-04T23:27:11.955340Z"
    },
    "execution": {
     "iopub.execute_input": "2020-10-04T19:43:47.793052Z",
     "iopub.status.busy": "2020-10-04T19:43:47.793052Z",
     "iopub.status.idle": "2020-10-04T19:45:50.477828Z",
     "shell.execute_reply": "2020-10-04T19:45:50.477828Z",
     "shell.execute_reply.started": "2020-10-04T19:43:47.793052Z"
    }
   },
   "outputs": [
    {
     "data": {
      "application/vnd.jupyter.widget-view+json": {
       "model_id": "3296aec5f81b4fe9928978fc7ca86c42",
       "version_major": 2,
       "version_minor": 0
      },
      "text/plain": [
       "HBox(children=(FloatProgress(value=0.0, description='Pandas Apply', max=22513.0, style=ProgressStyle(descripti…"
      ]
     },
     "metadata": {},
     "output_type": "display_data"
    },
    {
     "name": "stdout",
     "output_type": "stream",
     "text": [
      "\n"
     ]
    },
    {
     "name": "stderr",
     "output_type": "stream",
     "text": [
      "<ipython-input-13-191f8010f1c8>:1: SettingWithCopyWarning: \n",
      "A value is trying to be set on a copy of a slice from a DataFrame.\n",
      "Try using .loc[row_indexer,col_indexer] = value instead\n",
      "\n",
      "See the caveats in the documentation: https://pandas.pydata.org/pandas-docs/stable/user_guide/indexing.html#returning-a-view-versus-a-copy\n",
      "  df_select['q_nlp'] = df_select['query'].swifter.apply(nlp)\n"
     ]
    }
   ],
   "source": [
    "df_select['q_nlp'] = df_select['query'].swifter.apply(nlp)"
   ]
  },
  {
   "cell_type": "code",
   "execution_count": 14,
   "metadata": {
    "ExecuteTime": {
     "end_time": "2020-10-04T23:35:40.493445Z",
     "start_time": "2020-10-04T23:29:58.429822Z"
    },
    "execution": {
     "iopub.execute_input": "2020-10-04T19:45:50.478792Z",
     "iopub.status.busy": "2020-10-04T19:45:50.478792Z",
     "iopub.status.idle": "2020-10-04T19:50:08.735987Z",
     "shell.execute_reply": "2020-10-04T19:50:08.735590Z",
     "shell.execute_reply.started": "2020-10-04T19:45:50.478792Z"
    }
   },
   "outputs": [
    {
     "data": {
      "application/vnd.jupyter.widget-view+json": {
       "model_id": "411e55c8570a4eee8addb940b326aeb4",
       "version_major": 2,
       "version_minor": 0
      },
      "text/plain": [
       "HBox(children=(FloatProgress(value=0.0, description='Pandas Apply', max=22513.0, style=ProgressStyle(descripti…"
      ]
     },
     "metadata": {},
     "output_type": "display_data"
    },
    {
     "name": "stdout",
     "output_type": "stream",
     "text": [
      "\n"
     ]
    },
    {
     "name": "stderr",
     "output_type": "stream",
     "text": [
      "<ipython-input-14-6e9b20057278>:1: SettingWithCopyWarning: \n",
      "A value is trying to be set on a copy of a slice from a DataFrame.\n",
      "Try using .loc[row_indexer,col_indexer] = value instead\n",
      "\n",
      "See the caveats in the documentation: https://pandas.pydata.org/pandas-docs/stable/user_guide/indexing.html#returning-a-view-versus-a-copy\n",
      "  df_select['t_nlp'] = df_select['text_fin'].swifter.apply(nlp)\n"
     ]
    }
   ],
   "source": [
    "df_select['t_nlp'] = df_select['text_fin'].swifter.apply(nlp)"
   ]
  },
  {
   "cell_type": "code",
   "execution_count": 15,
   "metadata": {
    "ExecuteTime": {
     "end_time": "2020-10-04T23:35:54.112588Z",
     "start_time": "2020-10-04T23:35:40.494407Z"
    },
    "execution": {
     "iopub.execute_input": "2020-10-04T19:57:00.688293Z",
     "iopub.status.busy": "2020-10-04T19:57:00.688293Z",
     "iopub.status.idle": "2020-10-04T19:57:09.972456Z",
     "shell.execute_reply": "2020-10-04T19:57:09.971591Z",
     "shell.execute_reply.started": "2020-10-04T19:57:00.688293Z"
    }
   },
   "outputs": [
    {
     "name": "stderr",
     "output_type": "stream",
     "text": [
      "<ipython-input-15-f5b4146938fb>:2: UserWarning: [W008] Evaluating Doc.similarity based on empty vectors.\n",
      "  df_select['q_nlp'][i].similarity(df_select['t_nlp'][i])\n",
      "<ipython-input-15-f5b4146938fb>:1: SettingWithCopyWarning: \n",
      "A value is trying to be set on a copy of a slice from a DataFrame.\n",
      "Try using .loc[row_indexer,col_indexer] = value instead\n",
      "\n",
      "See the caveats in the documentation: https://pandas.pydata.org/pandas-docs/stable/user_guide/indexing.html#returning-a-view-versus-a-copy\n",
      "  df_select['sim'] = [\n"
     ]
    }
   ],
   "source": [
    "df_select['sim'] = [\n",
    "    df_select['q_nlp'][i].similarity(df_select['t_nlp'][i])\n",
    "    for i in range(len(df_select))\n",
    "]"
   ]
  },
  {
   "cell_type": "code",
   "execution_count": 16,
   "metadata": {
    "ExecuteTime": {
     "end_time": "2020-10-04T23:35:55.188232Z",
     "start_time": "2020-10-04T23:35:54.113585Z"
    },
    "execution": {
     "iopub.execute_input": "2020-10-04T19:57:09.973482Z",
     "iopub.status.busy": "2020-10-04T19:57:09.973482Z",
     "iopub.status.idle": "2020-10-04T19:57:10.707098Z",
     "shell.execute_reply": "2020-10-04T19:57:10.706306Z",
     "shell.execute_reply.started": "2020-10-04T19:57:09.973482Z"
    }
   },
   "outputs": [
    {
     "name": "stderr",
     "output_type": "stream",
     "text": [
      "<ipython-input-16-fa7327db0a7f>:1: SettingWithCopyWarning: \n",
      "A value is trying to be set on a copy of a slice from a DataFrame.\n",
      "Try using .loc[row_indexer,col_indexer] = value instead\n",
      "\n",
      "See the caveats in the documentation: https://pandas.pydata.org/pandas-docs/stable/user_guide/indexing.html#returning-a-view-versus-a-copy\n",
      "  df_select['fuzzy'] = [\n"
     ]
    }
   ],
   "source": [
    "df_select['fuzzy'] = [\n",
    "    fuzz.partial_ratio(df_select['query'][x], df_select['text_fin'][x])\n",
    "    for x in range(len(df_select))\n",
    "]"
   ]
  },
  {
   "cell_type": "code",
   "execution_count": 17,
   "metadata": {
    "ExecuteTime": {
     "end_time": "2020-10-04T23:35:55.219150Z",
     "start_time": "2020-10-04T23:35:55.189230Z"
    },
    "execution": {
     "iopub.execute_input": "2020-10-04T19:57:10.708098Z",
     "iopub.status.busy": "2020-10-04T19:57:10.707098Z",
     "iopub.status.idle": "2020-10-04T19:57:10.738018Z",
     "shell.execute_reply": "2020-10-04T19:57:10.738018Z",
     "shell.execute_reply.started": "2020-10-04T19:57:10.708098Z"
    }
   },
   "outputs": [
    {
     "name": "stderr",
     "output_type": "stream",
     "text": [
      "<ipython-input-17-230b04f104ca>:1: SettingWithCopyWarning: \n",
      "A value is trying to be set on a copy of a slice from a DataFrame.\n",
      "Try using .loc[row_indexer,col_indexer] = value instead\n",
      "\n",
      "See the caveats in the documentation: https://pandas.pydata.org/pandas-docs/stable/user_guide/indexing.html#returning-a-view-versus-a-copy\n",
      "  df_select['query_len'] = df_select['query'].str.count(' ') + 1\n"
     ]
    }
   ],
   "source": [
    "df_select['query_len'] = df_select['query'].str.count(' ') + 1"
   ]
  },
  {
   "cell_type": "code",
   "execution_count": 18,
   "metadata": {
    "ExecuteTime": {
     "end_time": "2020-10-04T23:35:55.250066Z",
     "start_time": "2020-10-04T23:35:55.220147Z"
    },
    "execution": {
     "iopub.execute_input": "2020-10-04T19:57:14.682401Z",
     "iopub.status.busy": "2020-10-04T19:57:14.682401Z",
     "iopub.status.idle": "2020-10-04T19:57:14.697334Z",
     "shell.execute_reply": "2020-10-04T19:57:14.696334Z",
     "shell.execute_reply.started": "2020-10-04T19:57:14.682401Z"
    }
   },
   "outputs": [],
   "source": [
    "tup_list = pickle.load(open('data/tup_list.pkl', \"rb\"))"
   ]
  },
  {
   "cell_type": "code",
   "execution_count": 19,
   "metadata": {
    "ExecuteTime": {
     "end_time": "2020-10-04T23:36:03.755781Z",
     "start_time": "2020-10-04T23:35:55.251064Z"
    },
    "execution": {
     "iopub.execute_input": "2020-10-04T19:57:26.378557Z",
     "iopub.status.busy": "2020-10-04T19:57:26.378557Z",
     "iopub.status.idle": "2020-10-04T19:57:31.375337Z",
     "shell.execute_reply": "2020-10-04T19:57:31.374217Z",
     "shell.execute_reply.started": "2020-10-04T19:57:26.378557Z"
    }
   },
   "outputs": [
    {
     "name": "stderr",
     "output_type": "stream",
     "text": [
      "<ipython-input-19-9fd8d8d75f02>:2: SettingWithCopyWarning: \n",
      "A value is trying to be set on a copy of a slice from a DataFrame.\n",
      "Try using .loc[row_indexer,col_indexer] = value instead\n",
      "\n",
      "See the caveats in the documentation: https://pandas.pydata.org/pandas-docs/stable/user_guide/indexing.html#returning-a-view-versus-a-copy\n",
      "  df_select[term] = df_select['query'].str.contains(term)\n"
     ]
    }
   ],
   "source": [
    "for term in tup_list:\n",
    "    df_select[term] = df_select['query'].str.contains(term)"
   ]
  },
  {
   "cell_type": "code",
   "execution_count": 20,
   "metadata": {
    "ExecuteTime": {
     "end_time": "2020-10-04T23:36:09.353828Z",
     "start_time": "2020-10-04T23:36:03.756769Z"
    },
    "execution": {
     "iopub.execute_input": "2020-10-04T19:57:33.102167Z",
     "iopub.status.busy": "2020-10-04T19:57:33.101169Z",
     "iopub.status.idle": "2020-10-04T19:57:36.992501Z",
     "shell.execute_reply": "2020-10-04T19:57:36.991500Z",
     "shell.execute_reply.started": "2020-10-04T19:57:33.102167Z"
    }
   },
   "outputs": [],
   "source": [
    "df_select.set_index('id').to_csv('./data/df_test.csv')"
   ]
  }
 ],
 "metadata": {
  "kernelspec": {
   "display_name": "Python 3",
   "language": "python",
   "name": "python3"
  },
  "language_info": {
   "codemirror_mode": {
    "name": "ipython",
    "version": 3
   },
   "file_extension": ".py",
   "mimetype": "text/x-python",
   "name": "python",
   "nbconvert_exporter": "python",
   "pygments_lexer": "ipython3",
   "version": "3.8.5"
  },
  "toc": {
   "base_numbering": 1,
   "nav_menu": {},
   "number_sections": true,
   "sideBar": true,
   "skip_h1_title": false,
   "title_cell": "Table of Contents",
   "title_sidebar": "Contents",
   "toc_cell": false,
   "toc_position": {},
   "toc_section_display": true,
   "toc_window_display": false
  },
  "varInspector": {
   "cols": {
    "lenName": 16,
    "lenType": 16,
    "lenVar": 40
   },
   "kernels_config": {
    "python": {
     "delete_cmd_postfix": "",
     "delete_cmd_prefix": "del ",
     "library": "var_list.py",
     "varRefreshCmd": "print(var_dic_list())"
    },
    "r": {
     "delete_cmd_postfix": ") ",
     "delete_cmd_prefix": "rm(",
     "library": "var_list.r",
     "varRefreshCmd": "cat(var_dic_list()) "
    }
   },
   "position": {
    "height": "377.986px",
    "left": "1275.98px",
    "right": "20px",
    "top": "286.993px",
    "width": "383.75px"
   },
   "types_to_exclude": [
    "module",
    "function",
    "builtin_function_or_method",
    "instance",
    "_Feature"
   ],
   "window_display": true
  }
 },
 "nbformat": 4,
 "nbformat_minor": 4
}
